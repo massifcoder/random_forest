{
  "nbformat": 4,
  "nbformat_minor": 0,
  "metadata": {
    "colab": {
      "provenance": []
    },
    "kernelspec": {
      "name": "python3",
      "display_name": "Python 3"
    },
    "language_info": {
      "name": "python"
    }
  },
  "cells": [
    {
      "cell_type": "markdown",
      "source": [
        "# Importing Libararies Needed\n",
        "Various libraries are needed to process the data and predicit data.\n",
        "Like Numpy, Pandas and Scikit Learn Library."
      ],
      "metadata": {
        "id": "ZGUX0DkvM773"
      }
    },
    {
      "cell_type": "code",
      "execution_count": 67,
      "metadata": {
        "id": "In5YV404MySZ"
      },
      "outputs": [],
      "source": [
        "import pandas as pd\n",
        "import numpy as np\n",
        "\n",
        "# Modelling\n",
        "from sklearn.ensemble import RandomForestClassifier\n",
        "from sklearn.model_selection import cross_val_score\n",
        "from sklearn.model_selection import train_test_split\n",
        "from sklearn.metrics import classification_report, accuracy_score, precision_score, recall_score,precision_recall_curve, f1_score, confusion_matrix, matthews_corrcoef, cohen_kappa_score, confusion_matrix, ConfusionMatrixDisplay, roc_curve, average_precision_score, roc_auc_score\n",
        "\n",
        "# Data visualization using graphs.\n",
        "import matplotlib.pyplot as plt\n",
        "import graphviz\n",
        "from sklearn.tree import export_graphviz\n",
        "from IPython.display import Image"
      ]
    },
    {
      "cell_type": "markdown",
      "source": [
        "# **Importing the DataSet from google drive (Emotions.csv)**\n",
        "The dataset you provided is EEG (Electroencephalography) brainwave data that has been collected and processed to study mental and emotional states. EEG is a technique used to record electrical activity in the brain, and it can be used to investigate various aspects of cognitive and emotional processes. In this dataset, the goal is to discern whether someone is feeling good or experiencing positive, neutral, or negative emotional states based on their EEG data.\n",
        "\n",
        "#Here are the key details about the dataset:\n",
        "\n",
        "**Data Source**: The data was collected from two individuals, one male and one female, with EEG recordings. These recordings were taken for three minutes per emotional state: positive, neutral, and negative. Additionally, six minutes of resting neutral data were recorded. EEG placements were recorded using a Muse EEG headband with dry electrodes at the following locations: TP9, AF7, AF8, and TP10.\n",
        "\n",
        "**Emotional States**: The emotional states were induced using specific stimuli. These stimuli are movie scenes or clips chosen to elicit particular emotional responses. For example:\n",
        "- \"Marley and Me\" was used to induce a negative emotional state with a focus on  a death scene.\n",
        "- \"Up\" was also used for a negative emotional state, focusing on an opening death scene.\n",
        "- \"My Girl\" was used for a negative emotional state, specifically a funeral scene.\n",
        "- \"La La Land\" and \"Slow Life\" were used to induce positive emotional states with opening musical numbers and nature timelapse clips, respectively.\n",
        "- \"Funny Dogs\" was used to induce a positive emotional state with funnydog clips.\n",
        "\n",
        "**Data Processing**: The data has been processed using a method of statistical extraction, which involved resampling the EEG data to describe brainwave patterns in a temporal fashion.\n",
        "\n",
        "-**Citation**: If you intend to use this dataset for research projects, you should cite the following papers:\n",
        "- J. J. Bird, L. J. Manso, E. P. Ribiero, A. Ekart, and D. R. Faria, \"A study on mental state classification using EEG-based brain-machine interface,\" in 9th International Conference on Intelligent Systems, IEEE, 2018.\n",
        "- J. J. Bird, A. Ekart, C. D. Buckingham, and D. R. Faria, \"Mental emotional sentiment classification with an EEG-based brain-machine interface,\" in The International Conference on Digital Image and Signal Processing (DISP’19), Springer, 2019.\n",
        "\n",
        "This dataset and research were partially supported by the EIT Health GRaCE-AGE grant number 18429 awarded to C.D. Buckingham."
      ],
      "metadata": {
        "id": "CyiyZwUMOUba"
      }
    },
    {
      "cell_type": "code",
      "source": [
        "from google.colab import drive\n",
        "drive.mount('/content/drive')\n",
        "# Loading csv data from emotions.csv\n",
        "data = pd.read_csv('/content/drive/My Drive/emotions.csv')"
      ],
      "metadata": {
        "colab": {
          "base_uri": "https://localhost:8080/"
        },
        "id": "aNFbpuWKPXSE",
        "outputId": "006f6f04-7147-46b2-fa6c-fbbc19480f15"
      },
      "execution_count": 68,
      "outputs": [
        {
          "output_type": "stream",
          "name": "stdout",
          "text": [
            "Drive already mounted at /content/drive; to attempt to forcibly remount, call drive.mount(\"/content/drive\", force_remount=True).\n"
          ]
        }
      ]
    },
    {
      "cell_type": "markdown",
      "source": [
        "# Splitting data into training dataset and testing dataset.\n",
        " Firstly dataset with Ratio of **70:30** . i.e. 70% training data and 30% testing data from dataset. With random state of value 42."
      ],
      "metadata": {
        "id": "DixZ5xUYQH86"
      }
    },
    {
      "cell_type": "code",
      "source": [
        "# X will be all parameters without the result ie emotional state.\n",
        "X = data.drop('label',axis=1)\n",
        "# y will be the result i.e. the emotional state of person.\n",
        "y = data['label']\n",
        "\n",
        "X_train, X_test, y_train, y_test = train_test_split(X, y, test_size=0.3, random_state=42)\n",
        "\n",
        "# Data Visualization\n",
        "print(\"Data parameter and target looks like this:\")\n",
        "print(data.head())\n",
        "data['label'].value_counts().plot.bar()"
      ],
      "metadata": {
        "id": "UqBJbdjDQqeB",
        "colab": {
          "base_uri": "https://localhost:8080/",
          "height": 902
        },
        "outputId": "0e315a96-6918-4ae3-e01b-682f280ce50c"
      },
      "execution_count": 69,
      "outputs": [
        {
          "output_type": "stream",
          "name": "stdout",
          "text": [
            "Data parameter and target looks like this:\n",
            "   # mean_0_a  mean_1_a  mean_2_a  mean_3_a  mean_4_a  mean_d_0_a  mean_d_1_a  \\\n",
            "0        4.62      30.3    -356.0      15.6      26.3       1.070       0.411   \n",
            "1       28.80      33.1      32.0      25.8      22.8       6.550       1.680   \n",
            "2        8.90      29.4    -416.0      16.7      23.7      79.900       3.360   \n",
            "3       14.90      31.6    -143.0      19.8      24.3      -0.584      -0.284   \n",
            "4       28.30      31.3      45.2      27.3      24.5      34.800      -5.790   \n",
            "\n",
            "   mean_d_2_a  mean_d_3_a  mean_d_4_a  ...  fft_741_b  fft_742_b  fft_743_b  \\\n",
            "0      -15.70        2.06        3.15  ...       23.5       20.3       20.3   \n",
            "1        2.88        3.83       -4.82  ...      -23.3      -21.8      -21.8   \n",
            "2       90.20       89.90        2.03  ...      462.0     -233.0     -233.0   \n",
            "3        8.82        2.30       -1.97  ...      299.0     -243.0     -243.0   \n",
            "4        3.06       41.40        5.52  ...       12.0       38.1       38.1   \n",
            "\n",
            "   fft_744_b  fft_745_b  fft_746_b  fft_747_b  fft_748_b  fft_749_b     label  \n",
            "0       23.5     -215.0     280.00    -162.00    -162.00     280.00  NEGATIVE  \n",
            "1      -23.3      182.0       2.57     -31.60     -31.60       2.57   NEUTRAL  \n",
            "2      462.0     -267.0     281.00    -148.00    -148.00     281.00  POSITIVE  \n",
            "3      299.0      132.0     -12.40       9.53       9.53     -12.40  POSITIVE  \n",
            "4       12.0      119.0     -17.60      23.90      23.90     -17.60   NEUTRAL  \n",
            "\n",
            "[5 rows x 2549 columns]\n"
          ]
        },
        {
          "output_type": "execute_result",
          "data": {
            "text/plain": [
              "<Axes: >"
            ]
          },
          "metadata": {},
          "execution_count": 69
        },
        {
          "output_type": "display_data",
          "data": {
            "text/plain": [
              "<Figure size 640x480 with 1 Axes>"
            ],
            "image/png": "[encoded data removed]"
          },
          "metadata": {}
        }
      ]
    },
    {
      "cell_type": "markdown",
      "source": [
        "# Training model using Random Forest Classification.\n",
        "Using n_estimator = 10 i.e. number of decision trees to form, max_depth = 20 i.e. max height decision trees can take and build children nodes, min_samples_split=2 and min_samples_leaf=1."
      ],
      "metadata": {
        "id": "fFLcVB-zSyfu"
      }
    },
    {
      "cell_type": "code",
      "source": [
        "# Creating object for random forest classifier.\n",
        "rf = RandomForestClassifier(\n",
        "    n_estimators=10,\n",
        "    max_depth=20,\n",
        "    min_samples_split=2,\n",
        "    min_samples_leaf=1\n",
        ")\n",
        "\n",
        "# Fitting the training dataset.\n",
        "rf.fit(X_train, y_train)"
      ],
      "metadata": {
        "id": "3rw_iEOUTilh",
        "colab": {
          "base_uri": "https://localhost:8080/",
          "height": 74
        },
        "outputId": "3c3b5a1f-6985-4e26-bd8d-a5170710a4d1"
      },
      "execution_count": 70,
      "outputs": [
        {
          "output_type": "execute_result",
          "data": {
            "text/plain": [
              "RandomForestClassifier(max_depth=20, n_estimators=10)"
            ],
            "text/html": [
              "<style>#sk-container-id-4 {color: black;background-color: white;}#sk-container-id-4 pre{padding: 0;}#sk-container-id-4 div.sk-toggleable {background-color: white;}#sk-container-id-4 label.sk-toggleable__label {cursor: pointer;display: block;width: 100%;margin-bottom: 0;padding: 0.3em;box-sizing: border-box;text-align: center;}#sk-container-id-4 label.sk-toggleable__label-arrow:before {content: \"▸\";float: left;margin-right: 0.25em;color: #696969;}#sk-container-id-4 label.sk-toggleable__label-arrow:hover:before {color: black;}#sk-container-id-4 div.sk-estimator:hover label.sk-toggleable__label-arrow:before {color: black;}#sk-container-id-4 div.sk-toggleable__content {max-height: 0;max-width: 0;overflow: hidden;text-align: left;background-color: #f0f8ff;}#sk-container-id-4 div.sk-toggleable__content pre {margin: 0.2em;color: black;border-radius: 0.25em;background-color: #f0f8ff;}#sk-container-id-4 input.sk-toggleable__control:checked~div.sk-toggleable__content {max-height: 200px;max-width: 100%;overflow: auto;}#sk-container-id-4 input.sk-toggleable__control:checked~label.sk-toggleable__label-arrow:before {content: \"▾\";}#sk-container-id-4 div.sk-estimator input.sk-toggleable__control:checked~label.sk-toggleable__label {background-color: #d4ebff;}#sk-container-id-4 div.sk-label input.sk-toggleable__control:checked~label.sk-toggleable__label {background-color: #d4ebff;}#sk-container-id-4 input.sk-hidden--visually {border: 0;clip: rect(1px 1px 1px 1px);clip: rect(1px, 1px, 1px, 1px);height: 1px;margin: -1px;overflow: hidden;padding: 0;position: absolute;width: 1px;}#sk-container-id-4 div.sk-estimator {font-family: monospace;background-color: #f0f8ff;border: 1px dotted black;border-radius: 0.25em;box-sizing: border-box;margin-bottom: 0.5em;}#sk-container-id-4 div.sk-estimator:hover {background-color: #d4ebff;}#sk-container-id-4 div.sk-parallel-item::after {content: \"\";width: 100%;border-bottom: 1px solid gray;flex-grow: 1;}#sk-container-id-4 div.sk-label:hover label.sk-toggleable__label {background-color: #d4ebff;}#sk-container-id-4 div.sk-serial::before {content: \"\";position: absolute;border-left: 1px solid gray;box-sizing: border-box;top: 0;bottom: 0;left: 50%;z-index: 0;}#sk-container-id-4 div.sk-serial {display: flex;flex-direction: column;align-items: center;background-color: white;padding-right: 0.2em;padding-left: 0.2em;position: relative;}#sk-container-id-4 div.sk-item {position: relative;z-index: 1;}#sk-container-id-4 div.sk-parallel {display: flex;align-items: stretch;justify-content: center;background-color: white;position: relative;}#sk-container-id-4 div.sk-item::before, #sk-container-id-4 div.sk-parallel-item::before {content: \"\";position: absolute;border-left: 1px solid gray;box-sizing: border-box;top: 0;bottom: 0;left: 50%;z-index: -1;}#sk-container-id-4 div.sk-parallel-item {display: flex;flex-direction: column;z-index: 1;position: relative;background-color: white;}#sk-container-id-4 div.sk-parallel-item:first-child::after {align-self: flex-end;width: 50%;}#sk-container-id-4 div.sk-parallel-item:last-child::after {align-self: flex-start;width: 50%;}#sk-container-id-4 div.sk-parallel-item:only-child::after {width: 0;}#sk-container-id-4 div.sk-dashed-wrapped {border: 1px dashed gray;margin: 0 0.4em 0.5em 0.4em;box-sizing: border-box;padding-bottom: 0.4em;background-color: white;}#sk-container-id-4 div.sk-label label {font-family: monospace;font-weight: bold;display: inline-block;line-height: 1.2em;}#sk-container-id-4 div.sk-label-container {text-align: center;}#sk-container-id-4 div.sk-container {/* jupyter's `normalize.less` sets `[hidden] { display: none; }` but bootstrap.min.css set `[hidden] { display: none !important; }` so we also need the `!important` here to be able to override the default hidden behavior on the sphinx rendered scikit-learn.org. See: https://github.com/scikit-learn/scikit-learn/issues/21755 */display: inline-block !important;position: relative;}#sk-container-id-4 div.sk-text-repr-fallback {display: none;}</style><div id=\"sk-container-id-4\" class=\"sk-top-container\"><div class=\"sk-text-repr-fallback\"><pre>RandomForestClassifier(max_depth=20, n_estimators=10)</pre><b>In a Jupyter environment, please rerun this cell to show the HTML representation or trust the notebook. <br />On GitHub, the HTML representation is unable to render, please try loading this page with nbviewer.org.</b></div><div class=\"sk-container\" hidden><div class=\"sk-item\"><div class=\"sk-estimator sk-toggleable\"><input class=\"sk-toggleable__control sk-hidden--visually\" id=\"sk-estimator-id-4\" type=\"checkbox\" checked><label for=\"sk-estimator-id-4\" class=\"sk-toggleable__label sk-toggleable__label-arrow\">RandomForestClassifier</label><div class=\"sk-toggleable__content\"><pre>RandomForestClassifier(max_depth=20, n_estimators=10)</pre></div></div></div></div></div>"
            ]
          },
          "metadata": {},
          "execution_count": 70
        }
      ]
    },
    {
      "cell_type": "markdown",
      "source": [
        "# **Predicting the Emotion is 70:30 datset.**\n",
        "Predict the data using X_test dataset."
      ],
      "metadata": {
        "id": "elVp75I3Ul7w"
      }
    },
    {
      "cell_type": "code",
      "source": [
        "# Predicting the emotion of the user.\n",
        "y_pred = rf.predict(X_test)"
      ],
      "metadata": {
        "id": "YNN3rgU4U2gc"
      },
      "execution_count": 71,
      "outputs": []
    },
    {
      "cell_type": "markdown",
      "source": [
        "# Evaluation metrices:"
      ],
      "metadata": {
        "id": "sBDzZCu0VMUh"
      }
    },
    {
      "cell_type": "markdown",
      "source": [
        "**Accuracy**"
      ],
      "metadata": {
        "id": "agC-HLzzVvs3"
      }
    },
    {
      "cell_type": "code",
      "source": [
        "# Accuracy\n",
        "accuracy_70_30 = accuracy_score(y_test, y_pred)\n",
        "print(\"Accuracy obtained in 70:30 datasplit is : \",accuracy_70_30)"
      ],
      "metadata": {
        "id": "EiXe1rs-Vq01",
        "colab": {
          "base_uri": "https://localhost:8080/"
        },
        "outputId": "5ac2c155-57d9-42e8-b7ee-9f6c36391fcb"
      },
      "execution_count": 72,
      "outputs": [
        {
          "output_type": "stream",
          "name": "stdout",
          "text": [
            "Accuracy obtained in 70:30 datasplit is :  0.9640625\n"
          ]
        }
      ]
    },
    {
      "cell_type": "markdown",
      "source": [
        "**Precision**"
      ],
      "metadata": {
        "id": "n4J2xsxJazfC"
      }
    },
    {
      "cell_type": "code",
      "source": [
        "# Precision\n",
        "precision_70_30 = precision_score(y_test, y_pred, average='macro')\n",
        "print(\"Precsion obtained in 70:30 datasplit is :\",precision_70_30)"
      ],
      "metadata": {
        "id": "um8qHFDBWKM_",
        "colab": {
          "base_uri": "https://localhost:8080/"
        },
        "outputId": "b2ffa83c-549d-430f-992f-4b1a405b70ac"
      },
      "execution_count": 73,
      "outputs": [
        {
          "output_type": "stream",
          "name": "stdout",
          "text": [
            "Precsion obtained in 70:30 datasplit is : 0.9643381769752409\n"
          ]
        }
      ]
    },
    {
      "cell_type": "markdown",
      "source": [
        "**Recall Value**"
      ],
      "metadata": {
        "id": "CozpXrN-WYj_"
      }
    },
    {
      "cell_type": "code",
      "source": [
        "# Recall Value\n",
        "recall_70_30 = recall_score(y_test, y_pred, average='macro')\n",
        "print(\"Recall value obtained in 70:30 datasplit is :\",recall_70_30)"
      ],
      "metadata": {
        "id": "UHspbbmRWbb0",
        "colab": {
          "base_uri": "https://localhost:8080/"
        },
        "outputId": "a6f5304a-e9fc-4e2f-af3c-7c422ff44ca6"
      },
      "execution_count": 74,
      "outputs": [
        {
          "output_type": "stream",
          "name": "stdout",
          "text": [
            "Recall value obtained in 70:30 datasplit is : 0.9637093428505098\n"
          ]
        }
      ]
    },
    {
      "cell_type": "markdown",
      "source": [
        "**F1 Score**"
      ],
      "metadata": {
        "id": "2w7FHA_tXJQk"
      }
    },
    {
      "cell_type": "code",
      "source": [
        "# F1 Score\n",
        "f1_70_30 = f1_score(y_test, y_pred,average='macro')\n",
        "print(\"Recall value obtained in 70:30 datasplit is :\",f1_70_30)"
      ],
      "metadata": {
        "id": "dgiTgZyiXJlx",
        "colab": {
          "base_uri": "https://localhost:8080/"
        },
        "outputId": "02ec16fe-95f3-4dfc-fd69-5c4e64327bd3"
      },
      "execution_count": 75,
      "outputs": [
        {
          "output_type": "stream",
          "name": "stdout",
          "text": [
            "Recall value obtained in 70:30 datasplit is : 0.9638249422920954\n"
          ]
        }
      ]
    },
    {
      "cell_type": "markdown",
      "source": [
        "**AUCROC**"
      ],
      "metadata": {
        "id": "xnSSrEVlWsh0"
      }
    },
    {
      "cell_type": "code",
      "source": [
        "# Get predicted class probabilities for the test set\n",
        "y_pred_prob = rf.predict_proba(X_test)\n",
        "# Compute the false positive rate (FPR)\n",
        "roc_auc = roc_auc_score(y_test, y_pred_prob, multi_class='ovr')\n",
        "print(roc_auc)"
      ],
      "metadata": {
        "id": "trZJDtySWsyo",
        "colab": {
          "base_uri": "https://localhost:8080/"
        },
        "outputId": "82dd0eae-6b89-4180-92fb-c1eb211f7232"
      },
      "execution_count": 76,
      "outputs": [
        {
          "output_type": "stream",
          "name": "stdout",
          "text": [
            "0.9971618498629149\n"
          ]
        }
      ]
    },
    {
      "cell_type": "markdown",
      "source": [
        "\n",
        "**Confusion Matrix and its visualization.**"
      ],
      "metadata": {
        "id": "q2hW0jikWtjU"
      }
    },
    {
      "cell_type": "code",
      "source": [
        "# Confusion Matrix\n",
        "cm = confusion_matrix(y_test, y_pred)\n",
        "print(\"Confusion matrix for 70:30 datasplit:\")\n",
        "print(cm)\n",
        "\n",
        "# Visualizing confusion Matrix.\n",
        "ConfusionMatrixDisplay(confusion_matrix=cm).plot()"
      ],
      "metadata": {
        "id": "bLu4fYKaWtws",
        "colab": {
          "base_uri": "https://localhost:8080/",
          "height": 536
        },
        "outputId": "365aba58-5cfd-4a0a-cabb-3b577e29716f"
      },
      "execution_count": 77,
      "outputs": [
        {
          "output_type": "stream",
          "name": "stdout",
          "text": [
            "Confusion matrix for 70:30 datasplit:\n",
            "[[211   0   5]\n",
            " [  0 212   3]\n",
            " [ 13   2 194]]\n"
          ]
        },
        {
          "output_type": "execute_result",
          "data": {
            "text/plain": [
              "<sklearn.metrics._plot.confusion_matrix.ConfusionMatrixDisplay at 0x7bebf68182e0>"
            ]
          },
          "metadata": {},
          "execution_count": 77
        },
        {
          "output_type": "display_data",
          "data": {
            "text/plain": [
              "<Figure size 640x480 with 2 Axes>"
            ],
            "image/png": "[encoded data removed]"
          },
          "metadata": {}
        }
      ]
    },
    {
      "cell_type": "markdown",
      "source": [
        "\n",
        "**Mathews Correlation Coefficient**"
      ],
      "metadata": {
        "id": "8f-OYS3FW7xJ"
      }
    },
    {
      "cell_type": "code",
      "source": [
        "# Matthews Correlation Coefficient with 'macro' averaging\n",
        "mcc_macro = matthews_corrcoef(y_test, y_pred)\n",
        "print(\"Matthews Correlation Coefficient (Macro):\", mcc_macro)"
      ],
      "metadata": {
        "id": "xXVZpjkUW8DS",
        "colab": {
          "base_uri": "https://localhost:8080/"
        },
        "outputId": "7f85b01f-aa68-4db1-cd8a-6a22bb87e505"
      },
      "execution_count": 78,
      "outputs": [
        {
          "output_type": "stream",
          "name": "stdout",
          "text": [
            "Matthews Correlation Coefficient (Macro): 0.9462758713643655\n"
          ]
        }
      ]
    },
    {
      "cell_type": "markdown",
      "source": [
        "**Cohen's Kappa**"
      ],
      "metadata": {
        "id": "KoChJcLgW8PG"
      }
    },
    {
      "cell_type": "code",
      "source": [
        "# Cohen's Kappa with 'macro' averaging\n",
        "kappa_macro = cohen_kappa_score(y_test, y_pred)\n",
        "print(\"Cohen's Kappa (Macro):\", kappa_macro)"
      ],
      "metadata": {
        "id": "zpztK5uhW8bd",
        "colab": {
          "base_uri": "https://localhost:8080/"
        },
        "outputId": "1f1fbcd1-7d38-4278-f663-00d35098af39"
      },
      "execution_count": 79,
      "outputs": [
        {
          "output_type": "stream",
          "name": "stdout",
          "text": [
            "Cohen's Kappa (Macro): 0.9460782158922737\n"
          ]
        }
      ]
    },
    {
      "cell_type": "markdown",
      "source": [
        "# Classification Report"
      ],
      "metadata": {
        "id": "u3odgP5CkR_Z"
      }
    },
    {
      "cell_type": "code",
      "source": [
        "report = classification_report(y_test, y_pred)\n",
        "print(report)"
      ],
      "metadata": {
        "colab": {
          "base_uri": "https://localhost:8080/"
        },
        "id": "O5QuTfHLkU47",
        "outputId": "ccf99ec4-a529-4e48-b740-3f4649b5fafa"
      },
      "execution_count": 80,
      "outputs": [
        {
          "output_type": "stream",
          "name": "stdout",
          "text": [
            "              precision    recall  f1-score   support\n",
            "\n",
            "    NEGATIVE       0.94      0.98      0.96       216\n",
            "     NEUTRAL       0.99      0.99      0.99       215\n",
            "    POSITIVE       0.96      0.93      0.94       209\n",
            "\n",
            "    accuracy                           0.96       640\n",
            "   macro avg       0.96      0.96      0.96       640\n",
            "weighted avg       0.96      0.96      0.96       640\n",
            "\n"
          ]
        }
      ]
    },
    {
      "cell_type": "markdown",
      "source": [
        "# Decision Tree Visualization"
      ],
      "metadata": {
        "id": "GVnLhhOOX3M-"
      }
    },
    {
      "cell_type": "code",
      "source": [
        "# Decision trees from the forest\n",
        "\n",
        "for i in range(3):\n",
        "    tree = rf.estimators_[i]\n",
        "    dot_data = export_graphviz(tree,\n",
        "                               feature_names=X_train.columns,\n",
        "                               filled=True,\n",
        "                               max_depth=2,\n",
        "                               impurity=False,\n",
        "                               proportion=True)\n",
        "    graph = graphviz.Source(dot_data)\n",
        "    display(graph)"
      ],
      "metadata": {
        "id": "wc6CaraMX3cm",
        "colab": {
          "base_uri": "https://localhost:8080/",
          "height": 1000
        },
        "outputId": "1f210a55-087d-4042-f6b6-1c2b01bda3d5"
      },
      "execution_count": 81,
      "outputs": [
        {
          "output_type": "display_data",
          "data": {
            "image/svg+xml": "<?xml version=\"1.0\" encoding=\"UTF-8\" standalone=\"no\"?>\n<!DOCTYPE svg PUBLIC \"-//W3C//DTD SVG 1.1//EN\"\n \"http://www.w3.org/Graphics/SVG/1.1/DTD/svg11.dtd\">\n<!-- Generated by graphviz version 2.43.0 (0)\n -->\n<!-- Title: Tree Pages: 1 -->\n<svg width=\"789pt\" height=\"311pt\"\n viewBox=\"0.00 0.00 788.50 311.00\" xmlns=\"http://www.w3.org/2000/svg\" xmlns:xlink=\"http://www.w3.org/1999/xlink\">\n<g id=\"graph0\" class=\"graph\" transform=\"scale(1 1) rotate(0) translate(4 307)\">\n<title>Tree</title>\n<polygon fill=\"white\" stroke=\"transparent\" points=\"-4,4 -4,-307 784.5,-307 784.5,4 -4,4\"/>\n<!-- 0 -->\n<g id=\"node1\" class=\"node\">\n<title>0</title>\n<polygon fill=\"#fffefe\" stroke=\"black\" points=\"477,-303 296,-303 296,-250 477,-250 477,-303\"/>\n<text text-anchor=\"middle\" x=\"386.5\" y=\"-287.8\" font-family=\"Helvetica,sans-Serif\" font-size=\"14.00\">min_q_18_a &lt;= 3.555</text>\n<text text-anchor=\"middle\" x=\"386.5\" y=\"-272.8\" font-family=\"Helvetica,sans-Serif\" font-size=\"14.00\">samples = 100.0%</text>\n<text text-anchor=\"middle\" x=\"386.5\" y=\"-257.8\" font-family=\"Helvetica,sans-Serif\" font-size=\"14.00\">value = [0.336, 0.33, 0.334]</text>\n</g>\n<!-- 1 -->\n<g id=\"node2\" class=\"node\">\n<title>1</title>\n<polygon fill=\"#fcf1ea\" stroke=\"black\" points=\"377.5,-214 189.5,-214 189.5,-161 377.5,-161 377.5,-214\"/>\n<text text-anchor=\"middle\" x=\"283.5\" y=\"-198.8\" font-family=\"Helvetica,sans-Serif\" font-size=\"14.00\">min_q_17_b &lt;= &#45;448.5</text>\n<text text-anchor=\"middle\" x=\"283.5\" y=\"-183.8\" font-family=\"Helvetica,sans-Serif\" font-size=\"14.00\">samples = 63.8%</text>\n<text text-anchor=\"middle\" x=\"283.5\" y=\"-168.8\" font-family=\"Helvetica,sans-Serif\" font-size=\"14.00\">value = [0.512, 0.035, 0.453]</text>\n</g>\n<!-- 0&#45;&gt;1 -->\n<g id=\"edge1\" class=\"edge\">\n<title>0&#45;&gt;1</title>\n<path fill=\"none\" stroke=\"black\" d=\"M356.15,-249.87C345.35,-240.75 333.05,-230.35 321.68,-220.75\"/>\n<polygon fill=\"black\" stroke=\"black\" points=\"323.88,-218.03 313.99,-214.25 319.37,-223.38 323.88,-218.03\"/>\n<text text-anchor=\"middle\" x=\"316.08\" y=\"-235.46\" font-family=\"Helvetica,sans-Serif\" font-size=\"14.00\">True</text>\n</g>\n<!-- 82 -->\n<g id=\"node9\" class=\"node\">\n<title>82</title>\n<polygon fill=\"#55e993\" stroke=\"black\" points=\"583.5,-214 395.5,-214 395.5,-161 583.5,-161 583.5,-214\"/>\n<text text-anchor=\"middle\" x=\"489.5\" y=\"-198.8\" font-family=\"Helvetica,sans-Serif\" font-size=\"14.00\">logm_9_b &lt;= 7.83</text>\n<text text-anchor=\"middle\" x=\"489.5\" y=\"-183.8\" font-family=\"Helvetica,sans-Serif\" font-size=\"14.00\">samples = 36.2%</text>\n<text text-anchor=\"middle\" x=\"489.5\" y=\"-168.8\" font-family=\"Helvetica,sans-Serif\" font-size=\"14.00\">value = [0.011, 0.876, 0.113]</text>\n</g>\n<!-- 0&#45;&gt;82 -->\n<g id=\"edge8\" class=\"edge\">\n<title>0&#45;&gt;82</title>\n<path fill=\"none\" stroke=\"black\" d=\"M416.85,-249.87C427.65,-240.75 439.95,-230.35 451.32,-220.75\"/>\n<polygon fill=\"black\" stroke=\"black\" points=\"453.63,-223.38 459.01,-214.25 449.12,-218.03 453.63,-223.38\"/>\n<text text-anchor=\"middle\" x=\"456.92\" y=\"-235.46\" font-family=\"Helvetica,sans-Serif\" font-size=\"14.00\">False</text>\n</g>\n<!-- 2 -->\n<g id=\"node3\" class=\"node\">\n<title>2</title>\n<polygon fill=\"#e89050\" stroke=\"black\" points=\"173,-125 0,-125 0,-72 173,-72 173,-125\"/>\n<text text-anchor=\"middle\" x=\"86.5\" y=\"-109.8\" font-family=\"Helvetica,sans-Serif\" font-size=\"14.00\">covmat_20_b &lt;= 8670.0</text>\n<text text-anchor=\"middle\" x=\"86.5\" y=\"-94.8\" font-family=\"Helvetica,sans-Serif\" font-size=\"14.00\">samples = 35.6%</text>\n<text text-anchor=\"middle\" x=\"86.5\" y=\"-79.8\" font-family=\"Helvetica,sans-Serif\" font-size=\"14.00\">value = [0.894, 0.0, 0.106]</text>\n</g>\n<!-- 1&#45;&gt;2 -->\n<g id=\"edge2\" class=\"edge\">\n<title>1&#45;&gt;2</title>\n<path fill=\"none\" stroke=\"black\" d=\"M225.72,-160.98C203.07,-150.98 176.93,-139.44 153.46,-129.07\"/>\n<polygon fill=\"black\" stroke=\"black\" points=\"154.84,-125.85 144.27,-125.01 152.01,-132.26 154.84,-125.85\"/>\n</g>\n<!-- 55 -->\n<g id=\"node6\" class=\"node\">\n<title>55</title>\n<polygon fill=\"#8e4de8\" stroke=\"black\" points=\"379.5,-125 191.5,-125 191.5,-72 379.5,-72 379.5,-125\"/>\n<text text-anchor=\"middle\" x=\"285.5\" y=\"-109.8\" font-family=\"Helvetica,sans-Serif\" font-size=\"14.00\">max_q_3_a &lt;= 37.1</text>\n<text text-anchor=\"middle\" x=\"285.5\" y=\"-94.8\" font-family=\"Helvetica,sans-Serif\" font-size=\"14.00\">samples = 28.2%</text>\n<text text-anchor=\"middle\" x=\"285.5\" y=\"-79.8\" font-family=\"Helvetica,sans-Serif\" font-size=\"14.00\">value = [0.012, 0.081, 0.907]</text>\n</g>\n<!-- 1&#45;&gt;55 -->\n<g id=\"edge5\" class=\"edge\">\n<title>1&#45;&gt;55</title>\n<path fill=\"none\" stroke=\"black\" d=\"M284.09,-160.87C284.27,-152.89 284.48,-143.93 284.68,-135.38\"/>\n<polygon fill=\"black\" stroke=\"black\" points=\"288.18,-135.33 284.91,-125.25 281.18,-135.17 288.18,-135.33\"/>\n</g>\n<!-- 3 -->\n<g id=\"node4\" class=\"node\">\n<title>3</title>\n<polygon fill=\"#c0c0c0\" stroke=\"black\" points=\"77.5,-36 23.5,-36 23.5,0 77.5,0 77.5,-36\"/>\n<text text-anchor=\"middle\" x=\"50.5\" y=\"-14.3\" font-family=\"Helvetica,sans-Serif\" font-size=\"14.00\">(...)</text>\n</g>\n<!-- 2&#45;&gt;3 -->\n<g id=\"edge3\" class=\"edge\">\n<title>2&#45;&gt;3</title>\n<path fill=\"none\" stroke=\"black\" d=\"M74.71,-71.8C70.84,-63.35 66.53,-53.95 62.63,-45.45\"/>\n<polygon fill=\"black\" stroke=\"black\" points=\"65.8,-43.96 58.45,-36.33 59.43,-46.88 65.8,-43.96\"/>\n</g>\n<!-- 6 -->\n<g id=\"node5\" class=\"node\">\n<title>6</title>\n<polygon fill=\"#c0c0c0\" stroke=\"black\" points=\"149.5,-36 95.5,-36 95.5,0 149.5,0 149.5,-36\"/>\n<text text-anchor=\"middle\" x=\"122.5\" y=\"-14.3\" font-family=\"Helvetica,sans-Serif\" font-size=\"14.00\">(...)</text>\n</g>\n<!-- 2&#45;&gt;6 -->\n<g id=\"edge4\" class=\"edge\">\n<title>2&#45;&gt;6</title>\n<path fill=\"none\" stroke=\"black\" d=\"M98.29,-71.8C102.16,-63.35 106.47,-53.95 110.37,-45.45\"/>\n<polygon fill=\"black\" stroke=\"black\" points=\"113.57,-46.88 114.55,-36.33 107.2,-43.96 113.57,-46.88\"/>\n</g>\n<!-- 56 -->\n<g id=\"node7\" class=\"node\">\n<title>56</title>\n<polygon fill=\"#c0c0c0\" stroke=\"black\" points=\"291.5,-36 237.5,-36 237.5,0 291.5,0 291.5,-36\"/>\n<text text-anchor=\"middle\" x=\"264.5\" y=\"-14.3\" font-family=\"Helvetica,sans-Serif\" font-size=\"14.00\">(...)</text>\n</g>\n<!-- 55&#45;&gt;56 -->\n<g id=\"edge6\" class=\"edge\">\n<title>55&#45;&gt;56</title>\n<path fill=\"none\" stroke=\"black\" d=\"M278.62,-71.8C276.41,-63.53 273.96,-54.35 271.72,-46\"/>\n<polygon fill=\"black\" stroke=\"black\" points=\"275.1,-45.09 269.14,-36.33 268.34,-46.9 275.1,-45.09\"/>\n</g>\n<!-- 71 -->\n<g id=\"node8\" class=\"node\">\n<title>71</title>\n<polygon fill=\"#c0c0c0\" stroke=\"black\" points=\"363.5,-36 309.5,-36 309.5,0 363.5,0 363.5,-36\"/>\n<text text-anchor=\"middle\" x=\"336.5\" y=\"-14.3\" font-family=\"Helvetica,sans-Serif\" font-size=\"14.00\">(...)</text>\n</g>\n<!-- 55&#45;&gt;71 -->\n<g id=\"edge7\" class=\"edge\">\n<title>55&#45;&gt;71</title>\n<path fill=\"none\" stroke=\"black\" d=\"M302.2,-71.8C307.81,-63.17 314.06,-53.54 319.67,-44.9\"/>\n<polygon fill=\"black\" stroke=\"black\" points=\"322.73,-46.62 325.24,-36.33 316.86,-42.81 322.73,-46.62\"/>\n</g>\n<!-- 83 -->\n<g id=\"node10\" class=\"node\">\n<title>83</title>\n<polygon fill=\"#3ee684\" stroke=\"black\" points=\"574,-125 401,-125 401,-72 574,-72 574,-125\"/>\n<text text-anchor=\"middle\" x=\"487.5\" y=\"-109.8\" font-family=\"Helvetica,sans-Serif\" font-size=\"14.00\"># mean_0_a &lt;= 18.6</text>\n<text text-anchor=\"middle\" x=\"487.5\" y=\"-94.8\" font-family=\"Helvetica,sans-Serif\" font-size=\"14.00\">samples = 31.9%</text>\n<text text-anchor=\"middle\" x=\"487.5\" y=\"-79.8\" font-family=\"Helvetica,sans-Serif\" font-size=\"14.00\">value = [0.0, 0.976, 0.024]</text>\n</g>\n<!-- 82&#45;&gt;83 -->\n<g id=\"edge9\" class=\"edge\">\n<title>82&#45;&gt;83</title>\n<path fill=\"none\" stroke=\"black\" d=\"M488.91,-160.87C488.73,-152.89 488.52,-143.93 488.32,-135.38\"/>\n<polygon fill=\"black\" stroke=\"black\" points=\"491.82,-135.17 488.09,-125.25 484.82,-135.33 491.82,-135.17\"/>\n</g>\n<!-- 88 -->\n<g id=\"node13\" class=\"node\">\n<title>88</title>\n<polygon fill=\"#975cea\" stroke=\"black\" points=\"780.5,-125 592.5,-125 592.5,-72 780.5,-72 780.5,-125\"/>\n<text text-anchor=\"middle\" x=\"686.5\" y=\"-109.8\" font-family=\"Helvetica,sans-Serif\" font-size=\"14.00\">fft_707_a &lt;= 78.6</text>\n<text text-anchor=\"middle\" x=\"686.5\" y=\"-94.8\" font-family=\"Helvetica,sans-Serif\" font-size=\"14.00\">samples = 4.2%</text>\n<text text-anchor=\"middle\" x=\"686.5\" y=\"-79.8\" font-family=\"Helvetica,sans-Serif\" font-size=\"14.00\">value = [0.105, 0.053, 0.842]</text>\n</g>\n<!-- 82&#45;&gt;88 -->\n<g id=\"edge12\" class=\"edge\">\n<title>82&#45;&gt;88</title>\n<path fill=\"none\" stroke=\"black\" d=\"M547.28,-160.98C569.93,-150.98 596.07,-139.44 619.54,-129.07\"/>\n<polygon fill=\"black\" stroke=\"black\" points=\"620.99,-132.26 628.73,-125.01 618.16,-125.85 620.99,-132.26\"/>\n</g>\n<!-- 84 -->\n<g id=\"node11\" class=\"node\">\n<title>84</title>\n<polygon fill=\"#c0c0c0\" stroke=\"black\" points=\"462.5,-36 408.5,-36 408.5,0 462.5,0 462.5,-36\"/>\n<text text-anchor=\"middle\" x=\"435.5\" y=\"-14.3\" font-family=\"Helvetica,sans-Serif\" font-size=\"14.00\">(...)</text>\n</g>\n<!-- 83&#45;&gt;84 -->\n<g id=\"edge10\" class=\"edge\">\n<title>83&#45;&gt;84</title>\n<path fill=\"none\" stroke=\"black\" d=\"M470.47,-71.8C464.76,-63.17 458.38,-53.54 452.66,-44.9\"/>\n<polygon fill=\"black\" stroke=\"black\" points=\"455.42,-42.73 446.98,-36.33 449.58,-46.6 455.42,-42.73\"/>\n</g>\n<!-- 87 -->\n<g id=\"node12\" class=\"node\">\n<title>87</title>\n<polygon fill=\"#c0c0c0\" stroke=\"black\" points=\"534.5,-36 480.5,-36 480.5,0 534.5,0 534.5,-36\"/>\n<text text-anchor=\"middle\" x=\"507.5\" y=\"-14.3\" font-family=\"Helvetica,sans-Serif\" font-size=\"14.00\">(...)</text>\n</g>\n<!-- 83&#45;&gt;87 -->\n<g id=\"edge11\" class=\"edge\">\n<title>83&#45;&gt;87</title>\n<path fill=\"none\" stroke=\"black\" d=\"M494.05,-71.8C496.13,-63.62 498.44,-54.55 500.55,-46.27\"/>\n<polygon fill=\"black\" stroke=\"black\" points=\"504.01,-46.88 503.08,-36.33 497.22,-45.16 504.01,-46.88\"/>\n</g>\n<!-- 89 -->\n<g id=\"node14\" class=\"node\">\n<title>89</title>\n<polygon fill=\"#c0c0c0\" stroke=\"black\" points=\"677.5,-36 623.5,-36 623.5,0 677.5,0 677.5,-36\"/>\n<text text-anchor=\"middle\" x=\"650.5\" y=\"-14.3\" font-family=\"Helvetica,sans-Serif\" font-size=\"14.00\">(...)</text>\n</g>\n<!-- 88&#45;&gt;89 -->\n<g id=\"edge13\" class=\"edge\">\n<title>88&#45;&gt;89</title>\n<path fill=\"none\" stroke=\"black\" d=\"M674.71,-71.8C670.84,-63.35 666.53,-53.95 662.63,-45.45\"/>\n<polygon fill=\"black\" stroke=\"black\" points=\"665.8,-43.96 658.45,-36.33 659.43,-46.88 665.8,-43.96\"/>\n</g>\n<!-- 96 -->\n<g id=\"node15\" class=\"node\">\n<title>96</title>\n<polygon fill=\"#c0c0c0\" stroke=\"black\" points=\"749.5,-36 695.5,-36 695.5,0 749.5,0 749.5,-36\"/>\n<text text-anchor=\"middle\" x=\"722.5\" y=\"-14.3\" font-family=\"Helvetica,sans-Serif\" font-size=\"14.00\">(...)</text>\n</g>\n<!-- 88&#45;&gt;96 -->\n<g id=\"edge14\" class=\"edge\">\n<title>88&#45;&gt;96</title>\n<path fill=\"none\" stroke=\"black\" d=\"M698.29,-71.8C702.16,-63.35 706.47,-53.95 710.37,-45.45\"/>\n<polygon fill=\"black\" stroke=\"black\" points=\"713.57,-46.88 714.55,-36.33 707.2,-43.96 713.57,-46.88\"/>\n</g>\n</g>\n</svg>\n",
            "text/plain": [
              "<graphviz.sources.Source at 0x7bebf6724400>"
            ]
          },
          "metadata": {}
        },
        {
          "output_type": "display_data",
          "data": {
            "image/svg+xml": "<?xml version=\"1.0\" encoding=\"UTF-8\" standalone=\"no\"?>\n<!DOCTYPE svg PUBLIC \"-//W3C//DTD SVG 1.1//EN\"\n \"http://www.w3.org/Graphics/SVG/1.1/DTD/svg11.dtd\">\n<!-- Generated by graphviz version 2.43.0 (0)\n -->\n<!-- Title: Tree Pages: 1 -->\n<svg width=\"796pt\" height=\"311pt\"\n viewBox=\"0.00 0.00 796.00 311.00\" xmlns=\"http://www.w3.org/2000/svg\" xmlns:xlink=\"http://www.w3.org/1999/xlink\">\n<g id=\"graph0\" class=\"graph\" transform=\"scale(1 1) rotate(0) translate(4 307)\">\n<title>Tree</title>\n<polygon fill=\"white\" stroke=\"transparent\" points=\"-4,4 -4,-307 792,-307 792,4 -4,4\"/>\n<!-- 0 -->\n<g id=\"node1\" class=\"node\">\n<title>0</title>\n<polygon fill=\"#fcfffd\" stroke=\"black\" points=\"492.5,-303 304.5,-303 304.5,-250 492.5,-250 492.5,-303\"/>\n<text text-anchor=\"middle\" x=\"398.5\" y=\"-287.8\" font-family=\"Helvetica,sans-Serif\" font-size=\"14.00\">mean_d_5_a &lt;= 23.1</text>\n<text text-anchor=\"middle\" x=\"398.5\" y=\"-272.8\" font-family=\"Helvetica,sans-Serif\" font-size=\"14.00\">samples = 100.0%</text>\n<text text-anchor=\"middle\" x=\"398.5\" y=\"-257.8\" font-family=\"Helvetica,sans-Serif\" font-size=\"14.00\">value = [0.333, 0.342, 0.324]</text>\n</g>\n<!-- 1 -->\n<g id=\"node2\" class=\"node\">\n<title>1</title>\n<polygon fill=\"#fefdff\" stroke=\"black\" points=\"388.5,-214 200.5,-214 200.5,-161 388.5,-161 388.5,-214\"/>\n<text text-anchor=\"middle\" x=\"294.5\" y=\"-198.8\" font-family=\"Helvetica,sans-Serif\" font-size=\"14.00\">mean_d_2_b2 &lt;= &#45;102.5</text>\n<text text-anchor=\"middle\" x=\"294.5\" y=\"-183.8\" font-family=\"Helvetica,sans-Serif\" font-size=\"14.00\">samples = 64.5%</text>\n<text text-anchor=\"middle\" x=\"294.5\" y=\"-168.8\" font-family=\"Helvetica,sans-Serif\" font-size=\"14.00\">value = [0.481, 0.034, 0.485]</text>\n</g>\n<!-- 0&#45;&gt;1 -->\n<g id=\"edge1\" class=\"edge\">\n<title>0&#45;&gt;1</title>\n<path fill=\"none\" stroke=\"black\" d=\"M367.86,-249.87C356.95,-240.75 344.53,-230.35 333.05,-220.75\"/>\n<polygon fill=\"black\" stroke=\"black\" points=\"335.2,-217.98 325.28,-214.25 330.71,-223.35 335.2,-217.98\"/>\n<text text-anchor=\"middle\" x=\"327.5\" y=\"-235.45\" font-family=\"Helvetica,sans-Serif\" font-size=\"14.00\">True</text>\n</g>\n<!-- 58 -->\n<g id=\"node9\" class=\"node\">\n<title>58</title>\n<polygon fill=\"#50e88f\" stroke=\"black\" points=\"596.5,-214 408.5,-214 408.5,-161 596.5,-161 596.5,-214\"/>\n<text text-anchor=\"middle\" x=\"502.5\" y=\"-198.8\" font-family=\"Helvetica,sans-Serif\" font-size=\"14.00\">mean_d_7_a &lt;= &#45;17.7</text>\n<text text-anchor=\"middle\" x=\"502.5\" y=\"-183.8\" font-family=\"Helvetica,sans-Serif\" font-size=\"14.00\">samples = 35.5%</text>\n<text text-anchor=\"middle\" x=\"502.5\" y=\"-168.8\" font-family=\"Helvetica,sans-Serif\" font-size=\"14.00\">value = [0.069, 0.893, 0.037]</text>\n</g>\n<!-- 0&#45;&gt;58 -->\n<g id=\"edge8\" class=\"edge\">\n<title>0&#45;&gt;58</title>\n<path fill=\"none\" stroke=\"black\" d=\"M429.14,-249.87C440.05,-240.75 452.47,-230.35 463.95,-220.75\"/>\n<polygon fill=\"black\" stroke=\"black\" points=\"466.29,-223.35 471.72,-214.25 461.8,-217.98 466.29,-223.35\"/>\n<text text-anchor=\"middle\" x=\"469.5\" y=\"-235.45\" font-family=\"Helvetica,sans-Serif\" font-size=\"14.00\">False</text>\n</g>\n<!-- 2 -->\n<g id=\"node3\" class=\"node\">\n<title>2</title>\n<polygon fill=\"#ea995e\" stroke=\"black\" points=\"173,-125 0,-125 0,-72 173,-72 173,-125\"/>\n<text text-anchor=\"middle\" x=\"86.5\" y=\"-109.8\" font-family=\"Helvetica,sans-Serif\" font-size=\"14.00\">min_q_8_b &lt;= &#45;0.293</text>\n<text text-anchor=\"middle\" x=\"86.5\" y=\"-94.8\" font-family=\"Helvetica,sans-Serif\" font-size=\"14.00\">samples = 36.1%</text>\n<text text-anchor=\"middle\" x=\"86.5\" y=\"-79.8\" font-family=\"Helvetica,sans-Serif\" font-size=\"14.00\">value = [0.843, 0.0, 0.157]</text>\n</g>\n<!-- 1&#45;&gt;2 -->\n<g id=\"edge2\" class=\"edge\">\n<title>1&#45;&gt;2</title>\n<path fill=\"none\" stroke=\"black\" d=\"M233.5,-160.98C209.48,-150.94 181.74,-139.34 156.88,-128.94\"/>\n<polygon fill=\"black\" stroke=\"black\" points=\"158.08,-125.64 147.5,-125.01 155.38,-132.1 158.08,-125.64\"/>\n</g>\n<!-- 33 -->\n<g id=\"node6\" class=\"node\">\n<title>33</title>\n<polygon fill=\"#8d4de8\" stroke=\"black\" points=\"397.5,-125 191.5,-125 191.5,-72 397.5,-72 397.5,-125\"/>\n<text text-anchor=\"middle\" x=\"294.5\" y=\"-109.8\" font-family=\"Helvetica,sans-Serif\" font-size=\"14.00\">moments_15_b &lt;= 42850000.0</text>\n<text text-anchor=\"middle\" x=\"294.5\" y=\"-94.8\" font-family=\"Helvetica,sans-Serif\" font-size=\"14.00\">samples = 28.4%</text>\n<text text-anchor=\"middle\" x=\"294.5\" y=\"-79.8\" font-family=\"Helvetica,sans-Serif\" font-size=\"14.00\">value = [0.012, 0.079, 0.909]</text>\n</g>\n<!-- 1&#45;&gt;33 -->\n<g id=\"edge5\" class=\"edge\">\n<title>1&#45;&gt;33</title>\n<path fill=\"none\" stroke=\"black\" d=\"M294.5,-160.87C294.5,-152.89 294.5,-143.93 294.5,-135.38\"/>\n<polygon fill=\"black\" stroke=\"black\" points=\"298,-135.25 294.5,-125.25 291,-135.25 298,-135.25\"/>\n</g>\n<!-- 3 -->\n<g id=\"node4\" class=\"node\">\n<title>3</title>\n<polygon fill=\"#c0c0c0\" stroke=\"black\" points=\"77.5,-36 23.5,-36 23.5,0 77.5,0 77.5,-36\"/>\n<text text-anchor=\"middle\" x=\"50.5\" y=\"-14.3\" font-family=\"Helvetica,sans-Serif\" font-size=\"14.00\">(...)</text>\n</g>\n<!-- 2&#45;&gt;3 -->\n<g id=\"edge3\" class=\"edge\">\n<title>2&#45;&gt;3</title>\n<path fill=\"none\" stroke=\"black\" d=\"M74.71,-71.8C70.84,-63.35 66.53,-53.95 62.63,-45.45\"/>\n<polygon fill=\"black\" stroke=\"black\" points=\"65.8,-43.96 58.45,-36.33 59.43,-46.88 65.8,-43.96\"/>\n</g>\n<!-- 24 -->\n<g id=\"node5\" class=\"node\">\n<title>24</title>\n<polygon fill=\"#c0c0c0\" stroke=\"black\" points=\"149.5,-36 95.5,-36 95.5,0 149.5,0 149.5,-36\"/>\n<text text-anchor=\"middle\" x=\"122.5\" y=\"-14.3\" font-family=\"Helvetica,sans-Serif\" font-size=\"14.00\">(...)</text>\n</g>\n<!-- 2&#45;&gt;24 -->\n<g id=\"edge4\" class=\"edge\">\n<title>2&#45;&gt;24</title>\n<path fill=\"none\" stroke=\"black\" d=\"M98.29,-71.8C102.16,-63.35 106.47,-53.95 110.37,-45.45\"/>\n<polygon fill=\"black\" stroke=\"black\" points=\"113.57,-46.88 114.55,-36.33 107.2,-43.96 113.57,-46.88\"/>\n</g>\n<!-- 34 -->\n<g id=\"node7\" class=\"node\">\n<title>34</title>\n<polygon fill=\"#c0c0c0\" stroke=\"black\" points=\"301.5,-36 247.5,-36 247.5,0 301.5,0 301.5,-36\"/>\n<text text-anchor=\"middle\" x=\"274.5\" y=\"-14.3\" font-family=\"Helvetica,sans-Serif\" font-size=\"14.00\">(...)</text>\n</g>\n<!-- 33&#45;&gt;34 -->\n<g id=\"edge6\" class=\"edge\">\n<title>33&#45;&gt;34</title>\n<path fill=\"none\" stroke=\"black\" d=\"M287.95,-71.8C285.87,-63.62 283.56,-54.55 281.45,-46.27\"/>\n<polygon fill=\"black\" stroke=\"black\" points=\"284.78,-45.16 278.92,-36.33 277.99,-46.88 284.78,-45.16\"/>\n</g>\n<!-- 35 -->\n<g id=\"node8\" class=\"node\">\n<title>35</title>\n<polygon fill=\"#c0c0c0\" stroke=\"black\" points=\"373.5,-36 319.5,-36 319.5,0 373.5,0 373.5,-36\"/>\n<text text-anchor=\"middle\" x=\"346.5\" y=\"-14.3\" font-family=\"Helvetica,sans-Serif\" font-size=\"14.00\">(...)</text>\n</g>\n<!-- 33&#45;&gt;35 -->\n<g id=\"edge7\" class=\"edge\">\n<title>33&#45;&gt;35</title>\n<path fill=\"none\" stroke=\"black\" d=\"M311.53,-71.8C317.24,-63.17 323.62,-53.54 329.34,-44.9\"/>\n<polygon fill=\"black\" stroke=\"black\" points=\"332.42,-46.6 335.02,-36.33 326.58,-42.73 332.42,-46.6\"/>\n</g>\n<!-- 59 -->\n<g id=\"node10\" class=\"node\">\n<title>59</title>\n<polygon fill=\"#eca572\" stroke=\"black\" points=\"589,-125 416,-125 416,-72 589,-72 589,-125\"/>\n<text text-anchor=\"middle\" x=\"502.5\" y=\"-109.8\" font-family=\"Helvetica,sans-Serif\" font-size=\"14.00\">max_q_5_b &lt;= 49.75</text>\n<text text-anchor=\"middle\" x=\"502.5\" y=\"-94.8\" font-family=\"Helvetica,sans-Serif\" font-size=\"14.00\">samples = 3.2%</text>\n<text text-anchor=\"middle\" x=\"502.5\" y=\"-79.8\" font-family=\"Helvetica,sans-Serif\" font-size=\"14.00\">value = [0.778, 0.0, 0.222]</text>\n</g>\n<!-- 58&#45;&gt;59 -->\n<g id=\"edge9\" class=\"edge\">\n<title>58&#45;&gt;59</title>\n<path fill=\"none\" stroke=\"black\" d=\"M502.5,-160.87C502.5,-152.89 502.5,-143.93 502.5,-135.38\"/>\n<polygon fill=\"black\" stroke=\"black\" points=\"506,-135.25 502.5,-125.25 499,-135.25 506,-135.25\"/>\n</g>\n<!-- 66 -->\n<g id=\"node13\" class=\"node\">\n<title>66</title>\n<polygon fill=\"#3ee684\" stroke=\"black\" points=\"788,-125 607,-125 607,-72 788,-72 788,-125\"/>\n<text text-anchor=\"middle\" x=\"697.5\" y=\"-109.8\" font-family=\"Helvetica,sans-Serif\" font-size=\"14.00\">covmat_13_a &lt;= 9400.0</text>\n<text text-anchor=\"middle\" x=\"697.5\" y=\"-94.8\" font-family=\"Helvetica,sans-Serif\" font-size=\"14.00\">samples = 32.3%</text>\n<text text-anchor=\"middle\" x=\"697.5\" y=\"-79.8\" font-family=\"Helvetica,sans-Serif\" font-size=\"14.00\">value = [0.004, 0.976, 0.02]</text>\n</g>\n<!-- 58&#45;&gt;66 -->\n<g id=\"edge12\" class=\"edge\">\n<title>58&#45;&gt;66</title>\n<path fill=\"none\" stroke=\"black\" d=\"M559.69,-160.98C582.01,-151.03 607.76,-139.54 630.91,-129.21\"/>\n<polygon fill=\"black\" stroke=\"black\" points=\"632.61,-132.29 640.31,-125.01 629.75,-125.89 632.61,-132.29\"/>\n</g>\n<!-- 60 -->\n<g id=\"node11\" class=\"node\">\n<title>60</title>\n<polygon fill=\"#c0c0c0\" stroke=\"black\" points=\"477.5,-36 423.5,-36 423.5,0 477.5,0 477.5,-36\"/>\n<text text-anchor=\"middle\" x=\"450.5\" y=\"-14.3\" font-family=\"Helvetica,sans-Serif\" font-size=\"14.00\">(...)</text>\n</g>\n<!-- 59&#45;&gt;60 -->\n<g id=\"edge10\" class=\"edge\">\n<title>59&#45;&gt;60</title>\n<path fill=\"none\" stroke=\"black\" d=\"M485.47,-71.8C479.76,-63.17 473.38,-53.54 467.66,-44.9\"/>\n<polygon fill=\"black\" stroke=\"black\" points=\"470.42,-42.73 461.98,-36.33 464.58,-46.6 470.42,-42.73\"/>\n</g>\n<!-- 65 -->\n<g id=\"node12\" class=\"node\">\n<title>65</title>\n<polygon fill=\"#c0c0c0\" stroke=\"black\" points=\"549.5,-36 495.5,-36 495.5,0 549.5,0 549.5,-36\"/>\n<text text-anchor=\"middle\" x=\"522.5\" y=\"-14.3\" font-family=\"Helvetica,sans-Serif\" font-size=\"14.00\">(...)</text>\n</g>\n<!-- 59&#45;&gt;65 -->\n<g id=\"edge11\" class=\"edge\">\n<title>59&#45;&gt;65</title>\n<path fill=\"none\" stroke=\"black\" d=\"M509.05,-71.8C511.13,-63.62 513.44,-54.55 515.55,-46.27\"/>\n<polygon fill=\"black\" stroke=\"black\" points=\"519.01,-46.88 518.08,-36.33 512.22,-45.16 519.01,-46.88\"/>\n</g>\n<!-- 67 -->\n<g id=\"node14\" class=\"node\">\n<title>67</title>\n<polygon fill=\"#c0c0c0\" stroke=\"black\" points=\"688.5,-36 634.5,-36 634.5,0 688.5,0 688.5,-36\"/>\n<text text-anchor=\"middle\" x=\"661.5\" y=\"-14.3\" font-family=\"Helvetica,sans-Serif\" font-size=\"14.00\">(...)</text>\n</g>\n<!-- 66&#45;&gt;67 -->\n<g id=\"edge13\" class=\"edge\">\n<title>66&#45;&gt;67</title>\n<path fill=\"none\" stroke=\"black\" d=\"M685.71,-71.8C681.84,-63.35 677.53,-53.95 673.63,-45.45\"/>\n<polygon fill=\"black\" stroke=\"black\" points=\"676.8,-43.96 669.45,-36.33 670.43,-46.88 676.8,-43.96\"/>\n</g>\n<!-- 70 -->\n<g id=\"node15\" class=\"node\">\n<title>70</title>\n<polygon fill=\"#c0c0c0\" stroke=\"black\" points=\"760.5,-36 706.5,-36 706.5,0 760.5,0 760.5,-36\"/>\n<text text-anchor=\"middle\" x=\"733.5\" y=\"-14.3\" font-family=\"Helvetica,sans-Serif\" font-size=\"14.00\">(...)</text>\n</g>\n<!-- 66&#45;&gt;70 -->\n<g id=\"edge14\" class=\"edge\">\n<title>66&#45;&gt;70</title>\n<path fill=\"none\" stroke=\"black\" d=\"M709.29,-71.8C713.16,-63.35 717.47,-53.95 721.37,-45.45\"/>\n<polygon fill=\"black\" stroke=\"black\" points=\"724.57,-46.88 725.55,-36.33 718.2,-43.96 724.57,-46.88\"/>\n</g>\n</g>\n</svg>\n",
            "text/plain": [
              "<graphviz.sources.Source at 0x7bebf686a110>"
            ]
          },
          "metadata": {}
        },
        {
          "output_type": "display_data",
          "data": {
            "image/svg+xml": "<?xml version=\"1.0\" encoding=\"UTF-8\" standalone=\"no\"?>\n<!DOCTYPE svg PUBLIC \"-//W3C//DTD SVG 1.1//EN\"\n \"http://www.w3.org/Graphics/SVG/1.1/DTD/svg11.dtd\">\n<!-- Generated by graphviz version 2.43.0 (0)\n -->\n<!-- Title: Tree Pages: 1 -->\n<svg width=\"803pt\" height=\"311pt\"\n viewBox=\"0.00 0.00 803.00 311.00\" xmlns=\"http://www.w3.org/2000/svg\" xmlns:xlink=\"http://www.w3.org/1999/xlink\">\n<g id=\"graph0\" class=\"graph\" transform=\"scale(1 1) rotate(0) translate(4 307)\">\n<title>Tree</title>\n<polygon fill=\"white\" stroke=\"transparent\" points=\"-4,4 -4,-307 799,-307 799,4 -4,4\"/>\n<!-- 0 -->\n<g id=\"node1\" class=\"node\">\n<title>0</title>\n<polygon fill=\"#fffefe\" stroke=\"black\" points=\"491.5,-303 310.5,-303 310.5,-250 491.5,-250 491.5,-303\"/>\n<text text-anchor=\"middle\" x=\"401\" y=\"-287.8\" font-family=\"Helvetica,sans-Serif\" font-size=\"14.00\">correlate_63_b &lt;= 11750.0</text>\n<text text-anchor=\"middle\" x=\"401\" y=\"-272.8\" font-family=\"Helvetica,sans-Serif\" font-size=\"14.00\">samples = 100.0%</text>\n<text text-anchor=\"middle\" x=\"401\" y=\"-257.8\" font-family=\"Helvetica,sans-Serif\" font-size=\"14.00\">value = [0.34, 0.337, 0.322]</text>\n</g>\n<!-- 1 -->\n<g id=\"node2\" class=\"node\">\n<title>1</title>\n<polygon fill=\"#d8fae6\" stroke=\"black\" points=\"392,-214 204,-214 204,-161 392,-161 392,-214\"/>\n<text text-anchor=\"middle\" x=\"298\" y=\"-198.8\" font-family=\"Helvetica,sans-Serif\" font-size=\"14.00\">covmat_87_b &lt;= 18.4</text>\n<text text-anchor=\"middle\" x=\"298\" y=\"-183.8\" font-family=\"Helvetica,sans-Serif\" font-size=\"14.00\">samples = 63.7%</text>\n<text text-anchor=\"middle\" x=\"298\" y=\"-168.8\" font-family=\"Helvetica,sans-Serif\" font-size=\"14.00\">value = [0.068, 0.524, 0.408]</text>\n</g>\n<!-- 0&#45;&gt;1 -->\n<g id=\"edge1\" class=\"edge\">\n<title>0&#45;&gt;1</title>\n<path fill=\"none\" stroke=\"black\" d=\"M370.65,-249.87C359.85,-240.75 347.55,-230.35 336.18,-220.75\"/>\n<polygon fill=\"black\" stroke=\"black\" points=\"338.38,-218.03 328.49,-214.25 333.87,-223.38 338.38,-218.03\"/>\n<text text-anchor=\"middle\" x=\"330.58\" y=\"-235.46\" font-family=\"Helvetica,sans-Serif\" font-size=\"14.00\">True</text>\n</g>\n<!-- 60 -->\n<g id=\"node9\" class=\"node\">\n<title>60</title>\n<polygon fill=\"#ea9c63\" stroke=\"black\" points=\"598,-214 410,-214 410,-161 598,-161 598,-214\"/>\n<text text-anchor=\"middle\" x=\"504\" y=\"-198.8\" font-family=\"Helvetica,sans-Serif\" font-size=\"14.00\">min_q_8_a &lt;= 0.02</text>\n<text text-anchor=\"middle\" x=\"504\" y=\"-183.8\" font-family=\"Helvetica,sans-Serif\" font-size=\"14.00\">samples = 36.3%</text>\n<text text-anchor=\"middle\" x=\"504\" y=\"-168.8\" font-family=\"Helvetica,sans-Serif\" font-size=\"14.00\">value = [0.825, 0.006, 0.169]</text>\n</g>\n<!-- 0&#45;&gt;60 -->\n<g id=\"edge8\" class=\"edge\">\n<title>0&#45;&gt;60</title>\n<path fill=\"none\" stroke=\"black\" d=\"M431.35,-249.87C442.15,-240.75 454.45,-230.35 465.82,-220.75\"/>\n<polygon fill=\"black\" stroke=\"black\" points=\"468.13,-223.38 473.51,-214.25 463.62,-218.03 468.13,-223.38\"/>\n<text text-anchor=\"middle\" x=\"471.42\" y=\"-235.46\" font-family=\"Helvetica,sans-Serif\" font-size=\"14.00\">False</text>\n</g>\n<!-- 2 -->\n<g id=\"node3\" class=\"node\">\n<title>2</title>\n<polygon fill=\"#a978ed\" stroke=\"black\" points=\"188,-125 0,-125 0,-72 188,-72 188,-125\"/>\n<text text-anchor=\"middle\" x=\"94\" y=\"-109.8\" font-family=\"Helvetica,sans-Serif\" font-size=\"14.00\">covmat_48_a &lt;= &#45;44.8</text>\n<text text-anchor=\"middle\" x=\"94\" y=\"-94.8\" font-family=\"Helvetica,sans-Serif\" font-size=\"14.00\">samples = 32.5%</text>\n<text text-anchor=\"middle\" x=\"94\" y=\"-79.8\" font-family=\"Helvetica,sans-Serif\" font-size=\"14.00\">value = [0.111, 0.158, 0.732]</text>\n</g>\n<!-- 1&#45;&gt;2 -->\n<g id=\"edge2\" class=\"edge\">\n<title>1&#45;&gt;2</title>\n<path fill=\"none\" stroke=\"black\" d=\"M238.17,-160.98C214.72,-150.98 187.65,-139.44 163.34,-129.07\"/>\n<polygon fill=\"black\" stroke=\"black\" points=\"164.4,-125.72 153.83,-125.01 161.65,-132.16 164.4,-125.72\"/>\n</g>\n<!-- 37 -->\n<g id=\"node6\" class=\"node\">\n<title>37</title>\n<polygon fill=\"#4de88e\" stroke=\"black\" points=\"394,-125 206,-125 206,-72 394,-72 394,-125\"/>\n<text text-anchor=\"middle\" x=\"300\" y=\"-109.8\" font-family=\"Helvetica,sans-Serif\" font-size=\"14.00\">mean_d_8_a &lt;= 21.7</text>\n<text text-anchor=\"middle\" x=\"300\" y=\"-94.8\" font-family=\"Helvetica,sans-Serif\" font-size=\"14.00\">samples = 31.2%</text>\n<text text-anchor=\"middle\" x=\"300\" y=\"-79.8\" font-family=\"Helvetica,sans-Serif\" font-size=\"14.00\">value = [0.024, 0.906, 0.071]</text>\n</g>\n<!-- 1&#45;&gt;37 -->\n<g id=\"edge5\" class=\"edge\">\n<title>1&#45;&gt;37</title>\n<path fill=\"none\" stroke=\"black\" d=\"M298.59,-160.87C298.77,-152.89 298.98,-143.93 299.18,-135.38\"/>\n<polygon fill=\"black\" stroke=\"black\" points=\"302.68,-135.33 299.41,-125.25 295.68,-135.17 302.68,-135.33\"/>\n</g>\n<!-- 3 -->\n<g id=\"node4\" class=\"node\">\n<title>3</title>\n<polygon fill=\"#c0c0c0\" stroke=\"black\" points=\"85,-36 31,-36 31,0 85,0 85,-36\"/>\n<text text-anchor=\"middle\" x=\"58\" y=\"-14.3\" font-family=\"Helvetica,sans-Serif\" font-size=\"14.00\">(...)</text>\n</g>\n<!-- 2&#45;&gt;3 -->\n<g id=\"edge3\" class=\"edge\">\n<title>2&#45;&gt;3</title>\n<path fill=\"none\" stroke=\"black\" d=\"M82.21,-71.8C78.34,-63.35 74.03,-53.95 70.13,-45.45\"/>\n<polygon fill=\"black\" stroke=\"black\" points=\"73.3,-43.96 65.95,-36.33 66.93,-46.88 73.3,-43.96\"/>\n</g>\n<!-- 16 -->\n<g id=\"node5\" class=\"node\">\n<title>16</title>\n<polygon fill=\"#c0c0c0\" stroke=\"black\" points=\"157,-36 103,-36 103,0 157,0 157,-36\"/>\n<text text-anchor=\"middle\" x=\"130\" y=\"-14.3\" font-family=\"Helvetica,sans-Serif\" font-size=\"14.00\">(...)</text>\n</g>\n<!-- 2&#45;&gt;16 -->\n<g id=\"edge4\" class=\"edge\">\n<title>2&#45;&gt;16</title>\n<path fill=\"none\" stroke=\"black\" d=\"M105.79,-71.8C109.66,-63.35 113.97,-53.95 117.87,-45.45\"/>\n<polygon fill=\"black\" stroke=\"black\" points=\"121.07,-46.88 122.05,-36.33 114.7,-43.96 121.07,-46.88\"/>\n</g>\n<!-- 38 -->\n<g id=\"node7\" class=\"node\">\n<title>38</title>\n<polygon fill=\"#c0c0c0\" stroke=\"black\" points=\"306,-36 252,-36 252,0 306,0 306,-36\"/>\n<text text-anchor=\"middle\" x=\"279\" y=\"-14.3\" font-family=\"Helvetica,sans-Serif\" font-size=\"14.00\">(...)</text>\n</g>\n<!-- 37&#45;&gt;38 -->\n<g id=\"edge6\" class=\"edge\">\n<title>37&#45;&gt;38</title>\n<path fill=\"none\" stroke=\"black\" d=\"M293.12,-71.8C290.91,-63.53 288.46,-54.35 286.22,-46\"/>\n<polygon fill=\"black\" stroke=\"black\" points=\"289.6,-45.09 283.64,-36.33 282.84,-46.9 289.6,-45.09\"/>\n</g>\n<!-- 53 -->\n<g id=\"node8\" class=\"node\">\n<title>53</title>\n<polygon fill=\"#c0c0c0\" stroke=\"black\" points=\"378,-36 324,-36 324,0 378,0 378,-36\"/>\n<text text-anchor=\"middle\" x=\"351\" y=\"-14.3\" font-family=\"Helvetica,sans-Serif\" font-size=\"14.00\">(...)</text>\n</g>\n<!-- 37&#45;&gt;53 -->\n<g id=\"edge7\" class=\"edge\">\n<title>37&#45;&gt;53</title>\n<path fill=\"none\" stroke=\"black\" d=\"M316.7,-71.8C322.31,-63.17 328.56,-53.54 334.17,-44.9\"/>\n<polygon fill=\"black\" stroke=\"black\" points=\"337.23,-46.62 339.74,-36.33 331.36,-42.81 337.23,-46.62\"/>\n</g>\n<!-- 61 -->\n<g id=\"node10\" class=\"node\">\n<title>61</title>\n<polygon fill=\"#e78d4b\" stroke=\"black\" points=\"588.5,-125 415.5,-125 415.5,-72 588.5,-72 588.5,-125\"/>\n<text text-anchor=\"middle\" x=\"502\" y=\"-109.8\" font-family=\"Helvetica,sans-Serif\" font-size=\"14.00\">max_q_32_a &lt;= 271.5</text>\n<text text-anchor=\"middle\" x=\"502\" y=\"-94.8\" font-family=\"Helvetica,sans-Serif\" font-size=\"14.00\">samples = 32.0%</text>\n<text text-anchor=\"middle\" x=\"502\" y=\"-79.8\" font-family=\"Helvetica,sans-Serif\" font-size=\"14.00\">value = [0.916, 0.0, 0.084]</text>\n</g>\n<!-- 60&#45;&gt;61 -->\n<g id=\"edge9\" class=\"edge\">\n<title>60&#45;&gt;61</title>\n<path fill=\"none\" stroke=\"black\" d=\"M503.41,-160.87C503.23,-152.89 503.02,-143.93 502.82,-135.38\"/>\n<polygon fill=\"black\" stroke=\"black\" points=\"506.32,-135.17 502.59,-125.25 499.32,-135.33 506.32,-135.17\"/>\n</g>\n<!-- 92 -->\n<g id=\"node13\" class=\"node\">\n<title>92</title>\n<polygon fill=\"#9456e9\" stroke=\"black\" points=\"795,-125 607,-125 607,-72 795,-72 795,-125\"/>\n<text text-anchor=\"middle\" x=\"701\" y=\"-109.8\" font-family=\"Helvetica,sans-Serif\" font-size=\"14.00\">stddev_1_a &lt;= 4.865</text>\n<text text-anchor=\"middle\" x=\"701\" y=\"-94.8\" font-family=\"Helvetica,sans-Serif\" font-size=\"14.00\">samples = 4.3%</text>\n<text text-anchor=\"middle\" x=\"701\" y=\"-79.8\" font-family=\"Helvetica,sans-Serif\" font-size=\"14.00\">value = [0.085, 0.051, 0.864]</text>\n</g>\n<!-- 60&#45;&gt;92 -->\n<g id=\"edge12\" class=\"edge\">\n<title>60&#45;&gt;92</title>\n<path fill=\"none\" stroke=\"black\" d=\"M561.78,-160.98C584.43,-150.98 610.57,-139.44 634.04,-129.07\"/>\n<polygon fill=\"black\" stroke=\"black\" points=\"635.49,-132.26 643.23,-125.01 632.66,-125.85 635.49,-132.26\"/>\n</g>\n<!-- 62 -->\n<g id=\"node11\" class=\"node\">\n<title>62</title>\n<polygon fill=\"#c0c0c0\" stroke=\"black\" points=\"477,-36 423,-36 423,0 477,0 477,-36\"/>\n<text text-anchor=\"middle\" x=\"450\" y=\"-14.3\" font-family=\"Helvetica,sans-Serif\" font-size=\"14.00\">(...)</text>\n</g>\n<!-- 61&#45;&gt;62 -->\n<g id=\"edge10\" class=\"edge\">\n<title>61&#45;&gt;62</title>\n<path fill=\"none\" stroke=\"black\" d=\"M484.97,-71.8C479.26,-63.17 472.88,-53.54 467.16,-44.9\"/>\n<polygon fill=\"black\" stroke=\"black\" points=\"469.92,-42.73 461.48,-36.33 464.08,-46.6 469.92,-42.73\"/>\n</g>\n<!-- 91 -->\n<g id=\"node12\" class=\"node\">\n<title>91</title>\n<polygon fill=\"#c0c0c0\" stroke=\"black\" points=\"549,-36 495,-36 495,0 549,0 549,-36\"/>\n<text text-anchor=\"middle\" x=\"522\" y=\"-14.3\" font-family=\"Helvetica,sans-Serif\" font-size=\"14.00\">(...)</text>\n</g>\n<!-- 61&#45;&gt;91 -->\n<g id=\"edge11\" class=\"edge\">\n<title>61&#45;&gt;91</title>\n<path fill=\"none\" stroke=\"black\" d=\"M508.55,-71.8C510.63,-63.62 512.94,-54.55 515.05,-46.27\"/>\n<polygon fill=\"black\" stroke=\"black\" points=\"518.51,-46.88 517.58,-36.33 511.72,-45.16 518.51,-46.88\"/>\n</g>\n<!-- 93 -->\n<g id=\"node14\" class=\"node\">\n<title>93</title>\n<polygon fill=\"#c0c0c0\" stroke=\"black\" points=\"692,-36 638,-36 638,0 692,0 692,-36\"/>\n<text text-anchor=\"middle\" x=\"665\" y=\"-14.3\" font-family=\"Helvetica,sans-Serif\" font-size=\"14.00\">(...)</text>\n</g>\n<!-- 92&#45;&gt;93 -->\n<g id=\"edge13\" class=\"edge\">\n<title>92&#45;&gt;93</title>\n<path fill=\"none\" stroke=\"black\" d=\"M689.21,-71.8C685.34,-63.35 681.03,-53.95 677.13,-45.45\"/>\n<polygon fill=\"black\" stroke=\"black\" points=\"680.3,-43.96 672.95,-36.33 673.93,-46.88 680.3,-43.96\"/>\n</g>\n<!-- 96 -->\n<g id=\"node15\" class=\"node\">\n<title>96</title>\n<polygon fill=\"#c0c0c0\" stroke=\"black\" points=\"764,-36 710,-36 710,0 764,0 764,-36\"/>\n<text text-anchor=\"middle\" x=\"737\" y=\"-14.3\" font-family=\"Helvetica,sans-Serif\" font-size=\"14.00\">(...)</text>\n</g>\n<!-- 92&#45;&gt;96 -->\n<g id=\"edge14\" class=\"edge\">\n<title>92&#45;&gt;96</title>\n<path fill=\"none\" stroke=\"black\" d=\"M712.79,-71.8C716.66,-63.35 720.97,-53.95 724.87,-45.45\"/>\n<polygon fill=\"black\" stroke=\"black\" points=\"728.07,-46.88 729.05,-36.33 721.7,-43.96 728.07,-46.88\"/>\n</g>\n</g>\n</svg>\n",
            "text/plain": [
              "<graphviz.sources.Source at 0x7bebf67326e0>"
            ]
          },
          "metadata": {}
        }
      ]
    },
    {
      "cell_type": "markdown",
      "source": [
        "# Cross Validation using K-Fold method with fold value of 5.\n",
        "Perform cross validation using cross_val_score with cv=5."
      ],
      "metadata": {
        "id": "Y8oBg41RYamC"
      }
    },
    {
      "cell_type": "code",
      "source": [
        "cv_scores = cross_val_score(rf, X, y, cv=5)  # 5-fold cross-validation\n",
        "\n",
        "# Print the cross-validation scores\n",
        "print(\"Cross-validation scores:\", cv_scores)\n",
        "\n",
        "# Calculate and print the mean accuracy\n",
        "mean_accuracy = np.mean(cv_scores)\n",
        "print(\"Mean Accuracy:\", mean_accuracy)"
      ],
      "metadata": {
        "id": "FIL5z7K9Yzj2",
        "colab": {
          "base_uri": "https://localhost:8080/"
        },
        "outputId": "1e568ee0-d8c7-4e5c-c107-7b3b8375bde9"
      },
      "execution_count": 82,
      "outputs": [
        {
          "output_type": "stream",
          "name": "stdout",
          "text": [
            "Cross-validation scores: [0.97423888 0.97892272 0.99061033 0.96948357 0.9600939 ]\n",
            "Mean Accuracy: 0.9746698771866169\n"
          ]
        }
      ]
    },
    {
      "cell_type": "markdown",
      "source": [
        "============================= Data Set 80:20 =======================\n",
        "# **Predicting the Emotion is 80:20 datset.**\n",
        "Predict the data using X_test dataset."
      ],
      "metadata": {
        "id": "2_K1w5AplngG"
      }
    },
    {
      "cell_type": "code",
      "source": [
        "# Predicting the emotion of the user.\n",
        "y_pred = rf.predict(X_test)"
      ],
      "metadata": {
        "id": "UnQe5sEglngI"
      },
      "execution_count": 83,
      "outputs": []
    },
    {
      "cell_type": "markdown",
      "source": [
        "# Evaluation metrices:"
      ],
      "metadata": {
        "id": "4zLeQVxtlngI"
      }
    },
    {
      "cell_type": "markdown",
      "source": [
        "**Accuracy**"
      ],
      "metadata": {
        "id": "ojp8MeiVlngJ"
      }
    },
    {
      "cell_type": "code",
      "source": [
        "# Accuracy\n",
        "accuracy_80_20 = accuracy_score(y_test, y_pred)\n",
        "print(\"Accuracy obtained in 80:20 datasplit is : \",accuracy_80_20)"
      ],
      "metadata": {
        "colab": {
          "base_uri": "https://localhost:8080/"
        },
        "outputId": "a409bfbd-6001-4a59-a357-d1fe2a1f115e",
        "id": "sCfXeVTIlngJ"
      },
      "execution_count": 84,
      "outputs": [
        {
          "output_type": "stream",
          "name": "stdout",
          "text": [
            "Accuracy obtained in 80:20 datasplit is :  0.9640625\n"
          ]
        }
      ]
    },
    {
      "cell_type": "markdown",
      "source": [
        "**Precision**"
      ],
      "metadata": {
        "id": "5wSB7hc8lngK"
      }
    },
    {
      "cell_type": "code",
      "source": [
        "# Precision\n",
        "precision_80_20 = precision_score(y_test, y_pred, average='macro')\n",
        "print(\"Precsion obtained in 80:20 datasplit is :\",precision_80_20)"
      ],
      "metadata": {
        "colab": {
          "base_uri": "https://localhost:8080/"
        },
        "outputId": "182c51b2-3f48-4a5b-ac57-3efd31f942b3",
        "id": "W7M3R7KHlngK"
      },
      "execution_count": 85,
      "outputs": [
        {
          "output_type": "stream",
          "name": "stdout",
          "text": [
            "Precsion obtained in 80:20 datasplit is : 0.9643381769752409\n"
          ]
        }
      ]
    },
    {
      "cell_type": "markdown",
      "source": [
        "**Recall Value**"
      ],
      "metadata": {
        "id": "3rRwsbHRlngM"
      }
    },
    {
      "cell_type": "code",
      "source": [
        "# Recall Value\n",
        "recall_80_20 = recall_score(y_test, y_pred, average='macro')\n",
        "print(\"Recall value obtained in 80:20 datasplit is :\",recall_80_20)"
      ],
      "metadata": {
        "colab": {
          "base_uri": "https://localhost:8080/"
        },
        "outputId": "bd4064bf-e5ef-41e3-baf4-9710a25558ab",
        "id": "XyctXzTMlngM"
      },
      "execution_count": 86,
      "outputs": [
        {
          "output_type": "stream",
          "name": "stdout",
          "text": [
            "Recall value obtained in 80:20 datasplit is : 0.9637093428505098\n"
          ]
        }
      ]
    },
    {
      "cell_type": "markdown",
      "source": [
        "**F1 Score**"
      ],
      "metadata": {
        "id": "4qfzN_ealngN"
      }
    },
    {
      "cell_type": "code",
      "source": [
        "# F1 Score\n",
        "f1_80_20 = f1_score(y_test, y_pred,average='macro')\n",
        "print(\"Recall value obtained in 80:20 datasplit is :\",f1_80_20)"
      ],
      "metadata": {
        "colab": {
          "base_uri": "https://localhost:8080/"
        },
        "outputId": "9b760e0e-c330-4664-fc87-9333636fe7ff",
        "id": "U4mibdKilngN"
      },
      "execution_count": 87,
      "outputs": [
        {
          "output_type": "stream",
          "name": "stdout",
          "text": [
            "Recall value obtained in 80:20 datasplit is : 0.9638249422920954\n"
          ]
        }
      ]
    },
    {
      "cell_type": "markdown",
      "source": [
        "**AUCROC**"
      ],
      "metadata": {
        "id": "cAOFhO3llngO"
      }
    },
    {
      "cell_type": "code",
      "source": [
        "# Get predicted class probabilities for the test set\n",
        "y_pred_prob = rf.predict_proba(X_test)\n",
        "# Compute the false positive rate (FPR)\n",
        "roc_auc = roc_auc_score(y_test, y_pred_prob, multi_class='ovr')\n",
        "print(roc_auc)"
      ],
      "metadata": {
        "colab": {
          "base_uri": "https://localhost:8080/"
        },
        "outputId": "21cc2421-1257-477a-c6f4-806be849582b",
        "id": "dYpwZmt5lngO"
      },
      "execution_count": 88,
      "outputs": [
        {
          "output_type": "stream",
          "name": "stdout",
          "text": [
            "0.9971618498629149\n"
          ]
        }
      ]
    },
    {
      "cell_type": "markdown",
      "source": [
        "\n",
        "**Confusion Matrix and its visualization.**"
      ],
      "metadata": {
        "id": "gPNBOIxolngO"
      }
    },
    {
      "cell_type": "code",
      "source": [
        "# Confusion Matrix\n",
        "cm = confusion_matrix(y_test, y_pred)\n",
        "print(\"Confusion matrix for 80:20 datasplit:\")\n",
        "print(cm)\n",
        "\n",
        "# Visualizing confusion Matrix.\n",
        "ConfusionMatrixDisplay(confusion_matrix=cm).plot()"
      ],
      "metadata": {
        "colab": {
          "base_uri": "https://localhost:8080/",
          "height": 536
        },
        "outputId": "2dfee093-0053-4d78-95bf-70743dc55ba2",
        "id": "WBXcJvlglngQ"
      },
      "execution_count": 89,
      "outputs": [
        {
          "output_type": "stream",
          "name": "stdout",
          "text": [
            "Confusion matrix for 80:20 datasplit:\n",
            "[[211   0   5]\n",
            " [  0 212   3]\n",
            " [ 13   2 194]]\n"
          ]
        },
        {
          "output_type": "execute_result",
          "data": {
            "text/plain": [
              "<sklearn.metrics._plot.confusion_matrix.ConfusionMatrixDisplay at 0x7bebf6725bd0>"
            ]
          },
          "metadata": {},
          "execution_count": 89
        },
        {
          "output_type": "display_data",
          "data": {
            "text/plain": [
              "<Figure size 640x480 with 2 Axes>"
            ],
            "image/png": "[encoded data removed]"
          },
          "metadata": {}
        }
      ]
    },
    {
      "cell_type": "markdown",
      "source": [
        "\n",
        "**Mathews Correlation Coefficient**"
      ],
      "metadata": {
        "id": "sUymospHlngQ"
      }
    },
    {
      "cell_type": "code",
      "source": [
        "# Matthews Correlation Coefficient with 'macro' averaging\n",
        "mcc_macro = matthews_corrcoef(y_test, y_pred)\n",
        "print(\"Matthews Correlation Coefficient (Macro):\", mcc_macro)"
      ],
      "metadata": {
        "colab": {
          "base_uri": "https://localhost:8080/"
        },
        "outputId": "630468cc-8b24-445d-ab32-9d5b3794c083",
        "id": "34cdqtxtlngQ"
      },
      "execution_count": 90,
      "outputs": [
        {
          "output_type": "stream",
          "name": "stdout",
          "text": [
            "Matthews Correlation Coefficient (Macro): 0.9462758713643655\n"
          ]
        }
      ]
    },
    {
      "cell_type": "markdown",
      "source": [
        "**Cohen's Kappa**"
      ],
      "metadata": {
        "id": "TGhlRvY6lngR"
      }
    },
    {
      "cell_type": "code",
      "source": [
        "# Cohen's Kappa with 'macro' averaging\n",
        "kappa_macro = cohen_kappa_score(y_test, y_pred)\n",
        "print(\"Cohen's Kappa (Macro):\", kappa_macro)"
      ],
      "metadata": {
        "colab": {
          "base_uri": "https://localhost:8080/"
        },
        "outputId": "e649eab2-bc69-4b3e-bed2-7f391ceeb6d7",
        "id": "q2O-EwGzlngR"
      },
      "execution_count": 91,
      "outputs": [
        {
          "output_type": "stream",
          "name": "stdout",
          "text": [
            "Cohen's Kappa (Macro): 0.9460782158922737\n"
          ]
        }
      ]
    },
    {
      "cell_type": "markdown",
      "source": [
        "# Classification Report"
      ],
      "metadata": {
        "id": "ATBD2LuUlngR"
      }
    },
    {
      "cell_type": "code",
      "source": [
        "report = classification_report(y_test, y_pred)\n",
        "print(report)"
      ],
      "metadata": {
        "colab": {
          "base_uri": "https://localhost:8080/"
        },
        "outputId": "76beaa81-7050-4a6e-e511-436e5dca997e",
        "id": "cuvQq09ulngR"
      },
      "execution_count": 92,
      "outputs": [
        {
          "output_type": "stream",
          "name": "stdout",
          "text": [
            "              precision    recall  f1-score   support\n",
            "\n",
            "    NEGATIVE       0.94      0.98      0.96       216\n",
            "     NEUTRAL       0.99      0.99      0.99       215\n",
            "    POSITIVE       0.96      0.93      0.94       209\n",
            "\n",
            "    accuracy                           0.96       640\n",
            "   macro avg       0.96      0.96      0.96       640\n",
            "weighted avg       0.96      0.96      0.96       640\n",
            "\n"
          ]
        }
      ]
    },
    {
      "cell_type": "markdown",
      "source": [
        "# Decision Tree Visualization"
      ],
      "metadata": {
        "id": "nhoC0erjlngS"
      }
    },
    {
      "cell_type": "code",
      "source": [
        "# Decision trees from the forest\n",
        "\n",
        "for i in range(3):\n",
        "    tree = rf.estimators_[i]\n",
        "    dot_data = export_graphviz(tree,\n",
        "                               feature_names=X_train.columns,\n",
        "                               filled=True,\n",
        "                               max_depth=2,\n",
        "                               impurity=False,\n",
        "                               proportion=True)\n",
        "    graph = graphviz.Source(dot_data)\n",
        "    display(graph)"
      ],
      "metadata": {
        "colab": {
          "base_uri": "https://localhost:8080/",
          "height": 1000
        },
        "id": "-IEXHNDWlngS",
        "outputId": "b3ce5b1a-e521-4952-ad88-8aa4a2fca52c"
      },
      "execution_count": 93,
      "outputs": [
        {
          "output_type": "display_data",
          "data": {
            "image/svg+xml": "<?xml version=\"1.0\" encoding=\"UTF-8\" standalone=\"no\"?>\n<!DOCTYPE svg PUBLIC \"-//W3C//DTD SVG 1.1//EN\"\n \"http://www.w3.org/Graphics/SVG/1.1/DTD/svg11.dtd\">\n<!-- Generated by graphviz version 2.43.0 (0)\n -->\n<!-- Title: Tree Pages: 1 -->\n<svg width=\"789pt\" height=\"311pt\"\n viewBox=\"0.00 0.00 788.50 311.00\" xmlns=\"http://www.w3.org/2000/svg\" xmlns:xlink=\"http://www.w3.org/1999/xlink\">\n<g id=\"graph0\" class=\"graph\" transform=\"scale(1 1) rotate(0) translate(4 307)\">\n<title>Tree</title>\n<polygon fill=\"white\" stroke=\"transparent\" points=\"-4,4 -4,-307 784.5,-307 784.5,4 -4,4\"/>\n<!-- 0 -->\n<g id=\"node1\" class=\"node\">\n<title>0</title>\n<polygon fill=\"#fffefe\" stroke=\"black\" points=\"477,-303 296,-303 296,-250 477,-250 477,-303\"/>\n<text text-anchor=\"middle\" x=\"386.5\" y=\"-287.8\" font-family=\"Helvetica,sans-Serif\" font-size=\"14.00\">min_q_18_a &lt;= 3.555</text>\n<text text-anchor=\"middle\" x=\"386.5\" y=\"-272.8\" font-family=\"Helvetica,sans-Serif\" font-size=\"14.00\">samples = 100.0%</text>\n<text text-anchor=\"middle\" x=\"386.5\" y=\"-257.8\" font-family=\"Helvetica,sans-Serif\" font-size=\"14.00\">value = [0.336, 0.33, 0.334]</text>\n</g>\n<!-- 1 -->\n<g id=\"node2\" class=\"node\">\n<title>1</title>\n<polygon fill=\"#fcf1ea\" stroke=\"black\" points=\"377.5,-214 189.5,-214 189.5,-161 377.5,-161 377.5,-214\"/>\n<text text-anchor=\"middle\" x=\"283.5\" y=\"-198.8\" font-family=\"Helvetica,sans-Serif\" font-size=\"14.00\">min_q_17_b &lt;= &#45;448.5</text>\n<text text-anchor=\"middle\" x=\"283.5\" y=\"-183.8\" font-family=\"Helvetica,sans-Serif\" font-size=\"14.00\">samples = 63.8%</text>\n<text text-anchor=\"middle\" x=\"283.5\" y=\"-168.8\" font-family=\"Helvetica,sans-Serif\" font-size=\"14.00\">value = [0.512, 0.035, 0.453]</text>\n</g>\n<!-- 0&#45;&gt;1 -->\n<g id=\"edge1\" class=\"edge\">\n<title>0&#45;&gt;1</title>\n<path fill=\"none\" stroke=\"black\" d=\"M356.15,-249.87C345.35,-240.75 333.05,-230.35 321.68,-220.75\"/>\n<polygon fill=\"black\" stroke=\"black\" points=\"323.88,-218.03 313.99,-214.25 319.37,-223.38 323.88,-218.03\"/>\n<text text-anchor=\"middle\" x=\"316.08\" y=\"-235.46\" font-family=\"Helvetica,sans-Serif\" font-size=\"14.00\">True</text>\n</g>\n<!-- 82 -->\n<g id=\"node9\" class=\"node\">\n<title>82</title>\n<polygon fill=\"#55e993\" stroke=\"black\" points=\"583.5,-214 395.5,-214 395.5,-161 583.5,-161 583.5,-214\"/>\n<text text-anchor=\"middle\" x=\"489.5\" y=\"-198.8\" font-family=\"Helvetica,sans-Serif\" font-size=\"14.00\">logm_9_b &lt;= 7.83</text>\n<text text-anchor=\"middle\" x=\"489.5\" y=\"-183.8\" font-family=\"Helvetica,sans-Serif\" font-size=\"14.00\">samples = 36.2%</text>\n<text text-anchor=\"middle\" x=\"489.5\" y=\"-168.8\" font-family=\"Helvetica,sans-Serif\" font-size=\"14.00\">value = [0.011, 0.876, 0.113]</text>\n</g>\n<!-- 0&#45;&gt;82 -->\n<g id=\"edge8\" class=\"edge\">\n<title>0&#45;&gt;82</title>\n<path fill=\"none\" stroke=\"black\" d=\"M416.85,-249.87C427.65,-240.75 439.95,-230.35 451.32,-220.75\"/>\n<polygon fill=\"black\" stroke=\"black\" points=\"453.63,-223.38 459.01,-214.25 449.12,-218.03 453.63,-223.38\"/>\n<text text-anchor=\"middle\" x=\"456.92\" y=\"-235.46\" font-family=\"Helvetica,sans-Serif\" font-size=\"14.00\">False</text>\n</g>\n<!-- 2 -->\n<g id=\"node3\" class=\"node\">\n<title>2</title>\n<polygon fill=\"#e89050\" stroke=\"black\" points=\"173,-125 0,-125 0,-72 173,-72 173,-125\"/>\n<text text-anchor=\"middle\" x=\"86.5\" y=\"-109.8\" font-family=\"Helvetica,sans-Serif\" font-size=\"14.00\">covmat_20_b &lt;= 8670.0</text>\n<text text-anchor=\"middle\" x=\"86.5\" y=\"-94.8\" font-family=\"Helvetica,sans-Serif\" font-size=\"14.00\">samples = 35.6%</text>\n<text text-anchor=\"middle\" x=\"86.5\" y=\"-79.8\" font-family=\"Helvetica,sans-Serif\" font-size=\"14.00\">value = [0.894, 0.0, 0.106]</text>\n</g>\n<!-- 1&#45;&gt;2 -->\n<g id=\"edge2\" class=\"edge\">\n<title>1&#45;&gt;2</title>\n<path fill=\"none\" stroke=\"black\" d=\"M225.72,-160.98C203.07,-150.98 176.93,-139.44 153.46,-129.07\"/>\n<polygon fill=\"black\" stroke=\"black\" points=\"154.84,-125.85 144.27,-125.01 152.01,-132.26 154.84,-125.85\"/>\n</g>\n<!-- 55 -->\n<g id=\"node6\" class=\"node\">\n<title>55</title>\n<polygon fill=\"#8e4de8\" stroke=\"black\" points=\"379.5,-125 191.5,-125 191.5,-72 379.5,-72 379.5,-125\"/>\n<text text-anchor=\"middle\" x=\"285.5\" y=\"-109.8\" font-family=\"Helvetica,sans-Serif\" font-size=\"14.00\">max_q_3_a &lt;= 37.1</text>\n<text text-anchor=\"middle\" x=\"285.5\" y=\"-94.8\" font-family=\"Helvetica,sans-Serif\" font-size=\"14.00\">samples = 28.2%</text>\n<text text-anchor=\"middle\" x=\"285.5\" y=\"-79.8\" font-family=\"Helvetica,sans-Serif\" font-size=\"14.00\">value = [0.012, 0.081, 0.907]</text>\n</g>\n<!-- 1&#45;&gt;55 -->\n<g id=\"edge5\" class=\"edge\">\n<title>1&#45;&gt;55</title>\n<path fill=\"none\" stroke=\"black\" d=\"M284.09,-160.87C284.27,-152.89 284.48,-143.93 284.68,-135.38\"/>\n<polygon fill=\"black\" stroke=\"black\" points=\"288.18,-135.33 284.91,-125.25 281.18,-135.17 288.18,-135.33\"/>\n</g>\n<!-- 3 -->\n<g id=\"node4\" class=\"node\">\n<title>3</title>\n<polygon fill=\"#c0c0c0\" stroke=\"black\" points=\"77.5,-36 23.5,-36 23.5,0 77.5,0 77.5,-36\"/>\n<text text-anchor=\"middle\" x=\"50.5\" y=\"-14.3\" font-family=\"Helvetica,sans-Serif\" font-size=\"14.00\">(...)</text>\n</g>\n<!-- 2&#45;&gt;3 -->\n<g id=\"edge3\" class=\"edge\">\n<title>2&#45;&gt;3</title>\n<path fill=\"none\" stroke=\"black\" d=\"M74.71,-71.8C70.84,-63.35 66.53,-53.95 62.63,-45.45\"/>\n<polygon fill=\"black\" stroke=\"black\" points=\"65.8,-43.96 58.45,-36.33 59.43,-46.88 65.8,-43.96\"/>\n</g>\n<!-- 6 -->\n<g id=\"node5\" class=\"node\">\n<title>6</title>\n<polygon fill=\"#c0c0c0\" stroke=\"black\" points=\"149.5,-36 95.5,-36 95.5,0 149.5,0 149.5,-36\"/>\n<text text-anchor=\"middle\" x=\"122.5\" y=\"-14.3\" font-family=\"Helvetica,sans-Serif\" font-size=\"14.00\">(...)</text>\n</g>\n<!-- 2&#45;&gt;6 -->\n<g id=\"edge4\" class=\"edge\">\n<title>2&#45;&gt;6</title>\n<path fill=\"none\" stroke=\"black\" d=\"M98.29,-71.8C102.16,-63.35 106.47,-53.95 110.37,-45.45\"/>\n<polygon fill=\"black\" stroke=\"black\" points=\"113.57,-46.88 114.55,-36.33 107.2,-43.96 113.57,-46.88\"/>\n</g>\n<!-- 56 -->\n<g id=\"node7\" class=\"node\">\n<title>56</title>\n<polygon fill=\"#c0c0c0\" stroke=\"black\" points=\"291.5,-36 237.5,-36 237.5,0 291.5,0 291.5,-36\"/>\n<text text-anchor=\"middle\" x=\"264.5\" y=\"-14.3\" font-family=\"Helvetica,sans-Serif\" font-size=\"14.00\">(...)</text>\n</g>\n<!-- 55&#45;&gt;56 -->\n<g id=\"edge6\" class=\"edge\">\n<title>55&#45;&gt;56</title>\n<path fill=\"none\" stroke=\"black\" d=\"M278.62,-71.8C276.41,-63.53 273.96,-54.35 271.72,-46\"/>\n<polygon fill=\"black\" stroke=\"black\" points=\"275.1,-45.09 269.14,-36.33 268.34,-46.9 275.1,-45.09\"/>\n</g>\n<!-- 71 -->\n<g id=\"node8\" class=\"node\">\n<title>71</title>\n<polygon fill=\"#c0c0c0\" stroke=\"black\" points=\"363.5,-36 309.5,-36 309.5,0 363.5,0 363.5,-36\"/>\n<text text-anchor=\"middle\" x=\"336.5\" y=\"-14.3\" font-family=\"Helvetica,sans-Serif\" font-size=\"14.00\">(...)</text>\n</g>\n<!-- 55&#45;&gt;71 -->\n<g id=\"edge7\" class=\"edge\">\n<title>55&#45;&gt;71</title>\n<path fill=\"none\" stroke=\"black\" d=\"M302.2,-71.8C307.81,-63.17 314.06,-53.54 319.67,-44.9\"/>\n<polygon fill=\"black\" stroke=\"black\" points=\"322.73,-46.62 325.24,-36.33 316.86,-42.81 322.73,-46.62\"/>\n</g>\n<!-- 83 -->\n<g id=\"node10\" class=\"node\">\n<title>83</title>\n<polygon fill=\"#3ee684\" stroke=\"black\" points=\"574,-125 401,-125 401,-72 574,-72 574,-125\"/>\n<text text-anchor=\"middle\" x=\"487.5\" y=\"-109.8\" font-family=\"Helvetica,sans-Serif\" font-size=\"14.00\"># mean_0_a &lt;= 18.6</text>\n<text text-anchor=\"middle\" x=\"487.5\" y=\"-94.8\" font-family=\"Helvetica,sans-Serif\" font-size=\"14.00\">samples = 31.9%</text>\n<text text-anchor=\"middle\" x=\"487.5\" y=\"-79.8\" font-family=\"Helvetica,sans-Serif\" font-size=\"14.00\">value = [0.0, 0.976, 0.024]</text>\n</g>\n<!-- 82&#45;&gt;83 -->\n<g id=\"edge9\" class=\"edge\">\n<title>82&#45;&gt;83</title>\n<path fill=\"none\" stroke=\"black\" d=\"M488.91,-160.87C488.73,-152.89 488.52,-143.93 488.32,-135.38\"/>\n<polygon fill=\"black\" stroke=\"black\" points=\"491.82,-135.17 488.09,-125.25 484.82,-135.33 491.82,-135.17\"/>\n</g>\n<!-- 88 -->\n<g id=\"node13\" class=\"node\">\n<title>88</title>\n<polygon fill=\"#975cea\" stroke=\"black\" points=\"780.5,-125 592.5,-125 592.5,-72 780.5,-72 780.5,-125\"/>\n<text text-anchor=\"middle\" x=\"686.5\" y=\"-109.8\" font-family=\"Helvetica,sans-Serif\" font-size=\"14.00\">fft_707_a &lt;= 78.6</text>\n<text text-anchor=\"middle\" x=\"686.5\" y=\"-94.8\" font-family=\"Helvetica,sans-Serif\" font-size=\"14.00\">samples = 4.2%</text>\n<text text-anchor=\"middle\" x=\"686.5\" y=\"-79.8\" font-family=\"Helvetica,sans-Serif\" font-size=\"14.00\">value = [0.105, 0.053, 0.842]</text>\n</g>\n<!-- 82&#45;&gt;88 -->\n<g id=\"edge12\" class=\"edge\">\n<title>82&#45;&gt;88</title>\n<path fill=\"none\" stroke=\"black\" d=\"M547.28,-160.98C569.93,-150.98 596.07,-139.44 619.54,-129.07\"/>\n<polygon fill=\"black\" stroke=\"black\" points=\"620.99,-132.26 628.73,-125.01 618.16,-125.85 620.99,-132.26\"/>\n</g>\n<!-- 84 -->\n<g id=\"node11\" class=\"node\">\n<title>84</title>\n<polygon fill=\"#c0c0c0\" stroke=\"black\" points=\"462.5,-36 408.5,-36 408.5,0 462.5,0 462.5,-36\"/>\n<text text-anchor=\"middle\" x=\"435.5\" y=\"-14.3\" font-family=\"Helvetica,sans-Serif\" font-size=\"14.00\">(...)</text>\n</g>\n<!-- 83&#45;&gt;84 -->\n<g id=\"edge10\" class=\"edge\">\n<title>83&#45;&gt;84</title>\n<path fill=\"none\" stroke=\"black\" d=\"M470.47,-71.8C464.76,-63.17 458.38,-53.54 452.66,-44.9\"/>\n<polygon fill=\"black\" stroke=\"black\" points=\"455.42,-42.73 446.98,-36.33 449.58,-46.6 455.42,-42.73\"/>\n</g>\n<!-- 87 -->\n<g id=\"node12\" class=\"node\">\n<title>87</title>\n<polygon fill=\"#c0c0c0\" stroke=\"black\" points=\"534.5,-36 480.5,-36 480.5,0 534.5,0 534.5,-36\"/>\n<text text-anchor=\"middle\" x=\"507.5\" y=\"-14.3\" font-family=\"Helvetica,sans-Serif\" font-size=\"14.00\">(...)</text>\n</g>\n<!-- 83&#45;&gt;87 -->\n<g id=\"edge11\" class=\"edge\">\n<title>83&#45;&gt;87</title>\n<path fill=\"none\" stroke=\"black\" d=\"M494.05,-71.8C496.13,-63.62 498.44,-54.55 500.55,-46.27\"/>\n<polygon fill=\"black\" stroke=\"black\" points=\"504.01,-46.88 503.08,-36.33 497.22,-45.16 504.01,-46.88\"/>\n</g>\n<!-- 89 -->\n<g id=\"node14\" class=\"node\">\n<title>89</title>\n<polygon fill=\"#c0c0c0\" stroke=\"black\" points=\"677.5,-36 623.5,-36 623.5,0 677.5,0 677.5,-36\"/>\n<text text-anchor=\"middle\" x=\"650.5\" y=\"-14.3\" font-family=\"Helvetica,sans-Serif\" font-size=\"14.00\">(...)</text>\n</g>\n<!-- 88&#45;&gt;89 -->\n<g id=\"edge13\" class=\"edge\">\n<title>88&#45;&gt;89</title>\n<path fill=\"none\" stroke=\"black\" d=\"M674.71,-71.8C670.84,-63.35 666.53,-53.95 662.63,-45.45\"/>\n<polygon fill=\"black\" stroke=\"black\" points=\"665.8,-43.96 658.45,-36.33 659.43,-46.88 665.8,-43.96\"/>\n</g>\n<!-- 96 -->\n<g id=\"node15\" class=\"node\">\n<title>96</title>\n<polygon fill=\"#c0c0c0\" stroke=\"black\" points=\"749.5,-36 695.5,-36 695.5,0 749.5,0 749.5,-36\"/>\n<text text-anchor=\"middle\" x=\"722.5\" y=\"-14.3\" font-family=\"Helvetica,sans-Serif\" font-size=\"14.00\">(...)</text>\n</g>\n<!-- 88&#45;&gt;96 -->\n<g id=\"edge14\" class=\"edge\">\n<title>88&#45;&gt;96</title>\n<path fill=\"none\" stroke=\"black\" d=\"M698.29,-71.8C702.16,-63.35 706.47,-53.95 710.37,-45.45\"/>\n<polygon fill=\"black\" stroke=\"black\" points=\"713.57,-46.88 714.55,-36.33 707.2,-43.96 713.57,-46.88\"/>\n</g>\n</g>\n</svg>\n",
            "text/plain": [
              "<graphviz.sources.Source at 0x7bebf67e7d30>"
            ]
          },
          "metadata": {}
        },
        {
          "output_type": "display_data",
          "data": {
            "image/svg+xml": "<?xml version=\"1.0\" encoding=\"UTF-8\" standalone=\"no\"?>\n<!DOCTYPE svg PUBLIC \"-//W3C//DTD SVG 1.1//EN\"\n \"http://www.w3.org/Graphics/SVG/1.1/DTD/svg11.dtd\">\n<!-- Generated by graphviz version 2.43.0 (0)\n -->\n<!-- Title: Tree Pages: 1 -->\n<svg width=\"796pt\" height=\"311pt\"\n viewBox=\"0.00 0.00 796.00 311.00\" xmlns=\"http://www.w3.org/2000/svg\" xmlns:xlink=\"http://www.w3.org/1999/xlink\">\n<g id=\"graph0\" class=\"graph\" transform=\"scale(1 1) rotate(0) translate(4 307)\">\n<title>Tree</title>\n<polygon fill=\"white\" stroke=\"transparent\" points=\"-4,4 -4,-307 792,-307 792,4 -4,4\"/>\n<!-- 0 -->\n<g id=\"node1\" class=\"node\">\n<title>0</title>\n<polygon fill=\"#fcfffd\" stroke=\"black\" points=\"492.5,-303 304.5,-303 304.5,-250 492.5,-250 492.5,-303\"/>\n<text text-anchor=\"middle\" x=\"398.5\" y=\"-287.8\" font-family=\"Helvetica,sans-Serif\" font-size=\"14.00\">mean_d_5_a &lt;= 23.1</text>\n<text text-anchor=\"middle\" x=\"398.5\" y=\"-272.8\" font-family=\"Helvetica,sans-Serif\" font-size=\"14.00\">samples = 100.0%</text>\n<text text-anchor=\"middle\" x=\"398.5\" y=\"-257.8\" font-family=\"Helvetica,sans-Serif\" font-size=\"14.00\">value = [0.333, 0.342, 0.324]</text>\n</g>\n<!-- 1 -->\n<g id=\"node2\" class=\"node\">\n<title>1</title>\n<polygon fill=\"#fefdff\" stroke=\"black\" points=\"388.5,-214 200.5,-214 200.5,-161 388.5,-161 388.5,-214\"/>\n<text text-anchor=\"middle\" x=\"294.5\" y=\"-198.8\" font-family=\"Helvetica,sans-Serif\" font-size=\"14.00\">mean_d_2_b2 &lt;= &#45;102.5</text>\n<text text-anchor=\"middle\" x=\"294.5\" y=\"-183.8\" font-family=\"Helvetica,sans-Serif\" font-size=\"14.00\">samples = 64.5%</text>\n<text text-anchor=\"middle\" x=\"294.5\" y=\"-168.8\" font-family=\"Helvetica,sans-Serif\" font-size=\"14.00\">value = [0.481, 0.034, 0.485]</text>\n</g>\n<!-- 0&#45;&gt;1 -->\n<g id=\"edge1\" class=\"edge\">\n<title>0&#45;&gt;1</title>\n<path fill=\"none\" stroke=\"black\" d=\"M367.86,-249.87C356.95,-240.75 344.53,-230.35 333.05,-220.75\"/>\n<polygon fill=\"black\" stroke=\"black\" points=\"335.2,-217.98 325.28,-214.25 330.71,-223.35 335.2,-217.98\"/>\n<text text-anchor=\"middle\" x=\"327.5\" y=\"-235.45\" font-family=\"Helvetica,sans-Serif\" font-size=\"14.00\">True</text>\n</g>\n<!-- 58 -->\n<g id=\"node9\" class=\"node\">\n<title>58</title>\n<polygon fill=\"#50e88f\" stroke=\"black\" points=\"596.5,-214 408.5,-214 408.5,-161 596.5,-161 596.5,-214\"/>\n<text text-anchor=\"middle\" x=\"502.5\" y=\"-198.8\" font-family=\"Helvetica,sans-Serif\" font-size=\"14.00\">mean_d_7_a &lt;= &#45;17.7</text>\n<text text-anchor=\"middle\" x=\"502.5\" y=\"-183.8\" font-family=\"Helvetica,sans-Serif\" font-size=\"14.00\">samples = 35.5%</text>\n<text text-anchor=\"middle\" x=\"502.5\" y=\"-168.8\" font-family=\"Helvetica,sans-Serif\" font-size=\"14.00\">value = [0.069, 0.893, 0.037]</text>\n</g>\n<!-- 0&#45;&gt;58 -->\n<g id=\"edge8\" class=\"edge\">\n<title>0&#45;&gt;58</title>\n<path fill=\"none\" stroke=\"black\" d=\"M429.14,-249.87C440.05,-240.75 452.47,-230.35 463.95,-220.75\"/>\n<polygon fill=\"black\" stroke=\"black\" points=\"466.29,-223.35 471.72,-214.25 461.8,-217.98 466.29,-223.35\"/>\n<text text-anchor=\"middle\" x=\"469.5\" y=\"-235.45\" font-family=\"Helvetica,sans-Serif\" font-size=\"14.00\">False</text>\n</g>\n<!-- 2 -->\n<g id=\"node3\" class=\"node\">\n<title>2</title>\n<polygon fill=\"#ea995e\" stroke=\"black\" points=\"173,-125 0,-125 0,-72 173,-72 173,-125\"/>\n<text text-anchor=\"middle\" x=\"86.5\" y=\"-109.8\" font-family=\"Helvetica,sans-Serif\" font-size=\"14.00\">min_q_8_b &lt;= &#45;0.293</text>\n<text text-anchor=\"middle\" x=\"86.5\" y=\"-94.8\" font-family=\"Helvetica,sans-Serif\" font-size=\"14.00\">samples = 36.1%</text>\n<text text-anchor=\"middle\" x=\"86.5\" y=\"-79.8\" font-family=\"Helvetica,sans-Serif\" font-size=\"14.00\">value = [0.843, 0.0, 0.157]</text>\n</g>\n<!-- 1&#45;&gt;2 -->\n<g id=\"edge2\" class=\"edge\">\n<title>1&#45;&gt;2</title>\n<path fill=\"none\" stroke=\"black\" d=\"M233.5,-160.98C209.48,-150.94 181.74,-139.34 156.88,-128.94\"/>\n<polygon fill=\"black\" stroke=\"black\" points=\"158.08,-125.64 147.5,-125.01 155.38,-132.1 158.08,-125.64\"/>\n</g>\n<!-- 33 -->\n<g id=\"node6\" class=\"node\">\n<title>33</title>\n<polygon fill=\"#8d4de8\" stroke=\"black\" points=\"397.5,-125 191.5,-125 191.5,-72 397.5,-72 397.5,-125\"/>\n<text text-anchor=\"middle\" x=\"294.5\" y=\"-109.8\" font-family=\"Helvetica,sans-Serif\" font-size=\"14.00\">moments_15_b &lt;= 42850000.0</text>\n<text text-anchor=\"middle\" x=\"294.5\" y=\"-94.8\" font-family=\"Helvetica,sans-Serif\" font-size=\"14.00\">samples = 28.4%</text>\n<text text-anchor=\"middle\" x=\"294.5\" y=\"-79.8\" font-family=\"Helvetica,sans-Serif\" font-size=\"14.00\">value = [0.012, 0.079, 0.909]</text>\n</g>\n<!-- 1&#45;&gt;33 -->\n<g id=\"edge5\" class=\"edge\">\n<title>1&#45;&gt;33</title>\n<path fill=\"none\" stroke=\"black\" d=\"M294.5,-160.87C294.5,-152.89 294.5,-143.93 294.5,-135.38\"/>\n<polygon fill=\"black\" stroke=\"black\" points=\"298,-135.25 294.5,-125.25 291,-135.25 298,-135.25\"/>\n</g>\n<!-- 3 -->\n<g id=\"node4\" class=\"node\">\n<title>3</title>\n<polygon fill=\"#c0c0c0\" stroke=\"black\" points=\"77.5,-36 23.5,-36 23.5,0 77.5,0 77.5,-36\"/>\n<text text-anchor=\"middle\" x=\"50.5\" y=\"-14.3\" font-family=\"Helvetica,sans-Serif\" font-size=\"14.00\">(...)</text>\n</g>\n<!-- 2&#45;&gt;3 -->\n<g id=\"edge3\" class=\"edge\">\n<title>2&#45;&gt;3</title>\n<path fill=\"none\" stroke=\"black\" d=\"M74.71,-71.8C70.84,-63.35 66.53,-53.95 62.63,-45.45\"/>\n<polygon fill=\"black\" stroke=\"black\" points=\"65.8,-43.96 58.45,-36.33 59.43,-46.88 65.8,-43.96\"/>\n</g>\n<!-- 24 -->\n<g id=\"node5\" class=\"node\">\n<title>24</title>\n<polygon fill=\"#c0c0c0\" stroke=\"black\" points=\"149.5,-36 95.5,-36 95.5,0 149.5,0 149.5,-36\"/>\n<text text-anchor=\"middle\" x=\"122.5\" y=\"-14.3\" font-family=\"Helvetica,sans-Serif\" font-size=\"14.00\">(...)</text>\n</g>\n<!-- 2&#45;&gt;24 -->\n<g id=\"edge4\" class=\"edge\">\n<title>2&#45;&gt;24</title>\n<path fill=\"none\" stroke=\"black\" d=\"M98.29,-71.8C102.16,-63.35 106.47,-53.95 110.37,-45.45\"/>\n<polygon fill=\"black\" stroke=\"black\" points=\"113.57,-46.88 114.55,-36.33 107.2,-43.96 113.57,-46.88\"/>\n</g>\n<!-- 34 -->\n<g id=\"node7\" class=\"node\">\n<title>34</title>\n<polygon fill=\"#c0c0c0\" stroke=\"black\" points=\"301.5,-36 247.5,-36 247.5,0 301.5,0 301.5,-36\"/>\n<text text-anchor=\"middle\" x=\"274.5\" y=\"-14.3\" font-family=\"Helvetica,sans-Serif\" font-size=\"14.00\">(...)</text>\n</g>\n<!-- 33&#45;&gt;34 -->\n<g id=\"edge6\" class=\"edge\">\n<title>33&#45;&gt;34</title>\n<path fill=\"none\" stroke=\"black\" d=\"M287.95,-71.8C285.87,-63.62 283.56,-54.55 281.45,-46.27\"/>\n<polygon fill=\"black\" stroke=\"black\" points=\"284.78,-45.16 278.92,-36.33 277.99,-46.88 284.78,-45.16\"/>\n</g>\n<!-- 35 -->\n<g id=\"node8\" class=\"node\">\n<title>35</title>\n<polygon fill=\"#c0c0c0\" stroke=\"black\" points=\"373.5,-36 319.5,-36 319.5,0 373.5,0 373.5,-36\"/>\n<text text-anchor=\"middle\" x=\"346.5\" y=\"-14.3\" font-family=\"Helvetica,sans-Serif\" font-size=\"14.00\">(...)</text>\n</g>\n<!-- 33&#45;&gt;35 -->\n<g id=\"edge7\" class=\"edge\">\n<title>33&#45;&gt;35</title>\n<path fill=\"none\" stroke=\"black\" d=\"M311.53,-71.8C317.24,-63.17 323.62,-53.54 329.34,-44.9\"/>\n<polygon fill=\"black\" stroke=\"black\" points=\"332.42,-46.6 335.02,-36.33 326.58,-42.73 332.42,-46.6\"/>\n</g>\n<!-- 59 -->\n<g id=\"node10\" class=\"node\">\n<title>59</title>\n<polygon fill=\"#eca572\" stroke=\"black\" points=\"589,-125 416,-125 416,-72 589,-72 589,-125\"/>\n<text text-anchor=\"middle\" x=\"502.5\" y=\"-109.8\" font-family=\"Helvetica,sans-Serif\" font-size=\"14.00\">max_q_5_b &lt;= 49.75</text>\n<text text-anchor=\"middle\" x=\"502.5\" y=\"-94.8\" font-family=\"Helvetica,sans-Serif\" font-size=\"14.00\">samples = 3.2%</text>\n<text text-anchor=\"middle\" x=\"502.5\" y=\"-79.8\" font-family=\"Helvetica,sans-Serif\" font-size=\"14.00\">value = [0.778, 0.0, 0.222]</text>\n</g>\n<!-- 58&#45;&gt;59 -->\n<g id=\"edge9\" class=\"edge\">\n<title>58&#45;&gt;59</title>\n<path fill=\"none\" stroke=\"black\" d=\"M502.5,-160.87C502.5,-152.89 502.5,-143.93 502.5,-135.38\"/>\n<polygon fill=\"black\" stroke=\"black\" points=\"506,-135.25 502.5,-125.25 499,-135.25 506,-135.25\"/>\n</g>\n<!-- 66 -->\n<g id=\"node13\" class=\"node\">\n<title>66</title>\n<polygon fill=\"#3ee684\" stroke=\"black\" points=\"788,-125 607,-125 607,-72 788,-72 788,-125\"/>\n<text text-anchor=\"middle\" x=\"697.5\" y=\"-109.8\" font-family=\"Helvetica,sans-Serif\" font-size=\"14.00\">covmat_13_a &lt;= 9400.0</text>\n<text text-anchor=\"middle\" x=\"697.5\" y=\"-94.8\" font-family=\"Helvetica,sans-Serif\" font-size=\"14.00\">samples = 32.3%</text>\n<text text-anchor=\"middle\" x=\"697.5\" y=\"-79.8\" font-family=\"Helvetica,sans-Serif\" font-size=\"14.00\">value = [0.004, 0.976, 0.02]</text>\n</g>\n<!-- 58&#45;&gt;66 -->\n<g id=\"edge12\" class=\"edge\">\n<title>58&#45;&gt;66</title>\n<path fill=\"none\" stroke=\"black\" d=\"M559.69,-160.98C582.01,-151.03 607.76,-139.54 630.91,-129.21\"/>\n<polygon fill=\"black\" stroke=\"black\" points=\"632.61,-132.29 640.31,-125.01 629.75,-125.89 632.61,-132.29\"/>\n</g>\n<!-- 60 -->\n<g id=\"node11\" class=\"node\">\n<title>60</title>\n<polygon fill=\"#c0c0c0\" stroke=\"black\" points=\"477.5,-36 423.5,-36 423.5,0 477.5,0 477.5,-36\"/>\n<text text-anchor=\"middle\" x=\"450.5\" y=\"-14.3\" font-family=\"Helvetica,sans-Serif\" font-size=\"14.00\">(...)</text>\n</g>\n<!-- 59&#45;&gt;60 -->\n<g id=\"edge10\" class=\"edge\">\n<title>59&#45;&gt;60</title>\n<path fill=\"none\" stroke=\"black\" d=\"M485.47,-71.8C479.76,-63.17 473.38,-53.54 467.66,-44.9\"/>\n<polygon fill=\"black\" stroke=\"black\" points=\"470.42,-42.73 461.98,-36.33 464.58,-46.6 470.42,-42.73\"/>\n</g>\n<!-- 65 -->\n<g id=\"node12\" class=\"node\">\n<title>65</title>\n<polygon fill=\"#c0c0c0\" stroke=\"black\" points=\"549.5,-36 495.5,-36 495.5,0 549.5,0 549.5,-36\"/>\n<text text-anchor=\"middle\" x=\"522.5\" y=\"-14.3\" font-family=\"Helvetica,sans-Serif\" font-size=\"14.00\">(...)</text>\n</g>\n<!-- 59&#45;&gt;65 -->\n<g id=\"edge11\" class=\"edge\">\n<title>59&#45;&gt;65</title>\n<path fill=\"none\" stroke=\"black\" d=\"M509.05,-71.8C511.13,-63.62 513.44,-54.55 515.55,-46.27\"/>\n<polygon fill=\"black\" stroke=\"black\" points=\"519.01,-46.88 518.08,-36.33 512.22,-45.16 519.01,-46.88\"/>\n</g>\n<!-- 67 -->\n<g id=\"node14\" class=\"node\">\n<title>67</title>\n<polygon fill=\"#c0c0c0\" stroke=\"black\" points=\"688.5,-36 634.5,-36 634.5,0 688.5,0 688.5,-36\"/>\n<text text-anchor=\"middle\" x=\"661.5\" y=\"-14.3\" font-family=\"Helvetica,sans-Serif\" font-size=\"14.00\">(...)</text>\n</g>\n<!-- 66&#45;&gt;67 -->\n<g id=\"edge13\" class=\"edge\">\n<title>66&#45;&gt;67</title>\n<path fill=\"none\" stroke=\"black\" d=\"M685.71,-71.8C681.84,-63.35 677.53,-53.95 673.63,-45.45\"/>\n<polygon fill=\"black\" stroke=\"black\" points=\"676.8,-43.96 669.45,-36.33 670.43,-46.88 676.8,-43.96\"/>\n</g>\n<!-- 70 -->\n<g id=\"node15\" class=\"node\">\n<title>70</title>\n<polygon fill=\"#c0c0c0\" stroke=\"black\" points=\"760.5,-36 706.5,-36 706.5,0 760.5,0 760.5,-36\"/>\n<text text-anchor=\"middle\" x=\"733.5\" y=\"-14.3\" font-family=\"Helvetica,sans-Serif\" font-size=\"14.00\">(...)</text>\n</g>\n<!-- 66&#45;&gt;70 -->\n<g id=\"edge14\" class=\"edge\">\n<title>66&#45;&gt;70</title>\n<path fill=\"none\" stroke=\"black\" d=\"M709.29,-71.8C713.16,-63.35 717.47,-53.95 721.37,-45.45\"/>\n<polygon fill=\"black\" stroke=\"black\" points=\"724.57,-46.88 725.55,-36.33 718.2,-43.96 724.57,-46.88\"/>\n</g>\n</g>\n</svg>\n",
            "text/plain": [
              "<graphviz.sources.Source at 0x7bebf698cb20>"
            ]
          },
          "metadata": {}
        },
        {
          "output_type": "display_data",
          "data": {
            "image/svg+xml": "<?xml version=\"1.0\" encoding=\"UTF-8\" standalone=\"no\"?>\n<!DOCTYPE svg PUBLIC \"-//W3C//DTD SVG 1.1//EN\"\n \"http://www.w3.org/Graphics/SVG/1.1/DTD/svg11.dtd\">\n<!-- Generated by graphviz version 2.43.0 (0)\n -->\n<!-- Title: Tree Pages: 1 -->\n<svg width=\"803pt\" height=\"311pt\"\n viewBox=\"0.00 0.00 803.00 311.00\" xmlns=\"http://www.w3.org/2000/svg\" xmlns:xlink=\"http://www.w3.org/1999/xlink\">\n<g id=\"graph0\" class=\"graph\" transform=\"scale(1 1) rotate(0) translate(4 307)\">\n<title>Tree</title>\n<polygon fill=\"white\" stroke=\"transparent\" points=\"-4,4 -4,-307 799,-307 799,4 -4,4\"/>\n<!-- 0 -->\n<g id=\"node1\" class=\"node\">\n<title>0</title>\n<polygon fill=\"#fffefe\" stroke=\"black\" points=\"491.5,-303 310.5,-303 310.5,-250 491.5,-250 491.5,-303\"/>\n<text text-anchor=\"middle\" x=\"401\" y=\"-287.8\" font-family=\"Helvetica,sans-Serif\" font-size=\"14.00\">correlate_63_b &lt;= 11750.0</text>\n<text text-anchor=\"middle\" x=\"401\" y=\"-272.8\" font-family=\"Helvetica,sans-Serif\" font-size=\"14.00\">samples = 100.0%</text>\n<text text-anchor=\"middle\" x=\"401\" y=\"-257.8\" font-family=\"Helvetica,sans-Serif\" font-size=\"14.00\">value = [0.34, 0.337, 0.322]</text>\n</g>\n<!-- 1 -->\n<g id=\"node2\" class=\"node\">\n<title>1</title>\n<polygon fill=\"#d8fae6\" stroke=\"black\" points=\"392,-214 204,-214 204,-161 392,-161 392,-214\"/>\n<text text-anchor=\"middle\" x=\"298\" y=\"-198.8\" font-family=\"Helvetica,sans-Serif\" font-size=\"14.00\">covmat_87_b &lt;= 18.4</text>\n<text text-anchor=\"middle\" x=\"298\" y=\"-183.8\" font-family=\"Helvetica,sans-Serif\" font-size=\"14.00\">samples = 63.7%</text>\n<text text-anchor=\"middle\" x=\"298\" y=\"-168.8\" font-family=\"Helvetica,sans-Serif\" font-size=\"14.00\">value = [0.068, 0.524, 0.408]</text>\n</g>\n<!-- 0&#45;&gt;1 -->\n<g id=\"edge1\" class=\"edge\">\n<title>0&#45;&gt;1</title>\n<path fill=\"none\" stroke=\"black\" d=\"M370.65,-249.87C359.85,-240.75 347.55,-230.35 336.18,-220.75\"/>\n<polygon fill=\"black\" stroke=\"black\" points=\"338.38,-218.03 328.49,-214.25 333.87,-223.38 338.38,-218.03\"/>\n<text text-anchor=\"middle\" x=\"330.58\" y=\"-235.46\" font-family=\"Helvetica,sans-Serif\" font-size=\"14.00\">True</text>\n</g>\n<!-- 60 -->\n<g id=\"node9\" class=\"node\">\n<title>60</title>\n<polygon fill=\"#ea9c63\" stroke=\"black\" points=\"598,-214 410,-214 410,-161 598,-161 598,-214\"/>\n<text text-anchor=\"middle\" x=\"504\" y=\"-198.8\" font-family=\"Helvetica,sans-Serif\" font-size=\"14.00\">min_q_8_a &lt;= 0.02</text>\n<text text-anchor=\"middle\" x=\"504\" y=\"-183.8\" font-family=\"Helvetica,sans-Serif\" font-size=\"14.00\">samples = 36.3%</text>\n<text text-anchor=\"middle\" x=\"504\" y=\"-168.8\" font-family=\"Helvetica,sans-Serif\" font-size=\"14.00\">value = [0.825, 0.006, 0.169]</text>\n</g>\n<!-- 0&#45;&gt;60 -->\n<g id=\"edge8\" class=\"edge\">\n<title>0&#45;&gt;60</title>\n<path fill=\"none\" stroke=\"black\" d=\"M431.35,-249.87C442.15,-240.75 454.45,-230.35 465.82,-220.75\"/>\n<polygon fill=\"black\" stroke=\"black\" points=\"468.13,-223.38 473.51,-214.25 463.62,-218.03 468.13,-223.38\"/>\n<text text-anchor=\"middle\" x=\"471.42\" y=\"-235.46\" font-family=\"Helvetica,sans-Serif\" font-size=\"14.00\">False</text>\n</g>\n<!-- 2 -->\n<g id=\"node3\" class=\"node\">\n<title>2</title>\n<polygon fill=\"#a978ed\" stroke=\"black\" points=\"188,-125 0,-125 0,-72 188,-72 188,-125\"/>\n<text text-anchor=\"middle\" x=\"94\" y=\"-109.8\" font-family=\"Helvetica,sans-Serif\" font-size=\"14.00\">covmat_48_a &lt;= &#45;44.8</text>\n<text text-anchor=\"middle\" x=\"94\" y=\"-94.8\" font-family=\"Helvetica,sans-Serif\" font-size=\"14.00\">samples = 32.5%</text>\n<text text-anchor=\"middle\" x=\"94\" y=\"-79.8\" font-family=\"Helvetica,sans-Serif\" font-size=\"14.00\">value = [0.111, 0.158, 0.732]</text>\n</g>\n<!-- 1&#45;&gt;2 -->\n<g id=\"edge2\" class=\"edge\">\n<title>1&#45;&gt;2</title>\n<path fill=\"none\" stroke=\"black\" d=\"M238.17,-160.98C214.72,-150.98 187.65,-139.44 163.34,-129.07\"/>\n<polygon fill=\"black\" stroke=\"black\" points=\"164.4,-125.72 153.83,-125.01 161.65,-132.16 164.4,-125.72\"/>\n</g>\n<!-- 37 -->\n<g id=\"node6\" class=\"node\">\n<title>37</title>\n<polygon fill=\"#4de88e\" stroke=\"black\" points=\"394,-125 206,-125 206,-72 394,-72 394,-125\"/>\n<text text-anchor=\"middle\" x=\"300\" y=\"-109.8\" font-family=\"Helvetica,sans-Serif\" font-size=\"14.00\">mean_d_8_a &lt;= 21.7</text>\n<text text-anchor=\"middle\" x=\"300\" y=\"-94.8\" font-family=\"Helvetica,sans-Serif\" font-size=\"14.00\">samples = 31.2%</text>\n<text text-anchor=\"middle\" x=\"300\" y=\"-79.8\" font-family=\"Helvetica,sans-Serif\" font-size=\"14.00\">value = [0.024, 0.906, 0.071]</text>\n</g>\n<!-- 1&#45;&gt;37 -->\n<g id=\"edge5\" class=\"edge\">\n<title>1&#45;&gt;37</title>\n<path fill=\"none\" stroke=\"black\" d=\"M298.59,-160.87C298.77,-152.89 298.98,-143.93 299.18,-135.38\"/>\n<polygon fill=\"black\" stroke=\"black\" points=\"302.68,-135.33 299.41,-125.25 295.68,-135.17 302.68,-135.33\"/>\n</g>\n<!-- 3 -->\n<g id=\"node4\" class=\"node\">\n<title>3</title>\n<polygon fill=\"#c0c0c0\" stroke=\"black\" points=\"85,-36 31,-36 31,0 85,0 85,-36\"/>\n<text text-anchor=\"middle\" x=\"58\" y=\"-14.3\" font-family=\"Helvetica,sans-Serif\" font-size=\"14.00\">(...)</text>\n</g>\n<!-- 2&#45;&gt;3 -->\n<g id=\"edge3\" class=\"edge\">\n<title>2&#45;&gt;3</title>\n<path fill=\"none\" stroke=\"black\" d=\"M82.21,-71.8C78.34,-63.35 74.03,-53.95 70.13,-45.45\"/>\n<polygon fill=\"black\" stroke=\"black\" points=\"73.3,-43.96 65.95,-36.33 66.93,-46.88 73.3,-43.96\"/>\n</g>\n<!-- 16 -->\n<g id=\"node5\" class=\"node\">\n<title>16</title>\n<polygon fill=\"#c0c0c0\" stroke=\"black\" points=\"157,-36 103,-36 103,0 157,0 157,-36\"/>\n<text text-anchor=\"middle\" x=\"130\" y=\"-14.3\" font-family=\"Helvetica,sans-Serif\" font-size=\"14.00\">(...)</text>\n</g>\n<!-- 2&#45;&gt;16 -->\n<g id=\"edge4\" class=\"edge\">\n<title>2&#45;&gt;16</title>\n<path fill=\"none\" stroke=\"black\" d=\"M105.79,-71.8C109.66,-63.35 113.97,-53.95 117.87,-45.45\"/>\n<polygon fill=\"black\" stroke=\"black\" points=\"121.07,-46.88 122.05,-36.33 114.7,-43.96 121.07,-46.88\"/>\n</g>\n<!-- 38 -->\n<g id=\"node7\" class=\"node\">\n<title>38</title>\n<polygon fill=\"#c0c0c0\" stroke=\"black\" points=\"306,-36 252,-36 252,0 306,0 306,-36\"/>\n<text text-anchor=\"middle\" x=\"279\" y=\"-14.3\" font-family=\"Helvetica,sans-Serif\" font-size=\"14.00\">(...)</text>\n</g>\n<!-- 37&#45;&gt;38 -->\n<g id=\"edge6\" class=\"edge\">\n<title>37&#45;&gt;38</title>\n<path fill=\"none\" stroke=\"black\" d=\"M293.12,-71.8C290.91,-63.53 288.46,-54.35 286.22,-46\"/>\n<polygon fill=\"black\" stroke=\"black\" points=\"289.6,-45.09 283.64,-36.33 282.84,-46.9 289.6,-45.09\"/>\n</g>\n<!-- 53 -->\n<g id=\"node8\" class=\"node\">\n<title>53</title>\n<polygon fill=\"#c0c0c0\" stroke=\"black\" points=\"378,-36 324,-36 324,0 378,0 378,-36\"/>\n<text text-anchor=\"middle\" x=\"351\" y=\"-14.3\" font-family=\"Helvetica,sans-Serif\" font-size=\"14.00\">(...)</text>\n</g>\n<!-- 37&#45;&gt;53 -->\n<g id=\"edge7\" class=\"edge\">\n<title>37&#45;&gt;53</title>\n<path fill=\"none\" stroke=\"black\" d=\"M316.7,-71.8C322.31,-63.17 328.56,-53.54 334.17,-44.9\"/>\n<polygon fill=\"black\" stroke=\"black\" points=\"337.23,-46.62 339.74,-36.33 331.36,-42.81 337.23,-46.62\"/>\n</g>\n<!-- 61 -->\n<g id=\"node10\" class=\"node\">\n<title>61</title>\n<polygon fill=\"#e78d4b\" stroke=\"black\" points=\"588.5,-125 415.5,-125 415.5,-72 588.5,-72 588.5,-125\"/>\n<text text-anchor=\"middle\" x=\"502\" y=\"-109.8\" font-family=\"Helvetica,sans-Serif\" font-size=\"14.00\">max_q_32_a &lt;= 271.5</text>\n<text text-anchor=\"middle\" x=\"502\" y=\"-94.8\" font-family=\"Helvetica,sans-Serif\" font-size=\"14.00\">samples = 32.0%</text>\n<text text-anchor=\"middle\" x=\"502\" y=\"-79.8\" font-family=\"Helvetica,sans-Serif\" font-size=\"14.00\">value = [0.916, 0.0, 0.084]</text>\n</g>\n<!-- 60&#45;&gt;61 -->\n<g id=\"edge9\" class=\"edge\">\n<title>60&#45;&gt;61</title>\n<path fill=\"none\" stroke=\"black\" d=\"M503.41,-160.87C503.23,-152.89 503.02,-143.93 502.82,-135.38\"/>\n<polygon fill=\"black\" stroke=\"black\" points=\"506.32,-135.17 502.59,-125.25 499.32,-135.33 506.32,-135.17\"/>\n</g>\n<!-- 92 -->\n<g id=\"node13\" class=\"node\">\n<title>92</title>\n<polygon fill=\"#9456e9\" stroke=\"black\" points=\"795,-125 607,-125 607,-72 795,-72 795,-125\"/>\n<text text-anchor=\"middle\" x=\"701\" y=\"-109.8\" font-family=\"Helvetica,sans-Serif\" font-size=\"14.00\">stddev_1_a &lt;= 4.865</text>\n<text text-anchor=\"middle\" x=\"701\" y=\"-94.8\" font-family=\"Helvetica,sans-Serif\" font-size=\"14.00\">samples = 4.3%</text>\n<text text-anchor=\"middle\" x=\"701\" y=\"-79.8\" font-family=\"Helvetica,sans-Serif\" font-size=\"14.00\">value = [0.085, 0.051, 0.864]</text>\n</g>\n<!-- 60&#45;&gt;92 -->\n<g id=\"edge12\" class=\"edge\">\n<title>60&#45;&gt;92</title>\n<path fill=\"none\" stroke=\"black\" d=\"M561.78,-160.98C584.43,-150.98 610.57,-139.44 634.04,-129.07\"/>\n<polygon fill=\"black\" stroke=\"black\" points=\"635.49,-132.26 643.23,-125.01 632.66,-125.85 635.49,-132.26\"/>\n</g>\n<!-- 62 -->\n<g id=\"node11\" class=\"node\">\n<title>62</title>\n<polygon fill=\"#c0c0c0\" stroke=\"black\" points=\"477,-36 423,-36 423,0 477,0 477,-36\"/>\n<text text-anchor=\"middle\" x=\"450\" y=\"-14.3\" font-family=\"Helvetica,sans-Serif\" font-size=\"14.00\">(...)</text>\n</g>\n<!-- 61&#45;&gt;62 -->\n<g id=\"edge10\" class=\"edge\">\n<title>61&#45;&gt;62</title>\n<path fill=\"none\" stroke=\"black\" d=\"M484.97,-71.8C479.26,-63.17 472.88,-53.54 467.16,-44.9\"/>\n<polygon fill=\"black\" stroke=\"black\" points=\"469.92,-42.73 461.48,-36.33 464.08,-46.6 469.92,-42.73\"/>\n</g>\n<!-- 91 -->\n<g id=\"node12\" class=\"node\">\n<title>91</title>\n<polygon fill=\"#c0c0c0\" stroke=\"black\" points=\"549,-36 495,-36 495,0 549,0 549,-36\"/>\n<text text-anchor=\"middle\" x=\"522\" y=\"-14.3\" font-family=\"Helvetica,sans-Serif\" font-size=\"14.00\">(...)</text>\n</g>\n<!-- 61&#45;&gt;91 -->\n<g id=\"edge11\" class=\"edge\">\n<title>61&#45;&gt;91</title>\n<path fill=\"none\" stroke=\"black\" d=\"M508.55,-71.8C510.63,-63.62 512.94,-54.55 515.05,-46.27\"/>\n<polygon fill=\"black\" stroke=\"black\" points=\"518.51,-46.88 517.58,-36.33 511.72,-45.16 518.51,-46.88\"/>\n</g>\n<!-- 93 -->\n<g id=\"node14\" class=\"node\">\n<title>93</title>\n<polygon fill=\"#c0c0c0\" stroke=\"black\" points=\"692,-36 638,-36 638,0 692,0 692,-36\"/>\n<text text-anchor=\"middle\" x=\"665\" y=\"-14.3\" font-family=\"Helvetica,sans-Serif\" font-size=\"14.00\">(...)</text>\n</g>\n<!-- 92&#45;&gt;93 -->\n<g id=\"edge13\" class=\"edge\">\n<title>92&#45;&gt;93</title>\n<path fill=\"none\" stroke=\"black\" d=\"M689.21,-71.8C685.34,-63.35 681.03,-53.95 677.13,-45.45\"/>\n<polygon fill=\"black\" stroke=\"black\" points=\"680.3,-43.96 672.95,-36.33 673.93,-46.88 680.3,-43.96\"/>\n</g>\n<!-- 96 -->\n<g id=\"node15\" class=\"node\">\n<title>96</title>\n<polygon fill=\"#c0c0c0\" stroke=\"black\" points=\"764,-36 710,-36 710,0 764,0 764,-36\"/>\n<text text-anchor=\"middle\" x=\"737\" y=\"-14.3\" font-family=\"Helvetica,sans-Serif\" font-size=\"14.00\">(...)</text>\n</g>\n<!-- 92&#45;&gt;96 -->\n<g id=\"edge14\" class=\"edge\">\n<title>92&#45;&gt;96</title>\n<path fill=\"none\" stroke=\"black\" d=\"M712.79,-71.8C716.66,-63.35 720.97,-53.95 724.87,-45.45\"/>\n<polygon fill=\"black\" stroke=\"black\" points=\"728.07,-46.88 729.05,-36.33 721.7,-43.96 728.07,-46.88\"/>\n</g>\n</g>\n</svg>\n",
            "text/plain": [
              "<graphviz.sources.Source at 0x7bebf67e7d30>"
            ]
          },
          "metadata": {}
        }
      ]
    },
    {
      "cell_type": "markdown",
      "source": [
        "# Cross Validation using K-Fold method with fold value of 5.\n",
        "Perform cross validation using cross_val_score with cv=5."
      ],
      "metadata": {
        "id": "sj40cBvalngS"
      }
    },
    {
      "cell_type": "code",
      "source": [
        "cv_scores = cross_val_score(rf, X, y, cv=5)  # 5-fold cross-validation\n",
        "\n",
        "# Print the cross-validation scores\n",
        "print(\"Cross-validation scores:\", cv_scores)\n",
        "\n",
        "# Calculate and print the mean accuracy\n",
        "mean_accuracy = np.mean(cv_scores)\n",
        "print(\"Mean Accuracy:\", mean_accuracy)"
      ],
      "metadata": {
        "colab": {
          "base_uri": "https://localhost:8080/"
        },
        "id": "lPFDeJBJlngS",
        "outputId": "8ec2cefe-4e38-4bda-9154-b2003af0868e"
      },
      "execution_count": 94,
      "outputs": [
        {
          "output_type": "stream",
          "name": "stdout",
          "text": [
            "Cross-validation scores: [0.97423888 0.9882904  0.9741784  0.98122066 0.96478873]\n",
            "Mean Accuracy: 0.9765434134863827\n"
          ]
        }
      ]
    },
    {
      "cell_type": "markdown",
      "source": [
        "==================================== Data Set 90:10 ============================\n",
        "# **Predicting the Emotion is 90:10 datset.**\n",
        "Predict the data using X_test dataset."
      ],
      "metadata": {
        "id": "pXgE5XzkmDJB"
      }
    },
    {
      "cell_type": "code",
      "source": [
        "# Predicting the emotion of the user.\n",
        "y_pred = rf.predict(X_test)"
      ],
      "metadata": {
        "id": "Jt7kk9X8mDJC"
      },
      "execution_count": 95,
      "outputs": []
    },
    {
      "cell_type": "markdown",
      "source": [
        "# Evaluation metrices:"
      ],
      "metadata": {
        "id": "uIiCWI1OmDJD"
      }
    },
    {
      "cell_type": "markdown",
      "source": [
        "**Accuracy**"
      ],
      "metadata": {
        "id": "1TloXxFEmDJE"
      }
    },
    {
      "cell_type": "code",
      "source": [
        "# Accuracy\n",
        "accuracy_90_10 = accuracy_score(y_test, y_pred)\n",
        "print(\"Accuracy obtained in 90:10 datasplit is : \",accuracy_90_10)"
      ],
      "metadata": {
        "colab": {
          "base_uri": "https://localhost:8080/"
        },
        "outputId": "2dc84573-0894-45d6-f589-54c0608b08a2",
        "id": "Bu-JU47OmDJE"
      },
      "execution_count": 96,
      "outputs": [
        {
          "output_type": "stream",
          "name": "stdout",
          "text": [
            "Accuracy obtained in 90:10 datasplit is :  0.9640625\n"
          ]
        }
      ]
    },
    {
      "cell_type": "markdown",
      "source": [
        "**Precision**"
      ],
      "metadata": {
        "id": "lknL1C5MmDJE"
      }
    },
    {
      "cell_type": "code",
      "source": [
        "# Precision\n",
        "precision_90_10 = precision_score(y_test, y_pred, average='macro')\n",
        "print(\"Precsion obtained in 90:10 datasplit is :\",precision_90_10)"
      ],
      "metadata": {
        "colab": {
          "base_uri": "https://localhost:8080/"
        },
        "outputId": "a9db067a-67f2-48e8-acc4-53d40f6a5ab4",
        "id": "sOG8mnSUmDJF"
      },
      "execution_count": 97,
      "outputs": [
        {
          "output_type": "stream",
          "name": "stdout",
          "text": [
            "Precsion obtained in 90:10 datasplit is : 0.9643381769752409\n"
          ]
        }
      ]
    },
    {
      "cell_type": "markdown",
      "source": [
        "**Recall Value**"
      ],
      "metadata": {
        "id": "CpThDAPYmDJF"
      }
    },
    {
      "cell_type": "code",
      "source": [
        "# Recall Value\n",
        "recall_90_10 = recall_score(y_test, y_pred, average='macro')\n",
        "print(\"Recall value obtained in 90:10 datasplit is :\",recall_90_10)"
      ],
      "metadata": {
        "colab": {
          "base_uri": "https://localhost:8080/"
        },
        "outputId": "44f85b98-9e30-43ff-fdf4-02218b11d10d",
        "id": "836RKITcmDJF"
      },
      "execution_count": 98,
      "outputs": [
        {
          "output_type": "stream",
          "name": "stdout",
          "text": [
            "Recall value obtained in 90:10 datasplit is : 0.9637093428505098\n"
          ]
        }
      ]
    },
    {
      "cell_type": "markdown",
      "source": [
        "**F1 Score**"
      ],
      "metadata": {
        "id": "ZBU3PdE6mDJG"
      }
    },
    {
      "cell_type": "code",
      "source": [
        "# F1 Score\n",
        "f1_90_10 = f1_score(y_test, y_pred,average='macro')\n",
        "print(\"Recall value obtained in 70:30 datasplit is :\",f1_90_10)"
      ],
      "metadata": {
        "colab": {
          "base_uri": "https://localhost:8080/"
        },
        "outputId": "cb428354-e437-4493-93a0-6a9a74589b7d",
        "id": "KAyqiea_mDJG"
      },
      "execution_count": 99,
      "outputs": [
        {
          "output_type": "stream",
          "name": "stdout",
          "text": [
            "Recall value obtained in 70:30 datasplit is : 0.9638249422920954\n"
          ]
        }
      ]
    },
    {
      "cell_type": "markdown",
      "source": [
        "**AUCROC**"
      ],
      "metadata": {
        "id": "S8GflP9EmDJH"
      }
    },
    {
      "cell_type": "code",
      "source": [
        "# Get predicted class probabilities for the test set\n",
        "y_pred_prob = rf.predict_proba(X_test)\n",
        "# Compute the false positive rate (FPR)\n",
        "roc_auc = roc_auc_score(y_test, y_pred_prob, multi_class='ovr')\n",
        "print(roc_auc)"
      ],
      "metadata": {
        "colab": {
          "base_uri": "https://localhost:8080/"
        },
        "outputId": "47c4166c-2ddc-4cad-f4a5-65e0ae7f4eec",
        "id": "AWQNJa_XmDJH"
      },
      "execution_count": 100,
      "outputs": [
        {
          "output_type": "stream",
          "name": "stdout",
          "text": [
            "0.9971618498629149\n"
          ]
        }
      ]
    },
    {
      "cell_type": "markdown",
      "source": [
        "\n",
        "**Confusion Matrix and its visualization.**"
      ],
      "metadata": {
        "id": "Uz2--NK-mDJI"
      }
    },
    {
      "cell_type": "code",
      "source": [
        "# Confusion Matrix\n",
        "cm = confusion_matrix(y_test, y_pred)\n",
        "print(\"Confusion matrix for 90:10 datasplit:\")\n",
        "print(cm)\n",
        "\n",
        "# Visualizing confusion Matrix.\n",
        "ConfusionMatrixDisplay(confusion_matrix=cm).plot()"
      ],
      "metadata": {
        "colab": {
          "base_uri": "https://localhost:8080/",
          "height": 536
        },
        "outputId": "92fa7124-1264-4eb0-f49e-94def8678d2c",
        "id": "U6kWUbIEmDJI"
      },
      "execution_count": 101,
      "outputs": [
        {
          "output_type": "stream",
          "name": "stdout",
          "text": [
            "Confusion matrix for 90:10 datasplit:\n",
            "[[211   0   5]\n",
            " [  0 212   3]\n",
            " [ 13   2 194]]\n"
          ]
        },
        {
          "output_type": "execute_result",
          "data": {
            "text/plain": [
              "<sklearn.metrics._plot.confusion_matrix.ConfusionMatrixDisplay at 0x7bebf6ab2110>"
            ]
          },
          "metadata": {},
          "execution_count": 101
        },
        {
          "output_type": "display_data",
          "data": {
            "text/plain": [
              "<Figure size 640x480 with 2 Axes>"
            ],
            "image/png": "[encoded data removed]"
          },
          "metadata": {}
        }
      ]
    },
    {
      "cell_type": "markdown",
      "source": [
        "\n",
        "**Mathews Correlation Coefficient**"
      ],
      "metadata": {
        "id": "ONiUGhW1mDJI"
      }
    },
    {
      "cell_type": "code",
      "source": [
        "# Matthews Correlation Coefficient with 'macro' averaging\n",
        "mcc_macro = matthews_corrcoef(y_test, y_pred)\n",
        "print(\"Matthews Correlation Coefficient (Macro):\", mcc_macro)"
      ],
      "metadata": {
        "colab": {
          "base_uri": "https://localhost:8080/"
        },
        "outputId": "7e4fa4f5-9f53-4c43-b83c-79faa2d3cb4c",
        "id": "nG7KrAn1mDJI"
      },
      "execution_count": 102,
      "outputs": [
        {
          "output_type": "stream",
          "name": "stdout",
          "text": [
            "Matthews Correlation Coefficient (Macro): 0.9462758713643655\n"
          ]
        }
      ]
    },
    {
      "cell_type": "markdown",
      "source": [
        "**Cohen's Kappa**"
      ],
      "metadata": {
        "id": "Ks_7lgxJmDJI"
      }
    },
    {
      "cell_type": "code",
      "source": [
        "# Cohen's Kappa with 'macro' averaging\n",
        "kappa_macro = cohen_kappa_score(y_test, y_pred)\n",
        "print(\"Cohen's Kappa (Macro):\", kappa_macro)"
      ],
      "metadata": {
        "colab": {
          "base_uri": "https://localhost:8080/"
        },
        "outputId": "ac3312df-9fa4-4b8c-dbf1-1ef579756121",
        "id": "IaQb5C2KmDJJ"
      },
      "execution_count": 103,
      "outputs": [
        {
          "output_type": "stream",
          "name": "stdout",
          "text": [
            "Cohen's Kappa (Macro): 0.9460782158922737\n"
          ]
        }
      ]
    },
    {
      "cell_type": "markdown",
      "source": [
        "# Classification Report"
      ],
      "metadata": {
        "id": "SZDYvtDcmDJJ"
      }
    },
    {
      "cell_type": "code",
      "source": [
        "report = classification_report(y_test, y_pred)\n",
        "print(report)"
      ],
      "metadata": {
        "colab": {
          "base_uri": "https://localhost:8080/"
        },
        "outputId": "5d74f606-9b2a-4366-f495-5aece7115ef8",
        "id": "BpofAbT0mDJJ"
      },
      "execution_count": 104,
      "outputs": [
        {
          "output_type": "stream",
          "name": "stdout",
          "text": [
            "              precision    recall  f1-score   support\n",
            "\n",
            "    NEGATIVE       0.94      0.98      0.96       216\n",
            "     NEUTRAL       0.99      0.99      0.99       215\n",
            "    POSITIVE       0.96      0.93      0.94       209\n",
            "\n",
            "    accuracy                           0.96       640\n",
            "   macro avg       0.96      0.96      0.96       640\n",
            "weighted avg       0.96      0.96      0.96       640\n",
            "\n"
          ]
        }
      ]
    },
    {
      "cell_type": "markdown",
      "source": [
        "# Decision Tree Visualization"
      ],
      "metadata": {
        "id": "q2p8s9jYmDJJ"
      }
    },
    {
      "cell_type": "code",
      "source": [
        "# Decision trees from the forest\n",
        "\n",
        "for i in range(3):\n",
        "    tree = rf.estimators_[i]\n",
        "    dot_data = export_graphviz(tree,\n",
        "                               feature_names=X_train.columns,\n",
        "                               filled=True,\n",
        "                               max_depth=2,\n",
        "                               impurity=False,\n",
        "                               proportion=True)\n",
        "    graph = graphviz.Source(dot_data)\n",
        "    display(graph)"
      ],
      "metadata": {
        "colab": {
          "base_uri": "https://localhost:8080/",
          "height": 1000
        },
        "id": "apkUkbyqmDJK",
        "outputId": "ef02c480-4ced-4d06-99de-1b83dcb92a75"
      },
      "execution_count": 105,
      "outputs": [
        {
          "output_type": "display_data",
          "data": {
            "image/svg+xml": "<?xml version=\"1.0\" encoding=\"UTF-8\" standalone=\"no\"?>\n<!DOCTYPE svg PUBLIC \"-//W3C//DTD SVG 1.1//EN\"\n \"http://www.w3.org/Graphics/SVG/1.1/DTD/svg11.dtd\">\n<!-- Generated by graphviz version 2.43.0 (0)\n -->\n<!-- Title: Tree Pages: 1 -->\n<svg width=\"789pt\" height=\"311pt\"\n viewBox=\"0.00 0.00 788.50 311.00\" xmlns=\"http://www.w3.org/2000/svg\" xmlns:xlink=\"http://www.w3.org/1999/xlink\">\n<g id=\"graph0\" class=\"graph\" transform=\"scale(1 1) rotate(0) translate(4 307)\">\n<title>Tree</title>\n<polygon fill=\"white\" stroke=\"transparent\" points=\"-4,4 -4,-307 784.5,-307 784.5,4 -4,4\"/>\n<!-- 0 -->\n<g id=\"node1\" class=\"node\">\n<title>0</title>\n<polygon fill=\"#fffefe\" stroke=\"black\" points=\"477,-303 296,-303 296,-250 477,-250 477,-303\"/>\n<text text-anchor=\"middle\" x=\"386.5\" y=\"-287.8\" font-family=\"Helvetica,sans-Serif\" font-size=\"14.00\">min_q_18_a &lt;= 3.555</text>\n<text text-anchor=\"middle\" x=\"386.5\" y=\"-272.8\" font-family=\"Helvetica,sans-Serif\" font-size=\"14.00\">samples = 100.0%</text>\n<text text-anchor=\"middle\" x=\"386.5\" y=\"-257.8\" font-family=\"Helvetica,sans-Serif\" font-size=\"14.00\">value = [0.336, 0.33, 0.334]</text>\n</g>\n<!-- 1 -->\n<g id=\"node2\" class=\"node\">\n<title>1</title>\n<polygon fill=\"#fcf1ea\" stroke=\"black\" points=\"377.5,-214 189.5,-214 189.5,-161 377.5,-161 377.5,-214\"/>\n<text text-anchor=\"middle\" x=\"283.5\" y=\"-198.8\" font-family=\"Helvetica,sans-Serif\" font-size=\"14.00\">min_q_17_b &lt;= &#45;448.5</text>\n<text text-anchor=\"middle\" x=\"283.5\" y=\"-183.8\" font-family=\"Helvetica,sans-Serif\" font-size=\"14.00\">samples = 63.8%</text>\n<text text-anchor=\"middle\" x=\"283.5\" y=\"-168.8\" font-family=\"Helvetica,sans-Serif\" font-size=\"14.00\">value = [0.512, 0.035, 0.453]</text>\n</g>\n<!-- 0&#45;&gt;1 -->\n<g id=\"edge1\" class=\"edge\">\n<title>0&#45;&gt;1</title>\n<path fill=\"none\" stroke=\"black\" d=\"M356.15,-249.87C345.35,-240.75 333.05,-230.35 321.68,-220.75\"/>\n<polygon fill=\"black\" stroke=\"black\" points=\"323.88,-218.03 313.99,-214.25 319.37,-223.38 323.88,-218.03\"/>\n<text text-anchor=\"middle\" x=\"316.08\" y=\"-235.46\" font-family=\"Helvetica,sans-Serif\" font-size=\"14.00\">True</text>\n</g>\n<!-- 82 -->\n<g id=\"node9\" class=\"node\">\n<title>82</title>\n<polygon fill=\"#55e993\" stroke=\"black\" points=\"583.5,-214 395.5,-214 395.5,-161 583.5,-161 583.5,-214\"/>\n<text text-anchor=\"middle\" x=\"489.5\" y=\"-198.8\" font-family=\"Helvetica,sans-Serif\" font-size=\"14.00\">logm_9_b &lt;= 7.83</text>\n<text text-anchor=\"middle\" x=\"489.5\" y=\"-183.8\" font-family=\"Helvetica,sans-Serif\" font-size=\"14.00\">samples = 36.2%</text>\n<text text-anchor=\"middle\" x=\"489.5\" y=\"-168.8\" font-family=\"Helvetica,sans-Serif\" font-size=\"14.00\">value = [0.011, 0.876, 0.113]</text>\n</g>\n<!-- 0&#45;&gt;82 -->\n<g id=\"edge8\" class=\"edge\">\n<title>0&#45;&gt;82</title>\n<path fill=\"none\" stroke=\"black\" d=\"M416.85,-249.87C427.65,-240.75 439.95,-230.35 451.32,-220.75\"/>\n<polygon fill=\"black\" stroke=\"black\" points=\"453.63,-223.38 459.01,-214.25 449.12,-218.03 453.63,-223.38\"/>\n<text text-anchor=\"middle\" x=\"456.92\" y=\"-235.46\" font-family=\"Helvetica,sans-Serif\" font-size=\"14.00\">False</text>\n</g>\n<!-- 2 -->\n<g id=\"node3\" class=\"node\">\n<title>2</title>\n<polygon fill=\"#e89050\" stroke=\"black\" points=\"173,-125 0,-125 0,-72 173,-72 173,-125\"/>\n<text text-anchor=\"middle\" x=\"86.5\" y=\"-109.8\" font-family=\"Helvetica,sans-Serif\" font-size=\"14.00\">covmat_20_b &lt;= 8670.0</text>\n<text text-anchor=\"middle\" x=\"86.5\" y=\"-94.8\" font-family=\"Helvetica,sans-Serif\" font-size=\"14.00\">samples = 35.6%</text>\n<text text-anchor=\"middle\" x=\"86.5\" y=\"-79.8\" font-family=\"Helvetica,sans-Serif\" font-size=\"14.00\">value = [0.894, 0.0, 0.106]</text>\n</g>\n<!-- 1&#45;&gt;2 -->\n<g id=\"edge2\" class=\"edge\">\n<title>1&#45;&gt;2</title>\n<path fill=\"none\" stroke=\"black\" d=\"M225.72,-160.98C203.07,-150.98 176.93,-139.44 153.46,-129.07\"/>\n<polygon fill=\"black\" stroke=\"black\" points=\"154.84,-125.85 144.27,-125.01 152.01,-132.26 154.84,-125.85\"/>\n</g>\n<!-- 55 -->\n<g id=\"node6\" class=\"node\">\n<title>55</title>\n<polygon fill=\"#8e4de8\" stroke=\"black\" points=\"379.5,-125 191.5,-125 191.5,-72 379.5,-72 379.5,-125\"/>\n<text text-anchor=\"middle\" x=\"285.5\" y=\"-109.8\" font-family=\"Helvetica,sans-Serif\" font-size=\"14.00\">max_q_3_a &lt;= 37.1</text>\n<text text-anchor=\"middle\" x=\"285.5\" y=\"-94.8\" font-family=\"Helvetica,sans-Serif\" font-size=\"14.00\">samples = 28.2%</text>\n<text text-anchor=\"middle\" x=\"285.5\" y=\"-79.8\" font-family=\"Helvetica,sans-Serif\" font-size=\"14.00\">value = [0.012, 0.081, 0.907]</text>\n</g>\n<!-- 1&#45;&gt;55 -->\n<g id=\"edge5\" class=\"edge\">\n<title>1&#45;&gt;55</title>\n<path fill=\"none\" stroke=\"black\" d=\"M284.09,-160.87C284.27,-152.89 284.48,-143.93 284.68,-135.38\"/>\n<polygon fill=\"black\" stroke=\"black\" points=\"288.18,-135.33 284.91,-125.25 281.18,-135.17 288.18,-135.33\"/>\n</g>\n<!-- 3 -->\n<g id=\"node4\" class=\"node\">\n<title>3</title>\n<polygon fill=\"#c0c0c0\" stroke=\"black\" points=\"77.5,-36 23.5,-36 23.5,0 77.5,0 77.5,-36\"/>\n<text text-anchor=\"middle\" x=\"50.5\" y=\"-14.3\" font-family=\"Helvetica,sans-Serif\" font-size=\"14.00\">(...)</text>\n</g>\n<!-- 2&#45;&gt;3 -->\n<g id=\"edge3\" class=\"edge\">\n<title>2&#45;&gt;3</title>\n<path fill=\"none\" stroke=\"black\" d=\"M74.71,-71.8C70.84,-63.35 66.53,-53.95 62.63,-45.45\"/>\n<polygon fill=\"black\" stroke=\"black\" points=\"65.8,-43.96 58.45,-36.33 59.43,-46.88 65.8,-43.96\"/>\n</g>\n<!-- 6 -->\n<g id=\"node5\" class=\"node\">\n<title>6</title>\n<polygon fill=\"#c0c0c0\" stroke=\"black\" points=\"149.5,-36 95.5,-36 95.5,0 149.5,0 149.5,-36\"/>\n<text text-anchor=\"middle\" x=\"122.5\" y=\"-14.3\" font-family=\"Helvetica,sans-Serif\" font-size=\"14.00\">(...)</text>\n</g>\n<!-- 2&#45;&gt;6 -->\n<g id=\"edge4\" class=\"edge\">\n<title>2&#45;&gt;6</title>\n<path fill=\"none\" stroke=\"black\" d=\"M98.29,-71.8C102.16,-63.35 106.47,-53.95 110.37,-45.45\"/>\n<polygon fill=\"black\" stroke=\"black\" points=\"113.57,-46.88 114.55,-36.33 107.2,-43.96 113.57,-46.88\"/>\n</g>\n<!-- 56 -->\n<g id=\"node7\" class=\"node\">\n<title>56</title>\n<polygon fill=\"#c0c0c0\" stroke=\"black\" points=\"291.5,-36 237.5,-36 237.5,0 291.5,0 291.5,-36\"/>\n<text text-anchor=\"middle\" x=\"264.5\" y=\"-14.3\" font-family=\"Helvetica,sans-Serif\" font-size=\"14.00\">(...)</text>\n</g>\n<!-- 55&#45;&gt;56 -->\n<g id=\"edge6\" class=\"edge\">\n<title>55&#45;&gt;56</title>\n<path fill=\"none\" stroke=\"black\" d=\"M278.62,-71.8C276.41,-63.53 273.96,-54.35 271.72,-46\"/>\n<polygon fill=\"black\" stroke=\"black\" points=\"275.1,-45.09 269.14,-36.33 268.34,-46.9 275.1,-45.09\"/>\n</g>\n<!-- 71 -->\n<g id=\"node8\" class=\"node\">\n<title>71</title>\n<polygon fill=\"#c0c0c0\" stroke=\"black\" points=\"363.5,-36 309.5,-36 309.5,0 363.5,0 363.5,-36\"/>\n<text text-anchor=\"middle\" x=\"336.5\" y=\"-14.3\" font-family=\"Helvetica,sans-Serif\" font-size=\"14.00\">(...)</text>\n</g>\n<!-- 55&#45;&gt;71 -->\n<g id=\"edge7\" class=\"edge\">\n<title>55&#45;&gt;71</title>\n<path fill=\"none\" stroke=\"black\" d=\"M302.2,-71.8C307.81,-63.17 314.06,-53.54 319.67,-44.9\"/>\n<polygon fill=\"black\" stroke=\"black\" points=\"322.73,-46.62 325.24,-36.33 316.86,-42.81 322.73,-46.62\"/>\n</g>\n<!-- 83 -->\n<g id=\"node10\" class=\"node\">\n<title>83</title>\n<polygon fill=\"#3ee684\" stroke=\"black\" points=\"574,-125 401,-125 401,-72 574,-72 574,-125\"/>\n<text text-anchor=\"middle\" x=\"487.5\" y=\"-109.8\" font-family=\"Helvetica,sans-Serif\" font-size=\"14.00\"># mean_0_a &lt;= 18.6</text>\n<text text-anchor=\"middle\" x=\"487.5\" y=\"-94.8\" font-family=\"Helvetica,sans-Serif\" font-size=\"14.00\">samples = 31.9%</text>\n<text text-anchor=\"middle\" x=\"487.5\" y=\"-79.8\" font-family=\"Helvetica,sans-Serif\" font-size=\"14.00\">value = [0.0, 0.976, 0.024]</text>\n</g>\n<!-- 82&#45;&gt;83 -->\n<g id=\"edge9\" class=\"edge\">\n<title>82&#45;&gt;83</title>\n<path fill=\"none\" stroke=\"black\" d=\"M488.91,-160.87C488.73,-152.89 488.52,-143.93 488.32,-135.38\"/>\n<polygon fill=\"black\" stroke=\"black\" points=\"491.82,-135.17 488.09,-125.25 484.82,-135.33 491.82,-135.17\"/>\n</g>\n<!-- 88 -->\n<g id=\"node13\" class=\"node\">\n<title>88</title>\n<polygon fill=\"#975cea\" stroke=\"black\" points=\"780.5,-125 592.5,-125 592.5,-72 780.5,-72 780.5,-125\"/>\n<text text-anchor=\"middle\" x=\"686.5\" y=\"-109.8\" font-family=\"Helvetica,sans-Serif\" font-size=\"14.00\">fft_707_a &lt;= 78.6</text>\n<text text-anchor=\"middle\" x=\"686.5\" y=\"-94.8\" font-family=\"Helvetica,sans-Serif\" font-size=\"14.00\">samples = 4.2%</text>\n<text text-anchor=\"middle\" x=\"686.5\" y=\"-79.8\" font-family=\"Helvetica,sans-Serif\" font-size=\"14.00\">value = [0.105, 0.053, 0.842]</text>\n</g>\n<!-- 82&#45;&gt;88 -->\n<g id=\"edge12\" class=\"edge\">\n<title>82&#45;&gt;88</title>\n<path fill=\"none\" stroke=\"black\" d=\"M547.28,-160.98C569.93,-150.98 596.07,-139.44 619.54,-129.07\"/>\n<polygon fill=\"black\" stroke=\"black\" points=\"620.99,-132.26 628.73,-125.01 618.16,-125.85 620.99,-132.26\"/>\n</g>\n<!-- 84 -->\n<g id=\"node11\" class=\"node\">\n<title>84</title>\n<polygon fill=\"#c0c0c0\" stroke=\"black\" points=\"462.5,-36 408.5,-36 408.5,0 462.5,0 462.5,-36\"/>\n<text text-anchor=\"middle\" x=\"435.5\" y=\"-14.3\" font-family=\"Helvetica,sans-Serif\" font-size=\"14.00\">(...)</text>\n</g>\n<!-- 83&#45;&gt;84 -->\n<g id=\"edge10\" class=\"edge\">\n<title>83&#45;&gt;84</title>\n<path fill=\"none\" stroke=\"black\" d=\"M470.47,-71.8C464.76,-63.17 458.38,-53.54 452.66,-44.9\"/>\n<polygon fill=\"black\" stroke=\"black\" points=\"455.42,-42.73 446.98,-36.33 449.58,-46.6 455.42,-42.73\"/>\n</g>\n<!-- 87 -->\n<g id=\"node12\" class=\"node\">\n<title>87</title>\n<polygon fill=\"#c0c0c0\" stroke=\"black\" points=\"534.5,-36 480.5,-36 480.5,0 534.5,0 534.5,-36\"/>\n<text text-anchor=\"middle\" x=\"507.5\" y=\"-14.3\" font-family=\"Helvetica,sans-Serif\" font-size=\"14.00\">(...)</text>\n</g>\n<!-- 83&#45;&gt;87 -->\n<g id=\"edge11\" class=\"edge\">\n<title>83&#45;&gt;87</title>\n<path fill=\"none\" stroke=\"black\" d=\"M494.05,-71.8C496.13,-63.62 498.44,-54.55 500.55,-46.27\"/>\n<polygon fill=\"black\" stroke=\"black\" points=\"504.01,-46.88 503.08,-36.33 497.22,-45.16 504.01,-46.88\"/>\n</g>\n<!-- 89 -->\n<g id=\"node14\" class=\"node\">\n<title>89</title>\n<polygon fill=\"#c0c0c0\" stroke=\"black\" points=\"677.5,-36 623.5,-36 623.5,0 677.5,0 677.5,-36\"/>\n<text text-anchor=\"middle\" x=\"650.5\" y=\"-14.3\" font-family=\"Helvetica,sans-Serif\" font-size=\"14.00\">(...)</text>\n</g>\n<!-- 88&#45;&gt;89 -->\n<g id=\"edge13\" class=\"edge\">\n<title>88&#45;&gt;89</title>\n<path fill=\"none\" stroke=\"black\" d=\"M674.71,-71.8C670.84,-63.35 666.53,-53.95 662.63,-45.45\"/>\n<polygon fill=\"black\" stroke=\"black\" points=\"665.8,-43.96 658.45,-36.33 659.43,-46.88 665.8,-43.96\"/>\n</g>\n<!-- 96 -->\n<g id=\"node15\" class=\"node\">\n<title>96</title>\n<polygon fill=\"#c0c0c0\" stroke=\"black\" points=\"749.5,-36 695.5,-36 695.5,0 749.5,0 749.5,-36\"/>\n<text text-anchor=\"middle\" x=\"722.5\" y=\"-14.3\" font-family=\"Helvetica,sans-Serif\" font-size=\"14.00\">(...)</text>\n</g>\n<!-- 88&#45;&gt;96 -->\n<g id=\"edge14\" class=\"edge\">\n<title>88&#45;&gt;96</title>\n<path fill=\"none\" stroke=\"black\" d=\"M698.29,-71.8C702.16,-63.35 706.47,-53.95 710.37,-45.45\"/>\n<polygon fill=\"black\" stroke=\"black\" points=\"713.57,-46.88 714.55,-36.33 707.2,-43.96 713.57,-46.88\"/>\n</g>\n</g>\n</svg>\n",
            "text/plain": [
              "<graphviz.sources.Source at 0x7bebf68f44f0>"
            ]
          },
          "metadata": {}
        },
        {
          "output_type": "display_data",
          "data": {
            "image/svg+xml": "<?xml version=\"1.0\" encoding=\"UTF-8\" standalone=\"no\"?>\n<!DOCTYPE svg PUBLIC \"-//W3C//DTD SVG 1.1//EN\"\n \"http://www.w3.org/Graphics/SVG/1.1/DTD/svg11.dtd\">\n<!-- Generated by graphviz version 2.43.0 (0)\n -->\n<!-- Title: Tree Pages: 1 -->\n<svg width=\"796pt\" height=\"311pt\"\n viewBox=\"0.00 0.00 796.00 311.00\" xmlns=\"http://www.w3.org/2000/svg\" xmlns:xlink=\"http://www.w3.org/1999/xlink\">\n<g id=\"graph0\" class=\"graph\" transform=\"scale(1 1) rotate(0) translate(4 307)\">\n<title>Tree</title>\n<polygon fill=\"white\" stroke=\"transparent\" points=\"-4,4 -4,-307 792,-307 792,4 -4,4\"/>\n<!-- 0 -->\n<g id=\"node1\" class=\"node\">\n<title>0</title>\n<polygon fill=\"#fcfffd\" stroke=\"black\" points=\"492.5,-303 304.5,-303 304.5,-250 492.5,-250 492.5,-303\"/>\n<text text-anchor=\"middle\" x=\"398.5\" y=\"-287.8\" font-family=\"Helvetica,sans-Serif\" font-size=\"14.00\">mean_d_5_a &lt;= 23.1</text>\n<text text-anchor=\"middle\" x=\"398.5\" y=\"-272.8\" font-family=\"Helvetica,sans-Serif\" font-size=\"14.00\">samples = 100.0%</text>\n<text text-anchor=\"middle\" x=\"398.5\" y=\"-257.8\" font-family=\"Helvetica,sans-Serif\" font-size=\"14.00\">value = [0.333, 0.342, 0.324]</text>\n</g>\n<!-- 1 -->\n<g id=\"node2\" class=\"node\">\n<title>1</title>\n<polygon fill=\"#fefdff\" stroke=\"black\" points=\"388.5,-214 200.5,-214 200.5,-161 388.5,-161 388.5,-214\"/>\n<text text-anchor=\"middle\" x=\"294.5\" y=\"-198.8\" font-family=\"Helvetica,sans-Serif\" font-size=\"14.00\">mean_d_2_b2 &lt;= &#45;102.5</text>\n<text text-anchor=\"middle\" x=\"294.5\" y=\"-183.8\" font-family=\"Helvetica,sans-Serif\" font-size=\"14.00\">samples = 64.5%</text>\n<text text-anchor=\"middle\" x=\"294.5\" y=\"-168.8\" font-family=\"Helvetica,sans-Serif\" font-size=\"14.00\">value = [0.481, 0.034, 0.485]</text>\n</g>\n<!-- 0&#45;&gt;1 -->\n<g id=\"edge1\" class=\"edge\">\n<title>0&#45;&gt;1</title>\n<path fill=\"none\" stroke=\"black\" d=\"M367.86,-249.87C356.95,-240.75 344.53,-230.35 333.05,-220.75\"/>\n<polygon fill=\"black\" stroke=\"black\" points=\"335.2,-217.98 325.28,-214.25 330.71,-223.35 335.2,-217.98\"/>\n<text text-anchor=\"middle\" x=\"327.5\" y=\"-235.45\" font-family=\"Helvetica,sans-Serif\" font-size=\"14.00\">True</text>\n</g>\n<!-- 58 -->\n<g id=\"node9\" class=\"node\">\n<title>58</title>\n<polygon fill=\"#50e88f\" stroke=\"black\" points=\"596.5,-214 408.5,-214 408.5,-161 596.5,-161 596.5,-214\"/>\n<text text-anchor=\"middle\" x=\"502.5\" y=\"-198.8\" font-family=\"Helvetica,sans-Serif\" font-size=\"14.00\">mean_d_7_a &lt;= &#45;17.7</text>\n<text text-anchor=\"middle\" x=\"502.5\" y=\"-183.8\" font-family=\"Helvetica,sans-Serif\" font-size=\"14.00\">samples = 35.5%</text>\n<text text-anchor=\"middle\" x=\"502.5\" y=\"-168.8\" font-family=\"Helvetica,sans-Serif\" font-size=\"14.00\">value = [0.069, 0.893, 0.037]</text>\n</g>\n<!-- 0&#45;&gt;58 -->\n<g id=\"edge8\" class=\"edge\">\n<title>0&#45;&gt;58</title>\n<path fill=\"none\" stroke=\"black\" d=\"M429.14,-249.87C440.05,-240.75 452.47,-230.35 463.95,-220.75\"/>\n<polygon fill=\"black\" stroke=\"black\" points=\"466.29,-223.35 471.72,-214.25 461.8,-217.98 466.29,-223.35\"/>\n<text text-anchor=\"middle\" x=\"469.5\" y=\"-235.45\" font-family=\"Helvetica,sans-Serif\" font-size=\"14.00\">False</text>\n</g>\n<!-- 2 -->\n<g id=\"node3\" class=\"node\">\n<title>2</title>\n<polygon fill=\"#ea995e\" stroke=\"black\" points=\"173,-125 0,-125 0,-72 173,-72 173,-125\"/>\n<text text-anchor=\"middle\" x=\"86.5\" y=\"-109.8\" font-family=\"Helvetica,sans-Serif\" font-size=\"14.00\">min_q_8_b &lt;= &#45;0.293</text>\n<text text-anchor=\"middle\" x=\"86.5\" y=\"-94.8\" font-family=\"Helvetica,sans-Serif\" font-size=\"14.00\">samples = 36.1%</text>\n<text text-anchor=\"middle\" x=\"86.5\" y=\"-79.8\" font-family=\"Helvetica,sans-Serif\" font-size=\"14.00\">value = [0.843, 0.0, 0.157]</text>\n</g>\n<!-- 1&#45;&gt;2 -->\n<g id=\"edge2\" class=\"edge\">\n<title>1&#45;&gt;2</title>\n<path fill=\"none\" stroke=\"black\" d=\"M233.5,-160.98C209.48,-150.94 181.74,-139.34 156.88,-128.94\"/>\n<polygon fill=\"black\" stroke=\"black\" points=\"158.08,-125.64 147.5,-125.01 155.38,-132.1 158.08,-125.64\"/>\n</g>\n<!-- 33 -->\n<g id=\"node6\" class=\"node\">\n<title>33</title>\n<polygon fill=\"#8d4de8\" stroke=\"black\" points=\"397.5,-125 191.5,-125 191.5,-72 397.5,-72 397.5,-125\"/>\n<text text-anchor=\"middle\" x=\"294.5\" y=\"-109.8\" font-family=\"Helvetica,sans-Serif\" font-size=\"14.00\">moments_15_b &lt;= 42850000.0</text>\n<text text-anchor=\"middle\" x=\"294.5\" y=\"-94.8\" font-family=\"Helvetica,sans-Serif\" font-size=\"14.00\">samples = 28.4%</text>\n<text text-anchor=\"middle\" x=\"294.5\" y=\"-79.8\" font-family=\"Helvetica,sans-Serif\" font-size=\"14.00\">value = [0.012, 0.079, 0.909]</text>\n</g>\n<!-- 1&#45;&gt;33 -->\n<g id=\"edge5\" class=\"edge\">\n<title>1&#45;&gt;33</title>\n<path fill=\"none\" stroke=\"black\" d=\"M294.5,-160.87C294.5,-152.89 294.5,-143.93 294.5,-135.38\"/>\n<polygon fill=\"black\" stroke=\"black\" points=\"298,-135.25 294.5,-125.25 291,-135.25 298,-135.25\"/>\n</g>\n<!-- 3 -->\n<g id=\"node4\" class=\"node\">\n<title>3</title>\n<polygon fill=\"#c0c0c0\" stroke=\"black\" points=\"77.5,-36 23.5,-36 23.5,0 77.5,0 77.5,-36\"/>\n<text text-anchor=\"middle\" x=\"50.5\" y=\"-14.3\" font-family=\"Helvetica,sans-Serif\" font-size=\"14.00\">(...)</text>\n</g>\n<!-- 2&#45;&gt;3 -->\n<g id=\"edge3\" class=\"edge\">\n<title>2&#45;&gt;3</title>\n<path fill=\"none\" stroke=\"black\" d=\"M74.71,-71.8C70.84,-63.35 66.53,-53.95 62.63,-45.45\"/>\n<polygon fill=\"black\" stroke=\"black\" points=\"65.8,-43.96 58.45,-36.33 59.43,-46.88 65.8,-43.96\"/>\n</g>\n<!-- 24 -->\n<g id=\"node5\" class=\"node\">\n<title>24</title>\n<polygon fill=\"#c0c0c0\" stroke=\"black\" points=\"149.5,-36 95.5,-36 95.5,0 149.5,0 149.5,-36\"/>\n<text text-anchor=\"middle\" x=\"122.5\" y=\"-14.3\" font-family=\"Helvetica,sans-Serif\" font-size=\"14.00\">(...)</text>\n</g>\n<!-- 2&#45;&gt;24 -->\n<g id=\"edge4\" class=\"edge\">\n<title>2&#45;&gt;24</title>\n<path fill=\"none\" stroke=\"black\" d=\"M98.29,-71.8C102.16,-63.35 106.47,-53.95 110.37,-45.45\"/>\n<polygon fill=\"black\" stroke=\"black\" points=\"113.57,-46.88 114.55,-36.33 107.2,-43.96 113.57,-46.88\"/>\n</g>\n<!-- 34 -->\n<g id=\"node7\" class=\"node\">\n<title>34</title>\n<polygon fill=\"#c0c0c0\" stroke=\"black\" points=\"301.5,-36 247.5,-36 247.5,0 301.5,0 301.5,-36\"/>\n<text text-anchor=\"middle\" x=\"274.5\" y=\"-14.3\" font-family=\"Helvetica,sans-Serif\" font-size=\"14.00\">(...)</text>\n</g>\n<!-- 33&#45;&gt;34 -->\n<g id=\"edge6\" class=\"edge\">\n<title>33&#45;&gt;34</title>\n<path fill=\"none\" stroke=\"black\" d=\"M287.95,-71.8C285.87,-63.62 283.56,-54.55 281.45,-46.27\"/>\n<polygon fill=\"black\" stroke=\"black\" points=\"284.78,-45.16 278.92,-36.33 277.99,-46.88 284.78,-45.16\"/>\n</g>\n<!-- 35 -->\n<g id=\"node8\" class=\"node\">\n<title>35</title>\n<polygon fill=\"#c0c0c0\" stroke=\"black\" points=\"373.5,-36 319.5,-36 319.5,0 373.5,0 373.5,-36\"/>\n<text text-anchor=\"middle\" x=\"346.5\" y=\"-14.3\" font-family=\"Helvetica,sans-Serif\" font-size=\"14.00\">(...)</text>\n</g>\n<!-- 33&#45;&gt;35 -->\n<g id=\"edge7\" class=\"edge\">\n<title>33&#45;&gt;35</title>\n<path fill=\"none\" stroke=\"black\" d=\"M311.53,-71.8C317.24,-63.17 323.62,-53.54 329.34,-44.9\"/>\n<polygon fill=\"black\" stroke=\"black\" points=\"332.42,-46.6 335.02,-36.33 326.58,-42.73 332.42,-46.6\"/>\n</g>\n<!-- 59 -->\n<g id=\"node10\" class=\"node\">\n<title>59</title>\n<polygon fill=\"#eca572\" stroke=\"black\" points=\"589,-125 416,-125 416,-72 589,-72 589,-125\"/>\n<text text-anchor=\"middle\" x=\"502.5\" y=\"-109.8\" font-family=\"Helvetica,sans-Serif\" font-size=\"14.00\">max_q_5_b &lt;= 49.75</text>\n<text text-anchor=\"middle\" x=\"502.5\" y=\"-94.8\" font-family=\"Helvetica,sans-Serif\" font-size=\"14.00\">samples = 3.2%</text>\n<text text-anchor=\"middle\" x=\"502.5\" y=\"-79.8\" font-family=\"Helvetica,sans-Serif\" font-size=\"14.00\">value = [0.778, 0.0, 0.222]</text>\n</g>\n<!-- 58&#45;&gt;59 -->\n<g id=\"edge9\" class=\"edge\">\n<title>58&#45;&gt;59</title>\n<path fill=\"none\" stroke=\"black\" d=\"M502.5,-160.87C502.5,-152.89 502.5,-143.93 502.5,-135.38\"/>\n<polygon fill=\"black\" stroke=\"black\" points=\"506,-135.25 502.5,-125.25 499,-135.25 506,-135.25\"/>\n</g>\n<!-- 66 -->\n<g id=\"node13\" class=\"node\">\n<title>66</title>\n<polygon fill=\"#3ee684\" stroke=\"black\" points=\"788,-125 607,-125 607,-72 788,-72 788,-125\"/>\n<text text-anchor=\"middle\" x=\"697.5\" y=\"-109.8\" font-family=\"Helvetica,sans-Serif\" font-size=\"14.00\">covmat_13_a &lt;= 9400.0</text>\n<text text-anchor=\"middle\" x=\"697.5\" y=\"-94.8\" font-family=\"Helvetica,sans-Serif\" font-size=\"14.00\">samples = 32.3%</text>\n<text text-anchor=\"middle\" x=\"697.5\" y=\"-79.8\" font-family=\"Helvetica,sans-Serif\" font-size=\"14.00\">value = [0.004, 0.976, 0.02]</text>\n</g>\n<!-- 58&#45;&gt;66 -->\n<g id=\"edge12\" class=\"edge\">\n<title>58&#45;&gt;66</title>\n<path fill=\"none\" stroke=\"black\" d=\"M559.69,-160.98C582.01,-151.03 607.76,-139.54 630.91,-129.21\"/>\n<polygon fill=\"black\" stroke=\"black\" points=\"632.61,-132.29 640.31,-125.01 629.75,-125.89 632.61,-132.29\"/>\n</g>\n<!-- 60 -->\n<g id=\"node11\" class=\"node\">\n<title>60</title>\n<polygon fill=\"#c0c0c0\" stroke=\"black\" points=\"477.5,-36 423.5,-36 423.5,0 477.5,0 477.5,-36\"/>\n<text text-anchor=\"middle\" x=\"450.5\" y=\"-14.3\" font-family=\"Helvetica,sans-Serif\" font-size=\"14.00\">(...)</text>\n</g>\n<!-- 59&#45;&gt;60 -->\n<g id=\"edge10\" class=\"edge\">\n<title>59&#45;&gt;60</title>\n<path fill=\"none\" stroke=\"black\" d=\"M485.47,-71.8C479.76,-63.17 473.38,-53.54 467.66,-44.9\"/>\n<polygon fill=\"black\" stroke=\"black\" points=\"470.42,-42.73 461.98,-36.33 464.58,-46.6 470.42,-42.73\"/>\n</g>\n<!-- 65 -->\n<g id=\"node12\" class=\"node\">\n<title>65</title>\n<polygon fill=\"#c0c0c0\" stroke=\"black\" points=\"549.5,-36 495.5,-36 495.5,0 549.5,0 549.5,-36\"/>\n<text text-anchor=\"middle\" x=\"522.5\" y=\"-14.3\" font-family=\"Helvetica,sans-Serif\" font-size=\"14.00\">(...)</text>\n</g>\n<!-- 59&#45;&gt;65 -->\n<g id=\"edge11\" class=\"edge\">\n<title>59&#45;&gt;65</title>\n<path fill=\"none\" stroke=\"black\" d=\"M509.05,-71.8C511.13,-63.62 513.44,-54.55 515.55,-46.27\"/>\n<polygon fill=\"black\" stroke=\"black\" points=\"519.01,-46.88 518.08,-36.33 512.22,-45.16 519.01,-46.88\"/>\n</g>\n<!-- 67 -->\n<g id=\"node14\" class=\"node\">\n<title>67</title>\n<polygon fill=\"#c0c0c0\" stroke=\"black\" points=\"688.5,-36 634.5,-36 634.5,0 688.5,0 688.5,-36\"/>\n<text text-anchor=\"middle\" x=\"661.5\" y=\"-14.3\" font-family=\"Helvetica,sans-Serif\" font-size=\"14.00\">(...)</text>\n</g>\n<!-- 66&#45;&gt;67 -->\n<g id=\"edge13\" class=\"edge\">\n<title>66&#45;&gt;67</title>\n<path fill=\"none\" stroke=\"black\" d=\"M685.71,-71.8C681.84,-63.35 677.53,-53.95 673.63,-45.45\"/>\n<polygon fill=\"black\" stroke=\"black\" points=\"676.8,-43.96 669.45,-36.33 670.43,-46.88 676.8,-43.96\"/>\n</g>\n<!-- 70 -->\n<g id=\"node15\" class=\"node\">\n<title>70</title>\n<polygon fill=\"#c0c0c0\" stroke=\"black\" points=\"760.5,-36 706.5,-36 706.5,0 760.5,0 760.5,-36\"/>\n<text text-anchor=\"middle\" x=\"733.5\" y=\"-14.3\" font-family=\"Helvetica,sans-Serif\" font-size=\"14.00\">(...)</text>\n</g>\n<!-- 66&#45;&gt;70 -->\n<g id=\"edge14\" class=\"edge\">\n<title>66&#45;&gt;70</title>\n<path fill=\"none\" stroke=\"black\" d=\"M709.29,-71.8C713.16,-63.35 717.47,-53.95 721.37,-45.45\"/>\n<polygon fill=\"black\" stroke=\"black\" points=\"724.57,-46.88 725.55,-36.33 718.2,-43.96 724.57,-46.88\"/>\n</g>\n</g>\n</svg>\n",
            "text/plain": [
              "<graphviz.sources.Source at 0x7bebf6c19000>"
            ]
          },
          "metadata": {}
        },
        {
          "output_type": "display_data",
          "data": {
            "image/svg+xml": "<?xml version=\"1.0\" encoding=\"UTF-8\" standalone=\"no\"?>\n<!DOCTYPE svg PUBLIC \"-//W3C//DTD SVG 1.1//EN\"\n \"http://www.w3.org/Graphics/SVG/1.1/DTD/svg11.dtd\">\n<!-- Generated by graphviz version 2.43.0 (0)\n -->\n<!-- Title: Tree Pages: 1 -->\n<svg width=\"803pt\" height=\"311pt\"\n viewBox=\"0.00 0.00 803.00 311.00\" xmlns=\"http://www.w3.org/2000/svg\" xmlns:xlink=\"http://www.w3.org/1999/xlink\">\n<g id=\"graph0\" class=\"graph\" transform=\"scale(1 1) rotate(0) translate(4 307)\">\n<title>Tree</title>\n<polygon fill=\"white\" stroke=\"transparent\" points=\"-4,4 -4,-307 799,-307 799,4 -4,4\"/>\n<!-- 0 -->\n<g id=\"node1\" class=\"node\">\n<title>0</title>\n<polygon fill=\"#fffefe\" stroke=\"black\" points=\"491.5,-303 310.5,-303 310.5,-250 491.5,-250 491.5,-303\"/>\n<text text-anchor=\"middle\" x=\"401\" y=\"-287.8\" font-family=\"Helvetica,sans-Serif\" font-size=\"14.00\">correlate_63_b &lt;= 11750.0</text>\n<text text-anchor=\"middle\" x=\"401\" y=\"-272.8\" font-family=\"Helvetica,sans-Serif\" font-size=\"14.00\">samples = 100.0%</text>\n<text text-anchor=\"middle\" x=\"401\" y=\"-257.8\" font-family=\"Helvetica,sans-Serif\" font-size=\"14.00\">value = [0.34, 0.337, 0.322]</text>\n</g>\n<!-- 1 -->\n<g id=\"node2\" class=\"node\">\n<title>1</title>\n<polygon fill=\"#d8fae6\" stroke=\"black\" points=\"392,-214 204,-214 204,-161 392,-161 392,-214\"/>\n<text text-anchor=\"middle\" x=\"298\" y=\"-198.8\" font-family=\"Helvetica,sans-Serif\" font-size=\"14.00\">covmat_87_b &lt;= 18.4</text>\n<text text-anchor=\"middle\" x=\"298\" y=\"-183.8\" font-family=\"Helvetica,sans-Serif\" font-size=\"14.00\">samples = 63.7%</text>\n<text text-anchor=\"middle\" x=\"298\" y=\"-168.8\" font-family=\"Helvetica,sans-Serif\" font-size=\"14.00\">value = [0.068, 0.524, 0.408]</text>\n</g>\n<!-- 0&#45;&gt;1 -->\n<g id=\"edge1\" class=\"edge\">\n<title>0&#45;&gt;1</title>\n<path fill=\"none\" stroke=\"black\" d=\"M370.65,-249.87C359.85,-240.75 347.55,-230.35 336.18,-220.75\"/>\n<polygon fill=\"black\" stroke=\"black\" points=\"338.38,-218.03 328.49,-214.25 333.87,-223.38 338.38,-218.03\"/>\n<text text-anchor=\"middle\" x=\"330.58\" y=\"-235.46\" font-family=\"Helvetica,sans-Serif\" font-size=\"14.00\">True</text>\n</g>\n<!-- 60 -->\n<g id=\"node9\" class=\"node\">\n<title>60</title>\n<polygon fill=\"#ea9c63\" stroke=\"black\" points=\"598,-214 410,-214 410,-161 598,-161 598,-214\"/>\n<text text-anchor=\"middle\" x=\"504\" y=\"-198.8\" font-family=\"Helvetica,sans-Serif\" font-size=\"14.00\">min_q_8_a &lt;= 0.02</text>\n<text text-anchor=\"middle\" x=\"504\" y=\"-183.8\" font-family=\"Helvetica,sans-Serif\" font-size=\"14.00\">samples = 36.3%</text>\n<text text-anchor=\"middle\" x=\"504\" y=\"-168.8\" font-family=\"Helvetica,sans-Serif\" font-size=\"14.00\">value = [0.825, 0.006, 0.169]</text>\n</g>\n<!-- 0&#45;&gt;60 -->\n<g id=\"edge8\" class=\"edge\">\n<title>0&#45;&gt;60</title>\n<path fill=\"none\" stroke=\"black\" d=\"M431.35,-249.87C442.15,-240.75 454.45,-230.35 465.82,-220.75\"/>\n<polygon fill=\"black\" stroke=\"black\" points=\"468.13,-223.38 473.51,-214.25 463.62,-218.03 468.13,-223.38\"/>\n<text text-anchor=\"middle\" x=\"471.42\" y=\"-235.46\" font-family=\"Helvetica,sans-Serif\" font-size=\"14.00\">False</text>\n</g>\n<!-- 2 -->\n<g id=\"node3\" class=\"node\">\n<title>2</title>\n<polygon fill=\"#a978ed\" stroke=\"black\" points=\"188,-125 0,-125 0,-72 188,-72 188,-125\"/>\n<text text-anchor=\"middle\" x=\"94\" y=\"-109.8\" font-family=\"Helvetica,sans-Serif\" font-size=\"14.00\">covmat_48_a &lt;= &#45;44.8</text>\n<text text-anchor=\"middle\" x=\"94\" y=\"-94.8\" font-family=\"Helvetica,sans-Serif\" font-size=\"14.00\">samples = 32.5%</text>\n<text text-anchor=\"middle\" x=\"94\" y=\"-79.8\" font-family=\"Helvetica,sans-Serif\" font-size=\"14.00\">value = [0.111, 0.158, 0.732]</text>\n</g>\n<!-- 1&#45;&gt;2 -->\n<g id=\"edge2\" class=\"edge\">\n<title>1&#45;&gt;2</title>\n<path fill=\"none\" stroke=\"black\" d=\"M238.17,-160.98C214.72,-150.98 187.65,-139.44 163.34,-129.07\"/>\n<polygon fill=\"black\" stroke=\"black\" points=\"164.4,-125.72 153.83,-125.01 161.65,-132.16 164.4,-125.72\"/>\n</g>\n<!-- 37 -->\n<g id=\"node6\" class=\"node\">\n<title>37</title>\n<polygon fill=\"#4de88e\" stroke=\"black\" points=\"394,-125 206,-125 206,-72 394,-72 394,-125\"/>\n<text text-anchor=\"middle\" x=\"300\" y=\"-109.8\" font-family=\"Helvetica,sans-Serif\" font-size=\"14.00\">mean_d_8_a &lt;= 21.7</text>\n<text text-anchor=\"middle\" x=\"300\" y=\"-94.8\" font-family=\"Helvetica,sans-Serif\" font-size=\"14.00\">samples = 31.2%</text>\n<text text-anchor=\"middle\" x=\"300\" y=\"-79.8\" font-family=\"Helvetica,sans-Serif\" font-size=\"14.00\">value = [0.024, 0.906, 0.071]</text>\n</g>\n<!-- 1&#45;&gt;37 -->\n<g id=\"edge5\" class=\"edge\">\n<title>1&#45;&gt;37</title>\n<path fill=\"none\" stroke=\"black\" d=\"M298.59,-160.87C298.77,-152.89 298.98,-143.93 299.18,-135.38\"/>\n<polygon fill=\"black\" stroke=\"black\" points=\"302.68,-135.33 299.41,-125.25 295.68,-135.17 302.68,-135.33\"/>\n</g>\n<!-- 3 -->\n<g id=\"node4\" class=\"node\">\n<title>3</title>\n<polygon fill=\"#c0c0c0\" stroke=\"black\" points=\"85,-36 31,-36 31,0 85,0 85,-36\"/>\n<text text-anchor=\"middle\" x=\"58\" y=\"-14.3\" font-family=\"Helvetica,sans-Serif\" font-size=\"14.00\">(...)</text>\n</g>\n<!-- 2&#45;&gt;3 -->\n<g id=\"edge3\" class=\"edge\">\n<title>2&#45;&gt;3</title>\n<path fill=\"none\" stroke=\"black\" d=\"M82.21,-71.8C78.34,-63.35 74.03,-53.95 70.13,-45.45\"/>\n<polygon fill=\"black\" stroke=\"black\" points=\"73.3,-43.96 65.95,-36.33 66.93,-46.88 73.3,-43.96\"/>\n</g>\n<!-- 16 -->\n<g id=\"node5\" class=\"node\">\n<title>16</title>\n<polygon fill=\"#c0c0c0\" stroke=\"black\" points=\"157,-36 103,-36 103,0 157,0 157,-36\"/>\n<text text-anchor=\"middle\" x=\"130\" y=\"-14.3\" font-family=\"Helvetica,sans-Serif\" font-size=\"14.00\">(...)</text>\n</g>\n<!-- 2&#45;&gt;16 -->\n<g id=\"edge4\" class=\"edge\">\n<title>2&#45;&gt;16</title>\n<path fill=\"none\" stroke=\"black\" d=\"M105.79,-71.8C109.66,-63.35 113.97,-53.95 117.87,-45.45\"/>\n<polygon fill=\"black\" stroke=\"black\" points=\"121.07,-46.88 122.05,-36.33 114.7,-43.96 121.07,-46.88\"/>\n</g>\n<!-- 38 -->\n<g id=\"node7\" class=\"node\">\n<title>38</title>\n<polygon fill=\"#c0c0c0\" stroke=\"black\" points=\"306,-36 252,-36 252,0 306,0 306,-36\"/>\n<text text-anchor=\"middle\" x=\"279\" y=\"-14.3\" font-family=\"Helvetica,sans-Serif\" font-size=\"14.00\">(...)</text>\n</g>\n<!-- 37&#45;&gt;38 -->\n<g id=\"edge6\" class=\"edge\">\n<title>37&#45;&gt;38</title>\n<path fill=\"none\" stroke=\"black\" d=\"M293.12,-71.8C290.91,-63.53 288.46,-54.35 286.22,-46\"/>\n<polygon fill=\"black\" stroke=\"black\" points=\"289.6,-45.09 283.64,-36.33 282.84,-46.9 289.6,-45.09\"/>\n</g>\n<!-- 53 -->\n<g id=\"node8\" class=\"node\">\n<title>53</title>\n<polygon fill=\"#c0c0c0\" stroke=\"black\" points=\"378,-36 324,-36 324,0 378,0 378,-36\"/>\n<text text-anchor=\"middle\" x=\"351\" y=\"-14.3\" font-family=\"Helvetica,sans-Serif\" font-size=\"14.00\">(...)</text>\n</g>\n<!-- 37&#45;&gt;53 -->\n<g id=\"edge7\" class=\"edge\">\n<title>37&#45;&gt;53</title>\n<path fill=\"none\" stroke=\"black\" d=\"M316.7,-71.8C322.31,-63.17 328.56,-53.54 334.17,-44.9\"/>\n<polygon fill=\"black\" stroke=\"black\" points=\"337.23,-46.62 339.74,-36.33 331.36,-42.81 337.23,-46.62\"/>\n</g>\n<!-- 61 -->\n<g id=\"node10\" class=\"node\">\n<title>61</title>\n<polygon fill=\"#e78d4b\" stroke=\"black\" points=\"588.5,-125 415.5,-125 415.5,-72 588.5,-72 588.5,-125\"/>\n<text text-anchor=\"middle\" x=\"502\" y=\"-109.8\" font-family=\"Helvetica,sans-Serif\" font-size=\"14.00\">max_q_32_a &lt;= 271.5</text>\n<text text-anchor=\"middle\" x=\"502\" y=\"-94.8\" font-family=\"Helvetica,sans-Serif\" font-size=\"14.00\">samples = 32.0%</text>\n<text text-anchor=\"middle\" x=\"502\" y=\"-79.8\" font-family=\"Helvetica,sans-Serif\" font-size=\"14.00\">value = [0.916, 0.0, 0.084]</text>\n</g>\n<!-- 60&#45;&gt;61 -->\n<g id=\"edge9\" class=\"edge\">\n<title>60&#45;&gt;61</title>\n<path fill=\"none\" stroke=\"black\" d=\"M503.41,-160.87C503.23,-152.89 503.02,-143.93 502.82,-135.38\"/>\n<polygon fill=\"black\" stroke=\"black\" points=\"506.32,-135.17 502.59,-125.25 499.32,-135.33 506.32,-135.17\"/>\n</g>\n<!-- 92 -->\n<g id=\"node13\" class=\"node\">\n<title>92</title>\n<polygon fill=\"#9456e9\" stroke=\"black\" points=\"795,-125 607,-125 607,-72 795,-72 795,-125\"/>\n<text text-anchor=\"middle\" x=\"701\" y=\"-109.8\" font-family=\"Helvetica,sans-Serif\" font-size=\"14.00\">stddev_1_a &lt;= 4.865</text>\n<text text-anchor=\"middle\" x=\"701\" y=\"-94.8\" font-family=\"Helvetica,sans-Serif\" font-size=\"14.00\">samples = 4.3%</text>\n<text text-anchor=\"middle\" x=\"701\" y=\"-79.8\" font-family=\"Helvetica,sans-Serif\" font-size=\"14.00\">value = [0.085, 0.051, 0.864]</text>\n</g>\n<!-- 60&#45;&gt;92 -->\n<g id=\"edge12\" class=\"edge\">\n<title>60&#45;&gt;92</title>\n<path fill=\"none\" stroke=\"black\" d=\"M561.78,-160.98C584.43,-150.98 610.57,-139.44 634.04,-129.07\"/>\n<polygon fill=\"black\" stroke=\"black\" points=\"635.49,-132.26 643.23,-125.01 632.66,-125.85 635.49,-132.26\"/>\n</g>\n<!-- 62 -->\n<g id=\"node11\" class=\"node\">\n<title>62</title>\n<polygon fill=\"#c0c0c0\" stroke=\"black\" points=\"477,-36 423,-36 423,0 477,0 477,-36\"/>\n<text text-anchor=\"middle\" x=\"450\" y=\"-14.3\" font-family=\"Helvetica,sans-Serif\" font-size=\"14.00\">(...)</text>\n</g>\n<!-- 61&#45;&gt;62 -->\n<g id=\"edge10\" class=\"edge\">\n<title>61&#45;&gt;62</title>\n<path fill=\"none\" stroke=\"black\" d=\"M484.97,-71.8C479.26,-63.17 472.88,-53.54 467.16,-44.9\"/>\n<polygon fill=\"black\" stroke=\"black\" points=\"469.92,-42.73 461.48,-36.33 464.08,-46.6 469.92,-42.73\"/>\n</g>\n<!-- 91 -->\n<g id=\"node12\" class=\"node\">\n<title>91</title>\n<polygon fill=\"#c0c0c0\" stroke=\"black\" points=\"549,-36 495,-36 495,0 549,0 549,-36\"/>\n<text text-anchor=\"middle\" x=\"522\" y=\"-14.3\" font-family=\"Helvetica,sans-Serif\" font-size=\"14.00\">(...)</text>\n</g>\n<!-- 61&#45;&gt;91 -->\n<g id=\"edge11\" class=\"edge\">\n<title>61&#45;&gt;91</title>\n<path fill=\"none\" stroke=\"black\" d=\"M508.55,-71.8C510.63,-63.62 512.94,-54.55 515.05,-46.27\"/>\n<polygon fill=\"black\" stroke=\"black\" points=\"518.51,-46.88 517.58,-36.33 511.72,-45.16 518.51,-46.88\"/>\n</g>\n<!-- 93 -->\n<g id=\"node14\" class=\"node\">\n<title>93</title>\n<polygon fill=\"#c0c0c0\" stroke=\"black\" points=\"692,-36 638,-36 638,0 692,0 692,-36\"/>\n<text text-anchor=\"middle\" x=\"665\" y=\"-14.3\" font-family=\"Helvetica,sans-Serif\" font-size=\"14.00\">(...)</text>\n</g>\n<!-- 92&#45;&gt;93 -->\n<g id=\"edge13\" class=\"edge\">\n<title>92&#45;&gt;93</title>\n<path fill=\"none\" stroke=\"black\" d=\"M689.21,-71.8C685.34,-63.35 681.03,-53.95 677.13,-45.45\"/>\n<polygon fill=\"black\" stroke=\"black\" points=\"680.3,-43.96 672.95,-36.33 673.93,-46.88 680.3,-43.96\"/>\n</g>\n<!-- 96 -->\n<g id=\"node15\" class=\"node\">\n<title>96</title>\n<polygon fill=\"#c0c0c0\" stroke=\"black\" points=\"764,-36 710,-36 710,0 764,0 764,-36\"/>\n<text text-anchor=\"middle\" x=\"737\" y=\"-14.3\" font-family=\"Helvetica,sans-Serif\" font-size=\"14.00\">(...)</text>\n</g>\n<!-- 92&#45;&gt;96 -->\n<g id=\"edge14\" class=\"edge\">\n<title>92&#45;&gt;96</title>\n<path fill=\"none\" stroke=\"black\" d=\"M712.79,-71.8C716.66,-63.35 720.97,-53.95 724.87,-45.45\"/>\n<polygon fill=\"black\" stroke=\"black\" points=\"728.07,-46.88 729.05,-36.33 721.7,-43.96 728.07,-46.88\"/>\n</g>\n</g>\n</svg>\n",
            "text/plain": [
              "<graphviz.sources.Source at 0x7bebf68f44f0>"
            ]
          },
          "metadata": {}
        }
      ]
    },
    {
      "cell_type": "markdown",
      "source": [
        "# Cross Validation using K-Fold method with fold value of 5.\n",
        "Perform cross validation using cross_val_score with cv=5."
      ],
      "metadata": {
        "id": "-l6-brH_mDJK"
      }
    },
    {
      "cell_type": "code",
      "source": [
        "cv_scores = cross_val_score(rf, X, y, cv=5)  # 5-fold cross-validation\n",
        "\n",
        "# Print the cross-validation scores\n",
        "print(\"Cross-validation scores:\", cv_scores)\n",
        "\n",
        "# Calculate and print the mean accuracy\n",
        "mean_accuracy = np.mean(cv_scores)\n",
        "print(\"Mean Accuracy:\", mean_accuracy)"
      ],
      "metadata": {
        "colab": {
          "base_uri": "https://localhost:8080/"
        },
        "id": "gKYAR697mDJK",
        "outputId": "7593378d-3a01-4676-d700-8f25d74f166a"
      },
      "execution_count": 106,
      "outputs": [
        {
          "output_type": "stream",
          "name": "stdout",
          "text": [
            "Cross-validation scores: [0.96955504 0.98126464 0.98591549 0.96713615 0.9741784 ]\n",
            "Mean Accuracy: 0.9756099438159008\n"
          ]
        }
      ]
    }
  ]
}